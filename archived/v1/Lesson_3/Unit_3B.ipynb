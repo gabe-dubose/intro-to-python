{
 "cells": [
  {
   "cell_type": "markdown",
   "id": "d48626ed",
   "metadata": {},
   "source": [
    "## Unit 3B: How to use Loops"
   ]
  },
  {
   "cell_type": "markdown",
   "id": "311712a0",
   "metadata": {},
   "source": [
    "One of the key functionalities offered by modern computers is quick iteration, often referred to as looping. <b>Loops</b> allow you to define a set of instructions and have a computer perform said instructions until some condition is met. Loops can be applied to anything that is <b>iterable</b>. The definition of an iterable is a little redundant: basically, anything that can be looped over. For example, you can loop through each letter in a string or each item in a list. This module is perhaps one of the most important because it will allow you to automate many of the tasks that we have covered so far.  "
   ]
  },
  {
   "cell_type": "markdown",
   "id": "51f40701",
   "metadata": {},
   "source": [
    "### for loops"
   ]
  },
  {
   "cell_type": "markdown",
   "id": "76295e76",
   "metadata": {},
   "source": [
    "<b>For loops</b> iterate through each item in an iterable (string, list, number, etc.). Consider and scenario where we have a list, and we want to print each item in the list. We could print each element 1 by 1 using their position in the list:"
   ]
  },
  {
   "cell_type": "code",
   "execution_count": 1,
   "id": "8578d601",
   "metadata": {},
   "outputs": [
    {
     "name": "stdout",
     "output_type": "stream",
     "text": [
      "Concrete Jungle\n",
      "HumAnS Lab\n",
      "The Bakery\n",
      "The Carter Center\n",
      "GreenLight Fund\n"
     ]
    }
   ],
   "source": [
    "clients = ['Concrete Jungle', 'HumAnS Lab', 'The Bakery', 'The Carter Center', 'GreenLight Fund']\n",
    "\n",
    "print(clients[0])\n",
    "print(clients[1])\n",
    "print(clients[2])\n",
    "print(clients[3])\n",
    "print(clients[4])"
   ]
  },
  {
   "cell_type": "markdown",
   "id": "896a0536",
   "metadata": {},
   "source": [
    "It's not very convenient to write 5 print statements. Now say you have a list that has 100 items in it. Luckily, for loops allow use to iterate through each item in the list a print it, without writing a ton of print statements. In plain English: \"For each item in this list, print the item.\" The syntax for a for loop is:\n",
    "\n",
    "    for item in iterable:\n",
    "        perform_task\n",
    "        \n",
    "*<i>Notice that all tasks inside of a loop are indented. In Python, this indentation can be a tab character or four spaces</i>"
   ]
  },
  {
   "cell_type": "code",
   "execution_count": 2,
   "id": "a660a852",
   "metadata": {},
   "outputs": [
    {
     "name": "stdout",
     "output_type": "stream",
     "text": [
      "Concrete Jungle\n",
      "HumAnS Lab\n",
      "The Bakery\n",
      "The Carter Center\n",
      "GreenLight Fund\n"
     ]
    }
   ],
   "source": [
    "clients = ['Concrete Jungle', 'HumAnS Lab', 'The Bakery', 'The Carter Center', 'GreenLight Fund']\n",
    "\n",
    "for client in clients:\n",
    "    print(client)"
   ]
  },
  {
   "cell_type": "markdown",
   "id": "7d556815",
   "metadata": {},
   "source": [
    "Let's talk about what happened a bit more technically. When we make a for loop, we iterate through each item in a an iterable (a list in the previous example) and assign it to a variable. In the example above, we called the variable \"client.\" Just as with any variable, we can call it whatever we want."
   ]
  },
  {
   "cell_type": "code",
   "execution_count": 3,
   "id": "dd44f4ff",
   "metadata": {
    "scrolled": true
   },
   "outputs": [
    {
     "name": "stdout",
     "output_type": "stream",
     "text": [
      "Concrete Jungle\n",
      "HumAnS Lab\n",
      "The Bakery\n",
      "The Carter Center\n",
      "GreenLight Fund\n"
     ]
    }
   ],
   "source": [
    "clients = ['Concrete Jungle', 'HumAnS Lab', 'The Bakery', 'The Carter Center', 'GreenLight Fund']\n",
    "\n",
    "for variable in clients:\n",
    "    print(variable)"
   ]
  },
  {
   "cell_type": "markdown",
   "id": "256dddb8",
   "metadata": {},
   "source": [
    "In the example above, we simply called the variable name \"variable\". We can manipulate the variable just as we could any other variable. Say we want to loop through the clients list and get the first word in each of the clients names.\n",
    "\n",
    "We know that we can get the first word in a string by splitting the string by spaces using .split(), and then selecting the first element from the resulting list. Using a for loop, we can iterate through each client in the list and perform the same operation to each."
   ]
  },
  {
   "cell_type": "code",
   "execution_count": 4,
   "id": "4d21d6ed",
   "metadata": {},
   "outputs": [
    {
     "name": "stdout",
     "output_type": "stream",
     "text": [
      "Concrete\n",
      "HumAnS\n",
      "The\n",
      "The\n",
      "GreenLight\n"
     ]
    }
   ],
   "source": [
    "clients = ['Concrete Jungle', 'HumAnS Lab', 'The Bakery', 'The Carter Center', 'GreenLight Fund']\n",
    "\n",
    "for client in clients:\n",
    "    first_word = client.split(\" \")[0]\n",
    "    print(first_word)"
   ]
  },
  {
   "cell_type": "markdown",
   "id": "3d02f3be",
   "metadata": {},
   "source": [
    "Just as with lists, we can iterate through strings as well:"
   ]
  },
  {
   "cell_type": "code",
   "execution_count": 5,
   "id": "23962ee5",
   "metadata": {
    "scrolled": true
   },
   "outputs": [
    {
     "name": "stdout",
     "output_type": "stream",
     "text": [
      "T\n",
      "h\n",
      "e\n",
      " \n",
      "B\n",
      "a\n",
      "k\n",
      "e\n",
      "r\n",
      "y\n"
     ]
    }
   ],
   "source": [
    "a_client = \"The Bakery\"\n",
    "\n",
    "for letter in a_client:\n",
    "    print(letter)"
   ]
  },
  {
   "cell_type": "markdown",
   "id": "b844d9ac",
   "metadata": {},
   "source": [
    "### logic in for loops"
   ]
  },
  {
   "cell_type": "markdown",
   "id": "96103dd5",
   "metadata": {},
   "source": [
    "You can do anything within a for loop that you can do outside of a for loop. This includes using logical statements (if, else, elif). In Unit 3A, we discussed the <i>in</i> function, that would tell us if our variable was in a list or not. Just for the sake of demonstration purposes, let's make a for loop that will do the same thing as <i>in</i>."
   ]
  },
  {
   "cell_type": "code",
   "execution_count": 6,
   "id": "5dde5d89",
   "metadata": {},
   "outputs": [
    {
     "name": "stdout",
     "output_type": "stream",
     "text": [
      "We have worked with The Bakery before!\n"
     ]
    }
   ],
   "source": [
    "previous_clients = ['Concrete Jungle', 'HumAnS Lab', 'The Bakery', 'The Carter Center', 'GreenLight Fund']\n",
    "\n",
    "a_client = 'The Bakery'\n",
    "\n",
    "for client in previous_clients:\n",
    "    if client == a_client:\n",
    "        print(f\"We have worked with {a_client} before!\")"
   ]
  },
  {
   "cell_type": "markdown",
   "id": "c3320645",
   "metadata": {},
   "source": [
    "In the example above, we iterated through each client in the <i>previous_clients</i> list using a for loop. Inside of that for loop, we checked to see if the <i>a_client</i> variable matched each item in the list using an if statement. If this condition was met, we printed a statement saying we had worked with the client before. \n",
    "\n",
    "This behavior does not exactly replicate <i>in</i> because if <i>a_client</i> was not in the <i>previous_clients</i>, nothing happens. Let's try to add an else statement to print the message that we have not worked with the client if it is not in the previous_clients list."
   ]
  },
  {
   "cell_type": "code",
   "execution_count": 7,
   "id": "c55cfb50",
   "metadata": {},
   "outputs": [
    {
     "name": "stdout",
     "output_type": "stream",
     "text": [
      "We have NOT worked with The Bakery before.\n",
      "We have NOT worked with The Bakery before.\n",
      "We have worked with The Bakery before!\n",
      "We have NOT worked with The Bakery before.\n",
      "We have NOT worked with The Bakery before.\n"
     ]
    }
   ],
   "source": [
    "previous_clients = ['Concrete Jungle', 'HumAnS Lab', 'The Bakery', 'The Carter Center', 'GreenLight Fund']\n",
    "\n",
    "a_client = 'The Bakery'\n",
    "\n",
    "for client in previous_clients:\n",
    "    if client == a_client:\n",
    "        print(f\"We have worked with {a_client} before!\")\n",
    "    else:\n",
    "        print(f\"We have NOT worked with {a_client} before.\")"
   ]
  },
  {
   "cell_type": "markdown",
   "id": "cc168096",
   "metadata": {},
   "source": [
    "Well this is problematic. We don't want to print that we haven't worked with the client if it doesn't match EACH value in the list. We just want to print that we have worked with the client if the client is in the list, and that we haven't if it is not in the list. \n",
    "\n",
    "The easiest way to accomplish this is by adding <b>dummy variable</b> that is initially set to 0. If <i>a_client</i> is in the list, we add 1 to the dummy variable. This introduces one new data type we haven't discussed before: an integer. An <b>integer</b> is just a number that you can perform mathematical calculations with. We make this distinction because you can save a number as a string as well, but you cannot add, subtract, multiply, or divide it. \n",
    "\n",
    "When we initialize our dummy variable, we will set it to 0. We need this to be an integer, because we will want to add 1 to it if the a_client variable is seen in the list. Then we can logically evaluate our dummy variable: if the dummy variable is still 0, it means we didn't see <i>a_client</i> in the list. If it is 1, it means we did. "
   ]
  },
  {
   "cell_type": "code",
   "execution_count": 8,
   "id": "f7ae61f0",
   "metadata": {},
   "outputs": [
    {
     "name": "stdout",
     "output_type": "stream",
     "text": [
      "We have worked with The Bakery before!\n"
     ]
    }
   ],
   "source": [
    "previous_clients = ['Concrete Jungle', 'HumAnS Lab', 'The Bakery', 'The Carter Center', 'GreenLight Fund']\n",
    "\n",
    "a_client = 'The Bakery'\n",
    "\n",
    "client_check = 0\n",
    "\n",
    "for client in previous_clients:\n",
    "    if client == a_client:\n",
    "        client_check += 1\n",
    "\n",
    "if client_check == 1:\n",
    "    print(f\"We have worked with {a_client} before!\")\n",
    "else:\n",
    "    print(f\"We have NOT worked with {a_client} before.\")"
   ]
  },
  {
   "cell_type": "markdown",
   "id": "bba45ecf",
   "metadata": {},
   "source": [
    "In the example above, we called our dummy variable \"client_check\" and set it equal to 0. In order to add 1 to it, we simply say  <b>client_check += 1</b>, meaning we want to add 1 to it. As you might suspect, if we wanted to subtract 1, we would use <b>-=</b>. Overall, creating a program that mimics the behavior of <i>in</i> allowed us to introduce integers and get a little more practice using logic with for loops."
   ]
  },
  {
   "cell_type": "markdown",
   "id": "e3f8d886",
   "metadata": {},
   "source": [
    "### range()"
   ]
  },
  {
   "cell_type": "markdown",
   "id": "18b20a75",
   "metadata": {},
   "source": [
    "So far we have mostly discussed iterables as strings and lists. However, we can also iterate through a range of numbers using the <b>range()</b> function. Range will take a number as an argument, and assign each number leading up to that number to a variable. "
   ]
  },
  {
   "cell_type": "code",
   "execution_count": 9,
   "id": "42a0d05b",
   "metadata": {},
   "outputs": [
    {
     "name": "stdout",
     "output_type": "stream",
     "text": [
      "0\n",
      "1\n",
      "2\n",
      "3\n",
      "4\n"
     ]
    }
   ],
   "source": [
    "for number in range(5):\n",
    "    print(number)"
   ]
  },
  {
   "cell_type": "markdown",
   "id": "4a21d91e",
   "metadata": {},
   "source": [
    "In the example above, we iterated through each number up until 5 using a for loop. Recall that Python starts counting at 0, and that counting is exclusive (it doesn't include the last number) so the numbers we got were actually 0-4. We can also specify where we want to start and stop our iteration by adding a second number, separated by a comma. In the example below, we start our iteration at 5, and print all the way up through 9."
   ]
  },
  {
   "cell_type": "code",
   "execution_count": 10,
   "id": "ee5f78fb",
   "metadata": {},
   "outputs": [
    {
     "name": "stdout",
     "output_type": "stream",
     "text": [
      "5\n",
      "6\n",
      "7\n",
      "8\n",
      "9\n"
     ]
    }
   ],
   "source": [
    "for number in range(5,10):\n",
    "    print(number)"
   ]
  },
  {
   "cell_type": "markdown",
   "id": "d932bd37",
   "metadata": {},
   "source": [
    "Using the range function is nice when you aren't trying to iterate through every item in an iterable; rather, you want to iterate through the items a set number of times. Consider we have our usual list of clients, and we only want to print the first 3 clients in the list. We can do this with range:"
   ]
  },
  {
   "cell_type": "code",
   "execution_count": 11,
   "id": "78142dd8",
   "metadata": {
    "scrolled": false
   },
   "outputs": [
    {
     "name": "stdout",
     "output_type": "stream",
     "text": [
      "Concrete Jungle\n",
      "HumAnS Lab\n",
      "The Bakery\n"
     ]
    }
   ],
   "source": [
    "previous_clients = ['Concrete Jungle', 'HumAnS Lab', 'The Bakery', 'The Carter Center', 'GreenLight Fund']\n",
    "\n",
    "for i in range(3):\n",
    "    print(previous_clients[i])"
   ]
  },
  {
   "cell_type": "markdown",
   "id": "5d8c72b9",
   "metadata": {},
   "source": [
    "In the example above, we used range to assign the numbers from 0-2 to the variable <b>i</b>, and then we used <b>i</b> to print the item at the corresponding position in the previous_clients list. Of course you could just select the first 3 items in the list using [start:stop] notation, and then print this new sublist in a for loop. "
   ]
  },
  {
   "cell_type": "markdown",
   "id": "3743a24e",
   "metadata": {},
   "source": [
    "### while loops"
   ]
  },
  {
   "cell_type": "markdown",
   "id": "c8e75994",
   "metadata": {},
   "source": [
    "For loops will iterate through each element in an iterable. Using some iterable data structure (strings and lists), the loop will break once it has reached the end of the list. Using a number, the loop will break once the final number has been reached. What if you want the loop to break based on some other condition, as opposed to the number of times it runs? For this, we can use a while loop. <b>While loops</b> are a type of loop that will continue to iterate until some logical statement is negated. \n",
    "\n",
    "For example, we can also iterate through a range of numbers using a while loop, as opposed to the range function. In the example below, we initialize a dummy variable at 0 and call it \"counter\". Then we say that while counter is less than 3, we want to print the counters position in the previous_clients list, and then add 1 to the counter. Once the counter reaches 3, the condition that the while loop is evaluating (checking to see if the counter is less than 3) will become false, and the loop will break."
   ]
  },
  {
   "cell_type": "code",
   "execution_count": 12,
   "id": "02827fe0",
   "metadata": {},
   "outputs": [
    {
     "name": "stdout",
     "output_type": "stream",
     "text": [
      "Concrete Jungle\n",
      "HumAnS Lab\n",
      "The Bakery\n"
     ]
    }
   ],
   "source": [
    "previous_clients = ['Concrete Jungle', 'HumAnS Lab', 'The Bakery', 'The Carter Center', 'GreenLight Fund']\n",
    "\n",
    "counter = 0 \n",
    "\n",
    "while counter < 3:\n",
    "    print(previous_clients[counter])\n",
    "    counter += 1   "
   ]
  },
  {
   "cell_type": "markdown",
   "id": "772a7339",
   "metadata": {},
   "source": [
    "Adding 1 to the counter is important. If we forget this step, we will create an <b>infinite loop</b> because the condition will never be false (the counter will always be 0, which is less than 3). In the video associated with this notebook, we discuss what to do if you accidentally create an infinite loop. \n",
    "\n",
    "Conceptually, when to use a for loop or a while loop comes down to how you want the loop to break. If you want the loop to break after iterating a certain number of times, you can use a for loop. If you want the loop to break because a conditional is negated, you can use a while loop. Of course, you can also use while loops to iterate a certain number of times, as we did in the previous example. It ultimately comes down to what you feel the most comfortable with and how it's easiest for your brain to think about things."
   ]
  },
  {
   "cell_type": "markdown",
   "id": "9de25ac8",
   "metadata": {},
   "source": [
    "### Nested loops"
   ]
  },
  {
   "cell_type": "markdown",
   "id": "32780a35",
   "metadata": {},
   "source": [
    "A <b>nested loop</b> is a loop inside of a loop. For example, we can put a for loop inside of another for loop. The list below is a list of lists that contains the latitude (1st value in each sub-list) and longitude (2nd value in each sub-list), as well as the client name (3rd value in each sub-list). Say we want to just extract the client names and save them in a new list. "
   ]
  },
  {
   "cell_type": "code",
   "execution_count": 13,
   "id": "23e852aa",
   "metadata": {},
   "outputs": [
    {
     "name": "stdout",
     "output_type": "stream",
     "text": [
      "['The GreenLight Fund', 'The Carter Center', 'The Bakery', 'HumAnS Lab', 'Concrete Jungle']\n"
     ]
    }
   ],
   "source": [
    "coordinates = [[33.7672720, -84.4001850, 'The GreenLight Fund'],[33.7675631, -84.3568733, 'The Carter Center'],[33.7520411, -84.3917386, 'The Bakery'],[33.7770004, -84.3971980, 'HumAnS Lab'],[33.7055137, -84.4241944, 'Concrete Jungle']]\n",
    "clients = []\n",
    "\n",
    "for entry in coordinates:\n",
    "    for item in entry:\n",
    "        if type(item) == str:\n",
    "            clients.append(item)\n",
    "        \n",
    "print(clients)\n",
    "\n"
   ]
  },
  {
   "cell_type": "markdown",
   "id": "0a23da34",
   "metadata": {},
   "source": [
    "The example above contains several things we haven't discussed yet. First, the latitude and longitude values are stored in a data type called a <b>float</b>, which is how we store decimal numbers. Second, we used the <b>type()</b> function to check the type of our variable. Let's explore this a little bit before moving on.\n",
    "\n",
    "The <b>type()</b> function returns what type your data or variable is. Below is just a brief demonstration of what these values look like:"
   ]
  },
  {
   "cell_type": "code",
   "execution_count": 14,
   "id": "49f61612",
   "metadata": {
    "scrolled": true
   },
   "outputs": [
    {
     "name": "stdout",
     "output_type": "stream",
     "text": [
      "<class 'int'>\n",
      "<class 'float'>\n",
      "<class 'str'>\n",
      "<class 'list'>\n"
     ]
    }
   ],
   "source": [
    "type_demo_list = [5, 5.534234, 'This is a string', [1,2,3,4]]\n",
    "for item in type_demo_list:\n",
    "    print(type(item))"
   ]
  },
  {
   "cell_type": "markdown",
   "id": "cef26b8e",
   "metadata": {},
   "source": [
    "In the example above, the \"type_demo_list\" list contains several different data types. We simply iterated through this and list and printed the data type, also known as a <b>class</b>. We wont get too far into what classes are, so for now you can think of them as what the data type is. The fist value in the list is an integer ('int'), the second is a float ('float'), the third is a string ('str'), and the fourth is a list ('list'). \n",
    "\n",
    "Now going back to our original example, we checked what type the data is using an if statement. Then we say if the data is of type 'str' (string), then add it to the \"clients\" list.\n",
    "\n",
    "A nested loop can have any number of layers. You can also nest while loops within for loops and for loops within while loops."
   ]
  },
  {
   "cell_type": "markdown",
   "id": "e6d9e10f",
   "metadata": {},
   "source": [
    "By now one important thing you may be starting to realize is that there will be many different ways to do most tasks. Usually, it won't matter which way you pick. In applied purposes, it just matters that the task gets completed."
   ]
  },
  {
   "cell_type": "markdown",
   "id": "ba6cd3b2",
   "metadata": {},
   "source": [
    "### Practice Problems"
   ]
  },
  {
   "cell_type": "markdown",
   "id": "94a24409",
   "metadata": {},
   "source": [
    "Write a loop that will read the Recent_Project_Simple.html file (already in the working directory for this notebook) and print out each project's client name and website in a tab-separated fashion.\n",
    "\n",
    "Expected output:\n",
    "\n",
    "    The GreenLight Fund - Atlanta    https://greenlightfund.org/sites/atlanta/\n",
    "    The Carter Center    https://www.cartercenter.org/\n",
    "    The Bakery Atlanta    https://thebakeryatlanta.com/\n",
    "    HumAnS Lab at Georgia Tech    https://humanslab.ece.gatech.edu/\n",
    "    Concrete Jungle    https://www.concrete-jungle.org/"
   ]
  },
  {
   "cell_type": "code",
   "execution_count": 15,
   "id": "81e76980",
   "metadata": {},
   "outputs": [],
   "source": [
    "#write your solution below\n",
    "\n"
   ]
  }
 ],
 "metadata": {
  "kernelspec": {
   "display_name": "Python 3 (ipykernel)",
   "language": "python",
   "name": "python3"
  },
  "language_info": {
   "codemirror_mode": {
    "name": "ipython",
    "version": 3
   },
   "file_extension": ".py",
   "mimetype": "text/x-python",
   "name": "python",
   "nbconvert_exporter": "python",
   "pygments_lexer": "ipython3",
   "version": "3.9.12"
  }
 },
 "nbformat": 4,
 "nbformat_minor": 5
}
