{
 "cells": [
  {
   "cell_type": "markdown",
   "id": "bc352b27",
   "metadata": {},
   "source": [
    "## Unit 4B: How to Work with Tables"
   ]
  },
  {
   "cell_type": "markdown",
   "id": "8363e929",
   "metadata": {},
   "source": [
    "The overall goal of this course is to introduce Python by teaching you how to scrape a webpage into a table, and then work with said table. As of Unit 4A, we have completed the first part. Now, we are transitioning into writing tables and how to work with them. As we usually do, before diving into tables, let's discuss what a table really is.\n",
    "\n",
    "A <b>table</b> is a data structure used to organize information. If you have worked in Excel, this might seem intuitive. Tables are <b>structured</b>, meaning values in a column or row are usually related in some way. For example, all of the values under a column called \"GPS Coordinates\" are, well, GPS coordinates. We won't get into all of the different ways to store data. Right now, all that is important for you to keep in mind is that a table is more of a concept that helps us organize and visualize information. \n",
    "\n",
    "Tables can be created from many different types of data structures in Python. We could make a table entirely of strings or lists if we wanted to. This is perfectly fine, but it might not be the easiest to code or to understand. Since Python doesn't offer a built-in method for creating and visualizing tables, we will use the <b>Pandas</b> module."
   ]
  },
  {
   "cell_type": "markdown",
   "id": "82a90d11",
   "metadata": {},
   "source": [
    "### Reading Tables into Pandas Data Frames"
   ]
  },
  {
   "cell_type": "markdown",
   "id": "50d056ae",
   "metadata": {},
   "source": [
    "<i>This unit assumes you have already watched the video on how to install modules and that Pandas is already installed on your computer.</i>\n",
    "\n",
    "As mentioned in the introduction, Pandas is a module that is useful for storing and visualizing tables with Python. You might have some experience working with tables in Excel or some other software. You can think of this lesson the same way. While working with tables in other more visual softwares might be easier, this usually requires a lot of manual user input. The value of working with tables in Python is that we can automate many tasks and perform them very quickly.\n",
    "\n",
    "First we need to import pandas. For simplicity, we will import pandas under the alias \"pd\" because this will make using the functions in pandas simpler."
   ]
  },
  {
   "cell_type": "code",
   "execution_count": 1,
   "id": "844eb1bd",
   "metadata": {},
   "outputs": [],
   "source": [
    "import pandas as pd"
   ]
  },
  {
   "cell_type": "markdown",
   "id": "8d7985b0",
   "metadata": {},
   "source": [
    "In many cases you might have some sort of table stored on a file already, and you want to read this table into a pandas <b>data frame</b>, which you can think of a pandas implementation of a table structure. Pandas offers the <b>read_csv()</b> function to accomplish this. Although \"csv\" stands for \"comma separated values,\" pandas can read other table formats as well by specifying what your delimiter is.\n",
    "\n",
    "In the Lesson_4 directory, there is a table called \"recent_projects_info_table\" that is saved in both csv and tsv formats. Let's look at how to read both of these tables into a pandas data frame."
   ]
  },
  {
   "cell_type": "markdown",
   "id": "52d4964f",
   "metadata": {},
   "source": [
    "#### Reading Tables in CSV Format:"
   ]
  },
  {
   "cell_type": "code",
   "execution_count": 2,
   "id": "83bb9643",
   "metadata": {},
   "outputs": [],
   "source": [
    "data_csv_format = pd.read_csv('recent_projects_info_table.csv')"
   ]
  },
  {
   "cell_type": "markdown",
   "id": "0efb4781",
   "metadata": {},
   "source": [
    "You can print this data frame using the print function:"
   ]
  },
  {
   "cell_type": "code",
   "execution_count": 3,
   "id": "cd2848c3",
   "metadata": {},
   "outputs": [
    {
     "name": "stdout",
     "output_type": "stream",
     "text": [
      "             Project                         Client  \\\n",
      "0    GreenLight Fund  The GreenLight Fund - Atlanta   \n",
      "1  The Carter Center              The Carter Center   \n",
      "2         The Bakery             The Bakery Atlanta   \n",
      "3         Baby Kicks     HumAnS Lab at Georgia Tech   \n",
      "4    Concrete Jungle                Concrete Jungle   \n",
      "\n",
      "                                     Website            Main Location  \\\n",
      "0  https://greenlightfund.org/sites/atlanta/  33.7672720, -84.4001850   \n",
      "1              https://www.cartercenter.org/  33.7675631, -84.3568733   \n",
      "2              https://thebakeryatlanta.com/  33.7520411, -84.3917386   \n",
      "3          https://humanslab.ece.gatech.edu/  33.7770004, -84.3971980   \n",
      "4           https://www.concrete-jungle.org/  33.7055137, -84.4241944   \n",
      "\n",
      "   Task Count  Tool Count  \n",
      "0           2           4  \n",
      "1           2           2  \n",
      "2           2           2  \n",
      "3           2           1  \n",
      "4           1           5  \n"
     ]
    }
   ],
   "source": [
    "print(data_csv_format)"
   ]
  },
  {
   "cell_type": "markdown",
   "id": "48bf5976",
   "metadata": {},
   "source": [
    "Printing the table is not always the most visually intuitive way to view the data. In Jupyter Notebook, you can simply type the name of the data frame and run the cell to view the data in a more intuitive way:"
   ]
  },
  {
   "cell_type": "code",
   "execution_count": 4,
   "id": "e14c8bf4",
   "metadata": {
    "scrolled": true
   },
   "outputs": [
    {
     "data": {
      "text/html": [
       "<div>\n",
       "<style scoped>\n",
       "    .dataframe tbody tr th:only-of-type {\n",
       "        vertical-align: middle;\n",
       "    }\n",
       "\n",
       "    .dataframe tbody tr th {\n",
       "        vertical-align: top;\n",
       "    }\n",
       "\n",
       "    .dataframe thead th {\n",
       "        text-align: right;\n",
       "    }\n",
       "</style>\n",
       "<table border=\"1\" class=\"dataframe\">\n",
       "  <thead>\n",
       "    <tr style=\"text-align: right;\">\n",
       "      <th></th>\n",
       "      <th>Project</th>\n",
       "      <th>Client</th>\n",
       "      <th>Website</th>\n",
       "      <th>Main Location</th>\n",
       "      <th>Task Count</th>\n",
       "      <th>Tool Count</th>\n",
       "    </tr>\n",
       "  </thead>\n",
       "  <tbody>\n",
       "    <tr>\n",
       "      <th>0</th>\n",
       "      <td>GreenLight Fund</td>\n",
       "      <td>The GreenLight Fund - Atlanta</td>\n",
       "      <td>https://greenlightfund.org/sites/atlanta/</td>\n",
       "      <td>33.7672720, -84.4001850</td>\n",
       "      <td>2</td>\n",
       "      <td>4</td>\n",
       "    </tr>\n",
       "    <tr>\n",
       "      <th>1</th>\n",
       "      <td>The Carter Center</td>\n",
       "      <td>The Carter Center</td>\n",
       "      <td>https://www.cartercenter.org/</td>\n",
       "      <td>33.7675631, -84.3568733</td>\n",
       "      <td>2</td>\n",
       "      <td>2</td>\n",
       "    </tr>\n",
       "    <tr>\n",
       "      <th>2</th>\n",
       "      <td>The Bakery</td>\n",
       "      <td>The Bakery Atlanta</td>\n",
       "      <td>https://thebakeryatlanta.com/</td>\n",
       "      <td>33.7520411, -84.3917386</td>\n",
       "      <td>2</td>\n",
       "      <td>2</td>\n",
       "    </tr>\n",
       "    <tr>\n",
       "      <th>3</th>\n",
       "      <td>Baby Kicks</td>\n",
       "      <td>HumAnS Lab at Georgia Tech</td>\n",
       "      <td>https://humanslab.ece.gatech.edu/</td>\n",
       "      <td>33.7770004, -84.3971980</td>\n",
       "      <td>2</td>\n",
       "      <td>1</td>\n",
       "    </tr>\n",
       "    <tr>\n",
       "      <th>4</th>\n",
       "      <td>Concrete Jungle</td>\n",
       "      <td>Concrete Jungle</td>\n",
       "      <td>https://www.concrete-jungle.org/</td>\n",
       "      <td>33.7055137, -84.4241944</td>\n",
       "      <td>1</td>\n",
       "      <td>5</td>\n",
       "    </tr>\n",
       "  </tbody>\n",
       "</table>\n",
       "</div>"
      ],
      "text/plain": [
       "             Project                         Client  \\\n",
       "0    GreenLight Fund  The GreenLight Fund - Atlanta   \n",
       "1  The Carter Center              The Carter Center   \n",
       "2         The Bakery             The Bakery Atlanta   \n",
       "3         Baby Kicks     HumAnS Lab at Georgia Tech   \n",
       "4    Concrete Jungle                Concrete Jungle   \n",
       "\n",
       "                                     Website            Main Location  \\\n",
       "0  https://greenlightfund.org/sites/atlanta/  33.7672720, -84.4001850   \n",
       "1              https://www.cartercenter.org/  33.7675631, -84.3568733   \n",
       "2              https://thebakeryatlanta.com/  33.7520411, -84.3917386   \n",
       "3          https://humanslab.ece.gatech.edu/  33.7770004, -84.3971980   \n",
       "4           https://www.concrete-jungle.org/  33.7055137, -84.4241944   \n",
       "\n",
       "   Task Count  Tool Count  \n",
       "0           2           4  \n",
       "1           2           2  \n",
       "2           2           2  \n",
       "3           2           1  \n",
       "4           1           5  "
      ]
     },
     "execution_count": 4,
     "metadata": {},
     "output_type": "execute_result"
    }
   ],
   "source": [
    "data_csv_format"
   ]
  },
  {
   "cell_type": "markdown",
   "id": "b4099b37",
   "metadata": {},
   "source": [
    "In the example above, we use the read_csv() function to directly read the csv table into a pandas data frame. Notice that the first row is automatically detected as header columns. Also notice that the first column is just a series of numbers that range from 0-4. This is the <b>index</b> column, and it served as our way to identify which entry in the table belongs to which row. For example, Concrete Jungle's email would be the <b>4</b>th index in the websites column.\n",
    "\n",
    "While using the numerical index is perfectly fine, there might be instances where we want to search a large data frame by the name of some primary key. In other words, we might want to name the rows, as oppsoed to just number them. We can set any column to be our index column using the <b>set_index()</b> function like: "
   ]
  },
  {
   "cell_type": "code",
   "execution_count": 5,
   "id": "1f018d52",
   "metadata": {},
   "outputs": [
    {
     "data": {
      "text/html": [
       "<div>\n",
       "<style scoped>\n",
       "    .dataframe tbody tr th:only-of-type {\n",
       "        vertical-align: middle;\n",
       "    }\n",
       "\n",
       "    .dataframe tbody tr th {\n",
       "        vertical-align: top;\n",
       "    }\n",
       "\n",
       "    .dataframe thead th {\n",
       "        text-align: right;\n",
       "    }\n",
       "</style>\n",
       "<table border=\"1\" class=\"dataframe\">\n",
       "  <thead>\n",
       "    <tr style=\"text-align: right;\">\n",
       "      <th></th>\n",
       "      <th>Client</th>\n",
       "      <th>Website</th>\n",
       "      <th>Main Location</th>\n",
       "      <th>Task Count</th>\n",
       "      <th>Tool Count</th>\n",
       "    </tr>\n",
       "    <tr>\n",
       "      <th>Project</th>\n",
       "      <th></th>\n",
       "      <th></th>\n",
       "      <th></th>\n",
       "      <th></th>\n",
       "      <th></th>\n",
       "    </tr>\n",
       "  </thead>\n",
       "  <tbody>\n",
       "    <tr>\n",
       "      <th>GreenLight Fund</th>\n",
       "      <td>The GreenLight Fund - Atlanta</td>\n",
       "      <td>https://greenlightfund.org/sites/atlanta/</td>\n",
       "      <td>33.7672720, -84.4001850</td>\n",
       "      <td>2</td>\n",
       "      <td>4</td>\n",
       "    </tr>\n",
       "    <tr>\n",
       "      <th>The Carter Center</th>\n",
       "      <td>The Carter Center</td>\n",
       "      <td>https://www.cartercenter.org/</td>\n",
       "      <td>33.7675631, -84.3568733</td>\n",
       "      <td>2</td>\n",
       "      <td>2</td>\n",
       "    </tr>\n",
       "    <tr>\n",
       "      <th>The Bakery</th>\n",
       "      <td>The Bakery Atlanta</td>\n",
       "      <td>https://thebakeryatlanta.com/</td>\n",
       "      <td>33.7520411, -84.3917386</td>\n",
       "      <td>2</td>\n",
       "      <td>2</td>\n",
       "    </tr>\n",
       "    <tr>\n",
       "      <th>Baby Kicks</th>\n",
       "      <td>HumAnS Lab at Georgia Tech</td>\n",
       "      <td>https://humanslab.ece.gatech.edu/</td>\n",
       "      <td>33.7770004, -84.3971980</td>\n",
       "      <td>2</td>\n",
       "      <td>1</td>\n",
       "    </tr>\n",
       "    <tr>\n",
       "      <th>Concrete Jungle</th>\n",
       "      <td>Concrete Jungle</td>\n",
       "      <td>https://www.concrete-jungle.org/</td>\n",
       "      <td>33.7055137, -84.4241944</td>\n",
       "      <td>1</td>\n",
       "      <td>5</td>\n",
       "    </tr>\n",
       "  </tbody>\n",
       "</table>\n",
       "</div>"
      ],
      "text/plain": [
       "                                          Client  \\\n",
       "Project                                            \n",
       "GreenLight Fund    The GreenLight Fund - Atlanta   \n",
       "The Carter Center              The Carter Center   \n",
       "The Bakery                    The Bakery Atlanta   \n",
       "Baby Kicks            HumAnS Lab at Georgia Tech   \n",
       "Concrete Jungle                  Concrete Jungle   \n",
       "\n",
       "                                                     Website  \\\n",
       "Project                                                        \n",
       "GreenLight Fund    https://greenlightfund.org/sites/atlanta/   \n",
       "The Carter Center              https://www.cartercenter.org/   \n",
       "The Bakery                     https://thebakeryatlanta.com/   \n",
       "Baby Kicks                 https://humanslab.ece.gatech.edu/   \n",
       "Concrete Jungle             https://www.concrete-jungle.org/   \n",
       "\n",
       "                             Main Location  Task Count  Tool Count  \n",
       "Project                                                             \n",
       "GreenLight Fund    33.7672720, -84.4001850           2           4  \n",
       "The Carter Center  33.7675631, -84.3568733           2           2  \n",
       "The Bakery         33.7520411, -84.3917386           2           2  \n",
       "Baby Kicks         33.7770004, -84.3971980           2           1  \n",
       "Concrete Jungle    33.7055137, -84.4241944           1           5  "
      ]
     },
     "execution_count": 5,
     "metadata": {},
     "output_type": "execute_result"
    }
   ],
   "source": [
    "data_csv_format.set_index('Project')"
   ]
  },
  {
   "cell_type": "markdown",
   "id": "adce8b9e",
   "metadata": {},
   "source": [
    "In the example above, we set the index column to be the \"Project\" column. Notice that the numbers at the left side of the table went away. Now, instead of our rows being numbered, they are named. The importance of this will become more clear when we discuss selecting data from data frames in the following units. \n",
    "\n",
    "We can also tell pandas what our index column is when we initially call the read_csv() function using the <b>index_col</b> argument:"
   ]
  },
  {
   "cell_type": "code",
   "execution_count": 6,
   "id": "ce429e9f",
   "metadata": {},
   "outputs": [],
   "source": [
    "data_csv_format_indexed = pd.read_csv('recent_projects_info_table.csv', index_col = 'Project')"
   ]
  },
  {
   "cell_type": "code",
   "execution_count": 7,
   "id": "a34eccd6",
   "metadata": {},
   "outputs": [
    {
     "data": {
      "text/html": [
       "<div>\n",
       "<style scoped>\n",
       "    .dataframe tbody tr th:only-of-type {\n",
       "        vertical-align: middle;\n",
       "    }\n",
       "\n",
       "    .dataframe tbody tr th {\n",
       "        vertical-align: top;\n",
       "    }\n",
       "\n",
       "    .dataframe thead th {\n",
       "        text-align: right;\n",
       "    }\n",
       "</style>\n",
       "<table border=\"1\" class=\"dataframe\">\n",
       "  <thead>\n",
       "    <tr style=\"text-align: right;\">\n",
       "      <th></th>\n",
       "      <th>Client</th>\n",
       "      <th>Website</th>\n",
       "      <th>Main Location</th>\n",
       "      <th>Task Count</th>\n",
       "      <th>Tool Count</th>\n",
       "    </tr>\n",
       "    <tr>\n",
       "      <th>Project</th>\n",
       "      <th></th>\n",
       "      <th></th>\n",
       "      <th></th>\n",
       "      <th></th>\n",
       "      <th></th>\n",
       "    </tr>\n",
       "  </thead>\n",
       "  <tbody>\n",
       "    <tr>\n",
       "      <th>GreenLight Fund</th>\n",
       "      <td>The GreenLight Fund - Atlanta</td>\n",
       "      <td>https://greenlightfund.org/sites/atlanta/</td>\n",
       "      <td>33.7672720, -84.4001850</td>\n",
       "      <td>2</td>\n",
       "      <td>4</td>\n",
       "    </tr>\n",
       "    <tr>\n",
       "      <th>The Carter Center</th>\n",
       "      <td>The Carter Center</td>\n",
       "      <td>https://www.cartercenter.org/</td>\n",
       "      <td>33.7675631, -84.3568733</td>\n",
       "      <td>2</td>\n",
       "      <td>2</td>\n",
       "    </tr>\n",
       "    <tr>\n",
       "      <th>The Bakery</th>\n",
       "      <td>The Bakery Atlanta</td>\n",
       "      <td>https://thebakeryatlanta.com/</td>\n",
       "      <td>33.7520411, -84.3917386</td>\n",
       "      <td>2</td>\n",
       "      <td>2</td>\n",
       "    </tr>\n",
       "    <tr>\n",
       "      <th>Baby Kicks</th>\n",
       "      <td>HumAnS Lab at Georgia Tech</td>\n",
       "      <td>https://humanslab.ece.gatech.edu/</td>\n",
       "      <td>33.7770004, -84.3971980</td>\n",
       "      <td>2</td>\n",
       "      <td>1</td>\n",
       "    </tr>\n",
       "    <tr>\n",
       "      <th>Concrete Jungle</th>\n",
       "      <td>Concrete Jungle</td>\n",
       "      <td>https://www.concrete-jungle.org/</td>\n",
       "      <td>33.7055137, -84.4241944</td>\n",
       "      <td>1</td>\n",
       "      <td>5</td>\n",
       "    </tr>\n",
       "  </tbody>\n",
       "</table>\n",
       "</div>"
      ],
      "text/plain": [
       "                                          Client  \\\n",
       "Project                                            \n",
       "GreenLight Fund    The GreenLight Fund - Atlanta   \n",
       "The Carter Center              The Carter Center   \n",
       "The Bakery                    The Bakery Atlanta   \n",
       "Baby Kicks            HumAnS Lab at Georgia Tech   \n",
       "Concrete Jungle                  Concrete Jungle   \n",
       "\n",
       "                                                     Website  \\\n",
       "Project                                                        \n",
       "GreenLight Fund    https://greenlightfund.org/sites/atlanta/   \n",
       "The Carter Center              https://www.cartercenter.org/   \n",
       "The Bakery                     https://thebakeryatlanta.com/   \n",
       "Baby Kicks                 https://humanslab.ece.gatech.edu/   \n",
       "Concrete Jungle             https://www.concrete-jungle.org/   \n",
       "\n",
       "                             Main Location  Task Count  Tool Count  \n",
       "Project                                                             \n",
       "GreenLight Fund    33.7672720, -84.4001850           2           4  \n",
       "The Carter Center  33.7675631, -84.3568733           2           2  \n",
       "The Bakery         33.7520411, -84.3917386           2           2  \n",
       "Baby Kicks         33.7770004, -84.3971980           2           1  \n",
       "Concrete Jungle    33.7055137, -84.4241944           1           5  "
      ]
     },
     "execution_count": 7,
     "metadata": {},
     "output_type": "execute_result"
    }
   ],
   "source": [
    "data_csv_format_indexed"
   ]
  },
  {
   "cell_type": "markdown",
   "id": "e5e6acb7",
   "metadata": {},
   "source": [
    "#### Reading Tables in TSV Format:"
   ]
  },
  {
   "cell_type": "markdown",
   "id": "fe7b7514",
   "metadata": {},
   "source": [
    "Pandas defaults to commas delimiters, but what if our table is tab-separated. We can specify what our separator is when we read the data frame with the read_csv() function by using the <b>sep</b> argument."
   ]
  },
  {
   "cell_type": "code",
   "execution_count": 8,
   "id": "f8f77296",
   "metadata": {},
   "outputs": [],
   "source": [
    "data_tsv_format = pd.read_csv('recent_projects_info_table.tsv', sep = '\\t', index_col = 'Project')"
   ]
  },
  {
   "cell_type": "code",
   "execution_count": 9,
   "id": "3db31342",
   "metadata": {},
   "outputs": [
    {
     "data": {
      "text/html": [
       "<div>\n",
       "<style scoped>\n",
       "    .dataframe tbody tr th:only-of-type {\n",
       "        vertical-align: middle;\n",
       "    }\n",
       "\n",
       "    .dataframe tbody tr th {\n",
       "        vertical-align: top;\n",
       "    }\n",
       "\n",
       "    .dataframe thead th {\n",
       "        text-align: right;\n",
       "    }\n",
       "</style>\n",
       "<table border=\"1\" class=\"dataframe\">\n",
       "  <thead>\n",
       "    <tr style=\"text-align: right;\">\n",
       "      <th></th>\n",
       "      <th>Client</th>\n",
       "      <th>Website</th>\n",
       "      <th>Main Location</th>\n",
       "      <th>Task Count</th>\n",
       "      <th>Tool Count</th>\n",
       "    </tr>\n",
       "    <tr>\n",
       "      <th>Project</th>\n",
       "      <th></th>\n",
       "      <th></th>\n",
       "      <th></th>\n",
       "      <th></th>\n",
       "      <th></th>\n",
       "    </tr>\n",
       "  </thead>\n",
       "  <tbody>\n",
       "    <tr>\n",
       "      <th>GreenLight Fund</th>\n",
       "      <td>The GreenLight Fund - Atlanta</td>\n",
       "      <td>https://greenlightfund.org/sites/atlanta/</td>\n",
       "      <td>33.7672720, -84.4001850</td>\n",
       "      <td>2</td>\n",
       "      <td>4</td>\n",
       "    </tr>\n",
       "    <tr>\n",
       "      <th>The Carter Center</th>\n",
       "      <td>The Carter Center</td>\n",
       "      <td>https://www.cartercenter.org/</td>\n",
       "      <td>33.7675631, -84.3568733</td>\n",
       "      <td>2</td>\n",
       "      <td>2</td>\n",
       "    </tr>\n",
       "    <tr>\n",
       "      <th>The Bakery</th>\n",
       "      <td>The Bakery Atlanta</td>\n",
       "      <td>https://thebakeryatlanta.com/</td>\n",
       "      <td>33.7520411, -84.3917386</td>\n",
       "      <td>2</td>\n",
       "      <td>2</td>\n",
       "    </tr>\n",
       "    <tr>\n",
       "      <th>Baby Kicks</th>\n",
       "      <td>HumAnS Lab at Georgia Tech</td>\n",
       "      <td>https://humanslab.ece.gatech.edu/</td>\n",
       "      <td>33.7770004, -84.3971980</td>\n",
       "      <td>2</td>\n",
       "      <td>1</td>\n",
       "    </tr>\n",
       "    <tr>\n",
       "      <th>Concrete Jungle</th>\n",
       "      <td>Concrete Jungle</td>\n",
       "      <td>https://www.concrete-jungle.org/</td>\n",
       "      <td>33.7055137, -84.4241944</td>\n",
       "      <td>1</td>\n",
       "      <td>5</td>\n",
       "    </tr>\n",
       "  </tbody>\n",
       "</table>\n",
       "</div>"
      ],
      "text/plain": [
       "                                          Client  \\\n",
       "Project                                            \n",
       "GreenLight Fund    The GreenLight Fund - Atlanta   \n",
       "The Carter Center              The Carter Center   \n",
       "The Bakery                    The Bakery Atlanta   \n",
       "Baby Kicks            HumAnS Lab at Georgia Tech   \n",
       "Concrete Jungle                  Concrete Jungle   \n",
       "\n",
       "                                                     Website  \\\n",
       "Project                                                        \n",
       "GreenLight Fund    https://greenlightfund.org/sites/atlanta/   \n",
       "The Carter Center              https://www.cartercenter.org/   \n",
       "The Bakery                     https://thebakeryatlanta.com/   \n",
       "Baby Kicks                 https://humanslab.ece.gatech.edu/   \n",
       "Concrete Jungle             https://www.concrete-jungle.org/   \n",
       "\n",
       "                             Main Location  Task Count  Tool Count  \n",
       "Project                                                             \n",
       "GreenLight Fund    33.7672720, -84.4001850           2           4  \n",
       "The Carter Center  33.7675631, -84.3568733           2           2  \n",
       "The Bakery         33.7520411, -84.3917386           2           2  \n",
       "Baby Kicks         33.7770004, -84.3971980           2           1  \n",
       "Concrete Jungle    33.7055137, -84.4241944           1           5  "
      ]
     },
     "execution_count": 9,
     "metadata": {},
     "output_type": "execute_result"
    }
   ],
   "source": [
    "data_tsv_format"
   ]
  },
  {
   "cell_type": "markdown",
   "id": "491a69ac",
   "metadata": {},
   "source": [
    "In the example above, we specified separator to be a tab (\\t). Let's take a look at what happens if we try to read a tab separated table as a regular csv file, without specifying a delimiter."
   ]
  },
  {
   "cell_type": "code",
   "execution_count": 10,
   "id": "c5e9a7fb",
   "metadata": {},
   "outputs": [],
   "source": [
    "data_wrong_format = pd.read_csv('recent_projects_info_table.tsv')"
   ]
  },
  {
   "cell_type": "code",
   "execution_count": 11,
   "id": "8f7d2da5",
   "metadata": {
    "scrolled": true
   },
   "outputs": [
    {
     "data": {
      "text/html": [
       "<div>\n",
       "<style scoped>\n",
       "    .dataframe tbody tr th:only-of-type {\n",
       "        vertical-align: middle;\n",
       "    }\n",
       "\n",
       "    .dataframe tbody tr th {\n",
       "        vertical-align: top;\n",
       "    }\n",
       "\n",
       "    .dataframe thead th {\n",
       "        text-align: right;\n",
       "    }\n",
       "</style>\n",
       "<table border=\"1\" class=\"dataframe\">\n",
       "  <thead>\n",
       "    <tr style=\"text-align: right;\">\n",
       "      <th></th>\n",
       "      <th>Project\\tClient\\tWebsite\\tMain Location\\tTask Count\\tTool Count</th>\n",
       "    </tr>\n",
       "  </thead>\n",
       "  <tbody>\n",
       "    <tr>\n",
       "      <th>GreenLight Fund\\tThe GreenLight Fund - Atlanta\\thttps://greenlightfund.org/sites/atlanta/\\t\"33.7672720</th>\n",
       "      <td>-84.4001850\"\\t2\\t4</td>\n",
       "    </tr>\n",
       "    <tr>\n",
       "      <th>The Carter Center\\tThe Carter Center\\thttps://www.cartercenter.org/\\t\"33.7675631</th>\n",
       "      <td>-84.3568733\"\\t2\\t2</td>\n",
       "    </tr>\n",
       "    <tr>\n",
       "      <th>The Bakery\\tThe Bakery Atlanta\\thttps://thebakeryatlanta.com/\\t\"33.7520411</th>\n",
       "      <td>-84.3917386\"\\t2\\t2</td>\n",
       "    </tr>\n",
       "    <tr>\n",
       "      <th>Baby Kicks\\tHumAnS Lab at Georgia Tech\\thttps://humanslab.ece.gatech.edu/\\t\"33.7770004</th>\n",
       "      <td>-84.3971980\"\\t2\\t1</td>\n",
       "    </tr>\n",
       "    <tr>\n",
       "      <th>Concrete Jungle\\tConcrete Jungle\\thttps://www.concrete-jungle.org/\\t\"33.7055137</th>\n",
       "      <td>-84.4241944\"\\t1\\t5</td>\n",
       "    </tr>\n",
       "  </tbody>\n",
       "</table>\n",
       "</div>"
      ],
      "text/plain": [
       "                                                   Project\\tClient\\tWebsite\\tMain Location\\tTask Count\\tTool Count\n",
       "GreenLight Fund\\tThe GreenLight Fund - Atlanta\\...                                 -84.4001850\"\\t2\\t4             \n",
       "The Carter Center\\tThe Carter Center\\thttps://w...                                 -84.3568733\"\\t2\\t2             \n",
       "The Bakery\\tThe Bakery Atlanta\\thttps://thebake...                                 -84.3917386\"\\t2\\t2             \n",
       "Baby Kicks\\tHumAnS Lab at Georgia Tech\\thttps:/...                                 -84.3971980\"\\t2\\t1             \n",
       "Concrete Jungle\\tConcrete Jungle\\thttps://www.c...                                 -84.4241944\"\\t1\\t5             "
      ]
     },
     "execution_count": 11,
     "metadata": {},
     "output_type": "execute_result"
    }
   ],
   "source": [
    "data_wrong_format"
   ]
  },
  {
   "cell_type": "markdown",
   "id": "4ab558b1",
   "metadata": {},
   "source": [
    "Well this data frame won't be easy to work with. This illustrates why it's important to specify what your separator is. "
   ]
  },
  {
   "cell_type": "markdown",
   "id": "c8c1896d",
   "metadata": {},
   "source": [
    "#### Reading Excel Tables:"
   ]
  },
  {
   "cell_type": "markdown",
   "id": "21b2cb60",
   "metadata": {},
   "source": [
    "In Excel, it's possible to download your table in csv or tsv format. However, what if you don't really feel like it, or there is some other reason that you don't want to work with a different file? Lucky for us, pandas offers the <b>read_excel()</b> function! This function is quite extensive because Excel has many different ways of storing spread sheets. For our purposes, this function behaves the same as the read_csv() function.\n",
    "\n",
    "<i>In the Lesson_4 directory, the \"recent_projects_info_table\" is also saved in xls format</i>"
   ]
  },
  {
   "cell_type": "code",
   "execution_count": 12,
   "id": "22f38d75",
   "metadata": {},
   "outputs": [],
   "source": [
    "data_xls_format = pd.read_excel('recent_projects_info_table.xls', index_col = 'Project')"
   ]
  },
  {
   "cell_type": "code",
   "execution_count": 13,
   "id": "243d73f1",
   "metadata": {
    "scrolled": true
   },
   "outputs": [
    {
     "data": {
      "text/html": [
       "<div>\n",
       "<style scoped>\n",
       "    .dataframe tbody tr th:only-of-type {\n",
       "        vertical-align: middle;\n",
       "    }\n",
       "\n",
       "    .dataframe tbody tr th {\n",
       "        vertical-align: top;\n",
       "    }\n",
       "\n",
       "    .dataframe thead th {\n",
       "        text-align: right;\n",
       "    }\n",
       "</style>\n",
       "<table border=\"1\" class=\"dataframe\">\n",
       "  <thead>\n",
       "    <tr style=\"text-align: right;\">\n",
       "      <th></th>\n",
       "      <th>Client</th>\n",
       "      <th>Website</th>\n",
       "      <th>Main Location</th>\n",
       "      <th>Task Count</th>\n",
       "      <th>Tool Count</th>\n",
       "    </tr>\n",
       "    <tr>\n",
       "      <th>Project</th>\n",
       "      <th></th>\n",
       "      <th></th>\n",
       "      <th></th>\n",
       "      <th></th>\n",
       "      <th></th>\n",
       "    </tr>\n",
       "  </thead>\n",
       "  <tbody>\n",
       "    <tr>\n",
       "      <th>GreenLight Fund</th>\n",
       "      <td>The GreenLight Fund - Atlanta</td>\n",
       "      <td>https://greenlightfund.org/sites/atlanta/</td>\n",
       "      <td>33.7672720, -84.4001850</td>\n",
       "      <td>2</td>\n",
       "      <td>4</td>\n",
       "    </tr>\n",
       "    <tr>\n",
       "      <th>The Carter Center</th>\n",
       "      <td>The Carter Center</td>\n",
       "      <td>https://www.cartercenter.org/</td>\n",
       "      <td>33.7675631, -84.3568733</td>\n",
       "      <td>2</td>\n",
       "      <td>2</td>\n",
       "    </tr>\n",
       "    <tr>\n",
       "      <th>The Bakery</th>\n",
       "      <td>The Bakery Atlanta</td>\n",
       "      <td>https://thebakeryatlanta.com/</td>\n",
       "      <td>33.7520411, -84.3917386</td>\n",
       "      <td>2</td>\n",
       "      <td>2</td>\n",
       "    </tr>\n",
       "    <tr>\n",
       "      <th>Baby Kicks</th>\n",
       "      <td>HumAnS Lab at Georgia Tech</td>\n",
       "      <td>https://humanslab.ece.gatech.edu/</td>\n",
       "      <td>33.7770004, -84.3971980</td>\n",
       "      <td>2</td>\n",
       "      <td>1</td>\n",
       "    </tr>\n",
       "    <tr>\n",
       "      <th>Concrete Jungle</th>\n",
       "      <td>Concrete Jungle</td>\n",
       "      <td>https://www.concrete-jungle.org/</td>\n",
       "      <td>33.7055137, -84.4241944</td>\n",
       "      <td>1</td>\n",
       "      <td>5</td>\n",
       "    </tr>\n",
       "  </tbody>\n",
       "</table>\n",
       "</div>"
      ],
      "text/plain": [
       "                                          Client  \\\n",
       "Project                                            \n",
       "GreenLight Fund    The GreenLight Fund - Atlanta   \n",
       "The Carter Center              The Carter Center   \n",
       "The Bakery                    The Bakery Atlanta   \n",
       "Baby Kicks            HumAnS Lab at Georgia Tech   \n",
       "Concrete Jungle                  Concrete Jungle   \n",
       "\n",
       "                                                     Website  \\\n",
       "Project                                                        \n",
       "GreenLight Fund    https://greenlightfund.org/sites/atlanta/   \n",
       "The Carter Center              https://www.cartercenter.org/   \n",
       "The Bakery                     https://thebakeryatlanta.com/   \n",
       "Baby Kicks                 https://humanslab.ece.gatech.edu/   \n",
       "Concrete Jungle             https://www.concrete-jungle.org/   \n",
       "\n",
       "                             Main Location  Task Count  Tool Count  \n",
       "Project                                                             \n",
       "GreenLight Fund    33.7672720, -84.4001850           2           4  \n",
       "The Carter Center  33.7675631, -84.3568733           2           2  \n",
       "The Bakery         33.7520411, -84.3917386           2           2  \n",
       "Baby Kicks         33.7770004, -84.3971980           2           1  \n",
       "Concrete Jungle    33.7055137, -84.4241944           1           5  "
      ]
     },
     "execution_count": 13,
     "metadata": {},
     "output_type": "execute_result"
    }
   ],
   "source": [
    "data_xls_format"
   ]
  },
  {
   "cell_type": "markdown",
   "id": "344abd97",
   "metadata": {},
   "source": [
    "The read_excel function is convientent becasue it allows quick and easy transport of data between different platforms."
   ]
  },
  {
   "cell_type": "markdown",
   "id": "e821b51d",
   "metadata": {},
   "source": [
    "### Selecting Data from Pandas Data Frames"
   ]
  },
  {
   "cell_type": "code",
   "execution_count": null,
   "id": "ecc18823",
   "metadata": {},
   "outputs": [],
   "source": []
  },
  {
   "cell_type": "markdown",
   "id": "ec987197",
   "metadata": {},
   "source": [
    "Selecting data from a pandas data frame is one of the keys to parsing large data sets. Our examples will be on much smaller data frames, but the concepts will apply to large ones. Let's revisit our initial \"data_csv_format\" data frame, but let's rename it \"project_data.\""
   ]
  },
  {
   "cell_type": "code",
   "execution_count": 14,
   "id": "466d6f13",
   "metadata": {},
   "outputs": [],
   "source": [
    "project_data = pd.read_csv('recent_projects_info_table.csv')"
   ]
  },
  {
   "cell_type": "code",
   "execution_count": 15,
   "id": "1b38a66d",
   "metadata": {
    "scrolled": false
   },
   "outputs": [
    {
     "data": {
      "text/html": [
       "<div>\n",
       "<style scoped>\n",
       "    .dataframe tbody tr th:only-of-type {\n",
       "        vertical-align: middle;\n",
       "    }\n",
       "\n",
       "    .dataframe tbody tr th {\n",
       "        vertical-align: top;\n",
       "    }\n",
       "\n",
       "    .dataframe thead th {\n",
       "        text-align: right;\n",
       "    }\n",
       "</style>\n",
       "<table border=\"1\" class=\"dataframe\">\n",
       "  <thead>\n",
       "    <tr style=\"text-align: right;\">\n",
       "      <th></th>\n",
       "      <th>Project</th>\n",
       "      <th>Client</th>\n",
       "      <th>Website</th>\n",
       "      <th>Main Location</th>\n",
       "      <th>Task Count</th>\n",
       "      <th>Tool Count</th>\n",
       "    </tr>\n",
       "  </thead>\n",
       "  <tbody>\n",
       "    <tr>\n",
       "      <th>0</th>\n",
       "      <td>GreenLight Fund</td>\n",
       "      <td>The GreenLight Fund - Atlanta</td>\n",
       "      <td>https://greenlightfund.org/sites/atlanta/</td>\n",
       "      <td>33.7672720, -84.4001850</td>\n",
       "      <td>2</td>\n",
       "      <td>4</td>\n",
       "    </tr>\n",
       "    <tr>\n",
       "      <th>1</th>\n",
       "      <td>The Carter Center</td>\n",
       "      <td>The Carter Center</td>\n",
       "      <td>https://www.cartercenter.org/</td>\n",
       "      <td>33.7675631, -84.3568733</td>\n",
       "      <td>2</td>\n",
       "      <td>2</td>\n",
       "    </tr>\n",
       "    <tr>\n",
       "      <th>2</th>\n",
       "      <td>The Bakery</td>\n",
       "      <td>The Bakery Atlanta</td>\n",
       "      <td>https://thebakeryatlanta.com/</td>\n",
       "      <td>33.7520411, -84.3917386</td>\n",
       "      <td>2</td>\n",
       "      <td>2</td>\n",
       "    </tr>\n",
       "    <tr>\n",
       "      <th>3</th>\n",
       "      <td>Baby Kicks</td>\n",
       "      <td>HumAnS Lab at Georgia Tech</td>\n",
       "      <td>https://humanslab.ece.gatech.edu/</td>\n",
       "      <td>33.7770004, -84.3971980</td>\n",
       "      <td>2</td>\n",
       "      <td>1</td>\n",
       "    </tr>\n",
       "    <tr>\n",
       "      <th>4</th>\n",
       "      <td>Concrete Jungle</td>\n",
       "      <td>Concrete Jungle</td>\n",
       "      <td>https://www.concrete-jungle.org/</td>\n",
       "      <td>33.7055137, -84.4241944</td>\n",
       "      <td>1</td>\n",
       "      <td>5</td>\n",
       "    </tr>\n",
       "  </tbody>\n",
       "</table>\n",
       "</div>"
      ],
      "text/plain": [
       "             Project                         Client  \\\n",
       "0    GreenLight Fund  The GreenLight Fund - Atlanta   \n",
       "1  The Carter Center              The Carter Center   \n",
       "2         The Bakery             The Bakery Atlanta   \n",
       "3         Baby Kicks     HumAnS Lab at Georgia Tech   \n",
       "4    Concrete Jungle                Concrete Jungle   \n",
       "\n",
       "                                     Website            Main Location  \\\n",
       "0  https://greenlightfund.org/sites/atlanta/  33.7672720, -84.4001850   \n",
       "1              https://www.cartercenter.org/  33.7675631, -84.3568733   \n",
       "2              https://thebakeryatlanta.com/  33.7520411, -84.3917386   \n",
       "3          https://humanslab.ece.gatech.edu/  33.7770004, -84.3971980   \n",
       "4           https://www.concrete-jungle.org/  33.7055137, -84.4241944   \n",
       "\n",
       "   Task Count  Tool Count  \n",
       "0           2           4  \n",
       "1           2           2  \n",
       "2           2           2  \n",
       "3           2           1  \n",
       "4           1           5  "
      ]
     },
     "execution_count": 15,
     "metadata": {},
     "output_type": "execute_result"
    }
   ],
   "source": [
    "project_data"
   ]
  },
  {
   "cell_type": "markdown",
   "id": "b373b04c",
   "metadata": {},
   "source": [
    "#### Selecting Data By Index"
   ]
  },
  {
   "cell_type": "markdown",
   "id": "8a5168af",
   "metadata": {},
   "source": [
    "To select data, we can use the <b>iloc[]</b> function, which allows you to select data in a variety of differnt ways. For example, say we want to select The Bakery's website. We can see that The Bakery's row has the 2 index, and that that the Website column is the 3rd column (2 index). We can select The Barkery's website like:"
   ]
  },
  {
   "cell_type": "code",
   "execution_count": 16,
   "id": "c18b9d06",
   "metadata": {
    "scrolled": true
   },
   "outputs": [
    {
     "name": "stdout",
     "output_type": "stream",
     "text": [
      "https://thebakeryatlanta.com/\n"
     ]
    }
   ],
   "source": [
    "bakery_website = project_data.iloc[2,2]\n",
    "print(bakery_website)"
   ]
  },
  {
   "cell_type": "markdown",
   "id": "0674da99",
   "metadata": {},
   "source": [
    "The .iloc() function works similar to how selecting items in lists work. However, in lists, you are only selecting one position (index in list), and when selecting from a data frame, you can select multiple (index in column and index in row). The argumens for .iloc() are:\n",
    "\n",
    "    data.iloc(row_index:column_index)"
   ]
  },
  {
   "cell_type": "markdown",
   "id": "0e39fe1c",
   "metadata": {},
   "source": [
    "Just like with lists, we can select a range of values as well. For example, say we want to select the entire Websites column. There are two ways we can accomplish this. First, we can select based on the index of the columns and rows we want:"
   ]
  },
  {
   "cell_type": "code",
   "execution_count": 17,
   "id": "f7617b04",
   "metadata": {},
   "outputs": [
    {
     "name": "stdout",
     "output_type": "stream",
     "text": [
      "0    https://greenlightfund.org/sites/atlanta/\n",
      "1                https://www.cartercenter.org/\n",
      "2                https://thebakeryatlanta.com/\n",
      "3            https://humanslab.ece.gatech.edu/\n",
      "4             https://www.concrete-jungle.org/\n",
      "Name: Website, dtype: object\n"
     ]
    }
   ],
   "source": [
    "websites = project_data.iloc[0:,2]\n",
    "print(websites)"
   ]
  },
  {
   "cell_type": "markdown",
   "id": "99a8fdd3",
   "metadata": {},
   "source": [
    "In the example above, we specified the rows to start and 0 and select all of subsequent rows. The syntax for this is just as we would do it if we were selecting from a list (a 0 followed by a colon (<i>0:</i>). Then we specify that we want to select these from the 3rd column (2nd index) by just using a 2."
   ]
  },
  {
   "cell_type": "markdown",
   "id": "f36dfc0f",
   "metadata": {},
   "source": [
    "#### Selecting Data by Names"
   ]
  },
  {
   "cell_type": "markdown",
   "id": "c47329b2",
   "metadata": {},
   "source": [
    "The second way is to select the column by the column name. This is a much more straight forward approach:"
   ]
  },
  {
   "cell_type": "code",
   "execution_count": 18,
   "id": "778a435f",
   "metadata": {
    "scrolled": true
   },
   "outputs": [
    {
     "name": "stdout",
     "output_type": "stream",
     "text": [
      "0    https://greenlightfund.org/sites/atlanta/\n",
      "1                https://www.cartercenter.org/\n",
      "2                https://thebakeryatlanta.com/\n",
      "3            https://humanslab.ece.gatech.edu/\n",
      "4             https://www.concrete-jungle.org/\n",
      "Name: Website, dtype: object\n"
     ]
    }
   ],
   "source": [
    "websites = project_data['Website']\n",
    "print(websites)"
   ]
  },
  {
   "cell_type": "markdown",
   "id": "2739a5a4",
   "metadata": {},
   "source": [
    "We can also select multiple column by name as well by providing a list of arguments that has our column names:"
   ]
  },
  {
   "cell_type": "code",
   "execution_count": 19,
   "id": "93ecdf43",
   "metadata": {},
   "outputs": [
    {
     "name": "stdout",
     "output_type": "stream",
     "text": [
      "                          Client                                    Website\n",
      "0  The GreenLight Fund - Atlanta  https://greenlightfund.org/sites/atlanta/\n",
      "1              The Carter Center              https://www.cartercenter.org/\n",
      "2             The Bakery Atlanta              https://thebakeryatlanta.com/\n",
      "3     HumAnS Lab at Georgia Tech          https://humanslab.ece.gatech.edu/\n",
      "4                Concrete Jungle           https://www.concrete-jungle.org/\n"
     ]
    }
   ],
   "source": [
    "client_website_data = project_data[['Client','Website']]\n",
    "print(client_website_data)"
   ]
  },
  {
   "cell_type": "markdown",
   "id": "1a855470",
   "metadata": {},
   "source": [
    "In the example above, we simply selected the column titled \"Website.\" We can extend this to still select The Bakery's website by adding it's index to the end as well:"
   ]
  },
  {
   "cell_type": "code",
   "execution_count": 20,
   "id": "c68a72ed",
   "metadata": {},
   "outputs": [
    {
     "name": "stdout",
     "output_type": "stream",
     "text": [
      "https://thebakeryatlanta.com/\n"
     ]
    }
   ],
   "source": [
    "bakery_website = project_data['Website'][2]\n",
    "print(bakery_website)"
   ]
  },
  {
   "cell_type": "markdown",
   "id": "5ee22a42",
   "metadata": {},
   "source": [
    "As you might be guessing, we can also select data by rowname instead of the index number. However, we must first assign a column to be the index column. To do this, we must use the <b>loc()</b> function, which is similar to the iloc function but allows us to select values based on lables, as opposed to integer position. "
   ]
  },
  {
   "cell_type": "code",
   "execution_count": 21,
   "id": "db3f4c4b",
   "metadata": {
    "scrolled": false
   },
   "outputs": [
    {
     "data": {
      "text/html": [
       "<div>\n",
       "<style scoped>\n",
       "    .dataframe tbody tr th:only-of-type {\n",
       "        vertical-align: middle;\n",
       "    }\n",
       "\n",
       "    .dataframe tbody tr th {\n",
       "        vertical-align: top;\n",
       "    }\n",
       "\n",
       "    .dataframe thead th {\n",
       "        text-align: right;\n",
       "    }\n",
       "</style>\n",
       "<table border=\"1\" class=\"dataframe\">\n",
       "  <thead>\n",
       "    <tr style=\"text-align: right;\">\n",
       "      <th></th>\n",
       "      <th>Client</th>\n",
       "      <th>Website</th>\n",
       "      <th>Main Location</th>\n",
       "      <th>Task Count</th>\n",
       "      <th>Tool Count</th>\n",
       "    </tr>\n",
       "    <tr>\n",
       "      <th>Project</th>\n",
       "      <th></th>\n",
       "      <th></th>\n",
       "      <th></th>\n",
       "      <th></th>\n",
       "      <th></th>\n",
       "    </tr>\n",
       "  </thead>\n",
       "  <tbody>\n",
       "    <tr>\n",
       "      <th>GreenLight Fund</th>\n",
       "      <td>The GreenLight Fund - Atlanta</td>\n",
       "      <td>https://greenlightfund.org/sites/atlanta/</td>\n",
       "      <td>33.7672720, -84.4001850</td>\n",
       "      <td>2</td>\n",
       "      <td>4</td>\n",
       "    </tr>\n",
       "    <tr>\n",
       "      <th>The Carter Center</th>\n",
       "      <td>The Carter Center</td>\n",
       "      <td>https://www.cartercenter.org/</td>\n",
       "      <td>33.7675631, -84.3568733</td>\n",
       "      <td>2</td>\n",
       "      <td>2</td>\n",
       "    </tr>\n",
       "    <tr>\n",
       "      <th>The Bakery</th>\n",
       "      <td>The Bakery Atlanta</td>\n",
       "      <td>https://thebakeryatlanta.com/</td>\n",
       "      <td>33.7520411, -84.3917386</td>\n",
       "      <td>2</td>\n",
       "      <td>2</td>\n",
       "    </tr>\n",
       "    <tr>\n",
       "      <th>Baby Kicks</th>\n",
       "      <td>HumAnS Lab at Georgia Tech</td>\n",
       "      <td>https://humanslab.ece.gatech.edu/</td>\n",
       "      <td>33.7770004, -84.3971980</td>\n",
       "      <td>2</td>\n",
       "      <td>1</td>\n",
       "    </tr>\n",
       "    <tr>\n",
       "      <th>Concrete Jungle</th>\n",
       "      <td>Concrete Jungle</td>\n",
       "      <td>https://www.concrete-jungle.org/</td>\n",
       "      <td>33.7055137, -84.4241944</td>\n",
       "      <td>1</td>\n",
       "      <td>5</td>\n",
       "    </tr>\n",
       "  </tbody>\n",
       "</table>\n",
       "</div>"
      ],
      "text/plain": [
       "                                          Client  \\\n",
       "Project                                            \n",
       "GreenLight Fund    The GreenLight Fund - Atlanta   \n",
       "The Carter Center              The Carter Center   \n",
       "The Bakery                    The Bakery Atlanta   \n",
       "Baby Kicks            HumAnS Lab at Georgia Tech   \n",
       "Concrete Jungle                  Concrete Jungle   \n",
       "\n",
       "                                                     Website  \\\n",
       "Project                                                        \n",
       "GreenLight Fund    https://greenlightfund.org/sites/atlanta/   \n",
       "The Carter Center              https://www.cartercenter.org/   \n",
       "The Bakery                     https://thebakeryatlanta.com/   \n",
       "Baby Kicks                 https://humanslab.ece.gatech.edu/   \n",
       "Concrete Jungle             https://www.concrete-jungle.org/   \n",
       "\n",
       "                             Main Location  Task Count  Tool Count  \n",
       "Project                                                             \n",
       "GreenLight Fund    33.7672720, -84.4001850           2           4  \n",
       "The Carter Center  33.7675631, -84.3568733           2           2  \n",
       "The Bakery         33.7520411, -84.3917386           2           2  \n",
       "Baby Kicks         33.7770004, -84.3971980           2           1  \n",
       "Concrete Jungle    33.7055137, -84.4241944           1           5  "
      ]
     },
     "execution_count": 21,
     "metadata": {},
     "output_type": "execute_result"
    }
   ],
   "source": [
    "project_data = project_data.set_index('Project')\n",
    "project_data"
   ]
  },
  {
   "cell_type": "code",
   "execution_count": 22,
   "id": "eadcfe23",
   "metadata": {
    "scrolled": true
   },
   "outputs": [
    {
     "data": {
      "text/plain": [
       "Client                      The Bakery Atlanta\n",
       "Website          https://thebakeryatlanta.com/\n",
       "Main Location          33.7520411, -84.3917386\n",
       "Task Count                                   2\n",
       "Tool Count                                   2\n",
       "Name: The Bakery, dtype: object"
      ]
     },
     "execution_count": 22,
     "metadata": {},
     "output_type": "execute_result"
    }
   ],
   "source": [
    "bakery_data = project_data.loc[\"The Bakery\"]\n",
    "bakery_data"
   ]
  },
  {
   "cell_type": "markdown",
   "id": "bfb32120",
   "metadata": {},
   "source": [
    "In the example above, we set the \"Project\" column to be the index column, and then selected \"The Bakery\" row name, which gave us all of the infomation about The Bakery. Just like with column, we can select multiple rows by name as well:"
   ]
  },
  {
   "cell_type": "code",
   "execution_count": 23,
   "id": "482315c5",
   "metadata": {
    "scrolled": true
   },
   "outputs": [
    {
     "data": {
      "text/html": [
       "<div>\n",
       "<style scoped>\n",
       "    .dataframe tbody tr th:only-of-type {\n",
       "        vertical-align: middle;\n",
       "    }\n",
       "\n",
       "    .dataframe tbody tr th {\n",
       "        vertical-align: top;\n",
       "    }\n",
       "\n",
       "    .dataframe thead th {\n",
       "        text-align: right;\n",
       "    }\n",
       "</style>\n",
       "<table border=\"1\" class=\"dataframe\">\n",
       "  <thead>\n",
       "    <tr style=\"text-align: right;\">\n",
       "      <th></th>\n",
       "      <th>Client</th>\n",
       "      <th>Website</th>\n",
       "      <th>Main Location</th>\n",
       "      <th>Task Count</th>\n",
       "      <th>Tool Count</th>\n",
       "    </tr>\n",
       "    <tr>\n",
       "      <th>Project</th>\n",
       "      <th></th>\n",
       "      <th></th>\n",
       "      <th></th>\n",
       "      <th></th>\n",
       "      <th></th>\n",
       "    </tr>\n",
       "  </thead>\n",
       "  <tbody>\n",
       "    <tr>\n",
       "      <th>The Bakery</th>\n",
       "      <td>The Bakery Atlanta</td>\n",
       "      <td>https://thebakeryatlanta.com/</td>\n",
       "      <td>33.7520411, -84.3917386</td>\n",
       "      <td>2</td>\n",
       "      <td>2</td>\n",
       "    </tr>\n",
       "    <tr>\n",
       "      <th>Baby Kicks</th>\n",
       "      <td>HumAnS Lab at Georgia Tech</td>\n",
       "      <td>https://humanslab.ece.gatech.edu/</td>\n",
       "      <td>33.7770004, -84.3971980</td>\n",
       "      <td>2</td>\n",
       "      <td>1</td>\n",
       "    </tr>\n",
       "  </tbody>\n",
       "</table>\n",
       "</div>"
      ],
      "text/plain": [
       "                                Client                            Website  \\\n",
       "Project                                                                     \n",
       "The Bakery          The Bakery Atlanta      https://thebakeryatlanta.com/   \n",
       "Baby Kicks  HumAnS Lab at Georgia Tech  https://humanslab.ece.gatech.edu/   \n",
       "\n",
       "                      Main Location  Task Count  Tool Count  \n",
       "Project                                                      \n",
       "The Bakery  33.7520411, -84.3917386           2           2  \n",
       "Baby Kicks  33.7770004, -84.3971980           2           1  "
      ]
     },
     "execution_count": 23,
     "metadata": {},
     "output_type": "execute_result"
    }
   ],
   "source": [
    "bakery_babykicks = project_data.loc[[\"The Bakery\", \"Baby Kicks\"]]\n",
    "bakery_babykicks"
   ]
  },
  {
   "cell_type": "markdown",
   "id": "b3ae5113",
   "metadata": {},
   "source": [
    "Finally, we can select specific values in a table using by using the column name and the row name. Using loc, the syntax is:\n",
    "\n",
    "    data.loc[['row_name'], ['column_name']]\n",
    "    \n",
    "For example, we can select just The Bakery's website like:"
   ]
  },
  {
   "cell_type": "code",
   "execution_count": 24,
   "id": "d6827796",
   "metadata": {},
   "outputs": [
    {
     "name": "stdout",
     "output_type": "stream",
     "text": [
      "                                  Website\n",
      "Project                                  \n",
      "The Bakery  https://thebakeryatlanta.com/\n"
     ]
    }
   ],
   "source": [
    "bakery_website = project_data.loc[['The Bakery'],['Website']]\n",
    "print(bakery_website)"
   ]
  },
  {
   "cell_type": "markdown",
   "id": "317b6fe2",
   "metadata": {},
   "source": [
    "We can also put multiple values in the row list and/or the column list to select multiple fields. For example, say we want the website for The Bakery and The Carter Center:"
   ]
  },
  {
   "cell_type": "code",
   "execution_count": 25,
   "id": "1d065fc5",
   "metadata": {},
   "outputs": [
    {
     "data": {
      "text/html": [
       "<div>\n",
       "<style scoped>\n",
       "    .dataframe tbody tr th:only-of-type {\n",
       "        vertical-align: middle;\n",
       "    }\n",
       "\n",
       "    .dataframe tbody tr th {\n",
       "        vertical-align: top;\n",
       "    }\n",
       "\n",
       "    .dataframe thead th {\n",
       "        text-align: right;\n",
       "    }\n",
       "</style>\n",
       "<table border=\"1\" class=\"dataframe\">\n",
       "  <thead>\n",
       "    <tr style=\"text-align: right;\">\n",
       "      <th></th>\n",
       "      <th>Website</th>\n",
       "    </tr>\n",
       "    <tr>\n",
       "      <th>Project</th>\n",
       "      <th></th>\n",
       "    </tr>\n",
       "  </thead>\n",
       "  <tbody>\n",
       "    <tr>\n",
       "      <th>The Bakery</th>\n",
       "      <td>https://thebakeryatlanta.com/</td>\n",
       "    </tr>\n",
       "    <tr>\n",
       "      <th>The Carter Center</th>\n",
       "      <td>https://www.cartercenter.org/</td>\n",
       "    </tr>\n",
       "  </tbody>\n",
       "</table>\n",
       "</div>"
      ],
      "text/plain": [
       "                                         Website\n",
       "Project                                         \n",
       "The Bakery         https://thebakeryatlanta.com/\n",
       "The Carter Center  https://www.cartercenter.org/"
      ]
     },
     "execution_count": 25,
     "metadata": {},
     "output_type": "execute_result"
    }
   ],
   "source": [
    "bakery_carter_center = project_data.loc[['The Bakery', 'The Carter Center'],['Website']]\n",
    "bakery_carter_center"
   ]
  },
  {
   "cell_type": "markdown",
   "id": "cee235bb",
   "metadata": {},
   "source": [
    "### Populating Pandas Data Frames"
   ]
  },
  {
   "cell_type": "markdown",
   "id": "07ef9f83",
   "metadata": {},
   "source": [
    "Now that we are a little more familiar with pandas data frames, let's look at how to make them from data that we collect in our code. An easy way is to store data in lists, and then add these lists to a data frame. This is a good approach because lists are easy to add onto as you iterate in a loop.\n",
    "\n",
    "Say we have just parsed an HTML file and we have a list of the websites contained on said file. We can use the <b>DataFrame()</b> function to create a pandas data frame from this list:"
   ]
  },
  {
   "cell_type": "code",
   "execution_count": 26,
   "id": "63c81d06",
   "metadata": {},
   "outputs": [],
   "source": [
    "websites = ['https://greenlightfund.org/sites/atlanta/', 'https://www.cartercenter.org/', 'https://thebakeryatlanta.com/', 'https://humanslab.ece.gatech.edu/', 'https://www.concrete-jungle.org/']\n"
   ]
  },
  {
   "cell_type": "code",
   "execution_count": 27,
   "id": "9445209e",
   "metadata": {
    "scrolled": false
   },
   "outputs": [
    {
     "name": "stdout",
     "output_type": "stream",
     "text": [
      "                                    Websites\n",
      "0  https://greenlightfund.org/sites/atlanta/\n",
      "1              https://www.cartercenter.org/\n",
      "2              https://thebakeryatlanta.com/\n",
      "3          https://humanslab.ece.gatech.edu/\n",
      "4           https://www.concrete-jungle.org/\n"
     ]
    }
   ],
   "source": [
    "client_data = pd.DataFrame(data=websites, columns = ['Websites'])\n",
    "\n",
    "print(client_data)"
   ]
  },
  {
   "cell_type": "markdown",
   "id": "e142b525",
   "metadata": {},
   "source": [
    "In the example above, we used the data argument to tell pandas that the websites list was the data we wanted to put into the data frame, and the columns argument (which takes a list as it's input) to tell pandas that we wanted to name the column \"Websites\"."
   ]
  },
  {
   "cell_type": "markdown",
   "id": "a23e4941",
   "metadata": {},
   "source": [
    "To add a column to the data frame, we can use the <b>insert()</b> function. For example, say we have a list of the client names that are associated with each website. We can add this as a data fram column like:"
   ]
  },
  {
   "cell_type": "code",
   "execution_count": 28,
   "id": "1ee35325",
   "metadata": {},
   "outputs": [],
   "source": [
    "clients = ['Concrete Jungle', 'HumAnS Lab', 'The Bakery', 'The Carter Center', 'GreenLight Fund']"
   ]
  },
  {
   "cell_type": "code",
   "execution_count": 29,
   "id": "a9a10290",
   "metadata": {},
   "outputs": [],
   "source": [
    "client_data.insert(loc = 0, value = clients, column = 'Clients')"
   ]
  },
  {
   "cell_type": "code",
   "execution_count": 30,
   "id": "ce268737",
   "metadata": {},
   "outputs": [
    {
     "data": {
      "text/html": [
       "<div>\n",
       "<style scoped>\n",
       "    .dataframe tbody tr th:only-of-type {\n",
       "        vertical-align: middle;\n",
       "    }\n",
       "\n",
       "    .dataframe tbody tr th {\n",
       "        vertical-align: top;\n",
       "    }\n",
       "\n",
       "    .dataframe thead th {\n",
       "        text-align: right;\n",
       "    }\n",
       "</style>\n",
       "<table border=\"1\" class=\"dataframe\">\n",
       "  <thead>\n",
       "    <tr style=\"text-align: right;\">\n",
       "      <th></th>\n",
       "      <th>Clients</th>\n",
       "      <th>Websites</th>\n",
       "    </tr>\n",
       "  </thead>\n",
       "  <tbody>\n",
       "    <tr>\n",
       "      <th>0</th>\n",
       "      <td>Concrete Jungle</td>\n",
       "      <td>https://greenlightfund.org/sites/atlanta/</td>\n",
       "    </tr>\n",
       "    <tr>\n",
       "      <th>1</th>\n",
       "      <td>HumAnS Lab</td>\n",
       "      <td>https://www.cartercenter.org/</td>\n",
       "    </tr>\n",
       "    <tr>\n",
       "      <th>2</th>\n",
       "      <td>The Bakery</td>\n",
       "      <td>https://thebakeryatlanta.com/</td>\n",
       "    </tr>\n",
       "    <tr>\n",
       "      <th>3</th>\n",
       "      <td>The Carter Center</td>\n",
       "      <td>https://humanslab.ece.gatech.edu/</td>\n",
       "    </tr>\n",
       "    <tr>\n",
       "      <th>4</th>\n",
       "      <td>GreenLight Fund</td>\n",
       "      <td>https://www.concrete-jungle.org/</td>\n",
       "    </tr>\n",
       "  </tbody>\n",
       "</table>\n",
       "</div>"
      ],
      "text/plain": [
       "             Clients                                   Websites\n",
       "0    Concrete Jungle  https://greenlightfund.org/sites/atlanta/\n",
       "1         HumAnS Lab              https://www.cartercenter.org/\n",
       "2         The Bakery              https://thebakeryatlanta.com/\n",
       "3  The Carter Center          https://humanslab.ece.gatech.edu/\n",
       "4    GreenLight Fund           https://www.concrete-jungle.org/"
      ]
     },
     "execution_count": 30,
     "metadata": {},
     "output_type": "execute_result"
    }
   ],
   "source": [
    "client_data"
   ]
  },
  {
   "cell_type": "markdown",
   "id": "154cf5ca",
   "metadata": {},
   "source": [
    "In the example above, we use the loc argument to say we wanted to insert the new column into the 0th position in the table (at the beginning). We can use the \"loc\" argument to specify which position we want the new column to be inserted. We then used the \"value\" argument to say that we want our \"clients\" list to be the data that is inserted. Finally, we used the \"column\" argument to say that we want to column to be named \"Clients.\""
   ]
  },
  {
   "cell_type": "markdown",
   "id": "c2606f85",
   "metadata": {},
   "source": [
    "There are many ways to populate a pandas data frame. To keep this lesson from being too long, we will only cover the one. This method fits well with the previous data structures we have covered before. For example, say you are parsing an HTML file and you have several fields you want to extract. You can initialize a list for each of said fields and then append values to the list as you iterate. You can then add these lists to a data frame."
   ]
  },
  {
   "cell_type": "markdown",
   "id": "e59d10f0",
   "metadata": {},
   "source": [
    "### Writing Data Frames to Files"
   ]
  },
  {
   "cell_type": "markdown",
   "id": "e007fea7",
   "metadata": {},
   "source": [
    "The final pandas functionality that we will cover is how to write pandas data frames to files. This is useful so that you can send data to collaborators or co-workers, and so you can open the data in different softwares, such as Excel. Pandas offers the <b>to_csv</b> function that makes writing data to a csv file easy! This function is simiar to the \"read_csv\" function, but works the other direction.\n",
    "\n",
    "Let's look at our client_data data frame, and set the index to be the \"client\" column, and then write the data to a csv file."
   ]
  },
  {
   "cell_type": "code",
   "execution_count": 31,
   "id": "e0416848",
   "metadata": {},
   "outputs": [],
   "source": [
    "client_data = client_data.set_index('Clients')"
   ]
  },
  {
   "cell_type": "code",
   "execution_count": 32,
   "id": "d88473c9",
   "metadata": {
    "scrolled": true
   },
   "outputs": [
    {
     "data": {
      "text/html": [
       "<div>\n",
       "<style scoped>\n",
       "    .dataframe tbody tr th:only-of-type {\n",
       "        vertical-align: middle;\n",
       "    }\n",
       "\n",
       "    .dataframe tbody tr th {\n",
       "        vertical-align: top;\n",
       "    }\n",
       "\n",
       "    .dataframe thead th {\n",
       "        text-align: right;\n",
       "    }\n",
       "</style>\n",
       "<table border=\"1\" class=\"dataframe\">\n",
       "  <thead>\n",
       "    <tr style=\"text-align: right;\">\n",
       "      <th></th>\n",
       "      <th>Websites</th>\n",
       "    </tr>\n",
       "    <tr>\n",
       "      <th>Clients</th>\n",
       "      <th></th>\n",
       "    </tr>\n",
       "  </thead>\n",
       "  <tbody>\n",
       "    <tr>\n",
       "      <th>Concrete Jungle</th>\n",
       "      <td>https://greenlightfund.org/sites/atlanta/</td>\n",
       "    </tr>\n",
       "    <tr>\n",
       "      <th>HumAnS Lab</th>\n",
       "      <td>https://www.cartercenter.org/</td>\n",
       "    </tr>\n",
       "    <tr>\n",
       "      <th>The Bakery</th>\n",
       "      <td>https://thebakeryatlanta.com/</td>\n",
       "    </tr>\n",
       "    <tr>\n",
       "      <th>The Carter Center</th>\n",
       "      <td>https://humanslab.ece.gatech.edu/</td>\n",
       "    </tr>\n",
       "    <tr>\n",
       "      <th>GreenLight Fund</th>\n",
       "      <td>https://www.concrete-jungle.org/</td>\n",
       "    </tr>\n",
       "  </tbody>\n",
       "</table>\n",
       "</div>"
      ],
      "text/plain": [
       "                                                    Websites\n",
       "Clients                                                     \n",
       "Concrete Jungle    https://greenlightfund.org/sites/atlanta/\n",
       "HumAnS Lab                     https://www.cartercenter.org/\n",
       "The Bakery                     https://thebakeryatlanta.com/\n",
       "The Carter Center          https://humanslab.ece.gatech.edu/\n",
       "GreenLight Fund             https://www.concrete-jungle.org/"
      ]
     },
     "execution_count": 32,
     "metadata": {},
     "output_type": "execute_result"
    }
   ],
   "source": [
    "client_data"
   ]
  },
  {
   "cell_type": "markdown",
   "id": "44827f1d",
   "metadata": {},
   "source": [
    "#### Writing to CSV and TSV Files"
   ]
  },
  {
   "cell_type": "code",
   "execution_count": 33,
   "id": "d669504e",
   "metadata": {},
   "outputs": [],
   "source": [
    "client_data.to_csv('client_data.csv')"
   ]
  },
  {
   "cell_type": "markdown",
   "id": "fb6c490b",
   "metadata": {},
   "source": [
    "The simplest way to use the \"to_csv()\" function is to just provide your file name. Notice that nothing printed out. This is because instead of printing out our data frame, we wrote it's contents to a csv file that is now on our machine. \n",
    "\n",
    "We can also write different formats, like tsv, by specifying what our separator is (just like with the read_csv() function)."
   ]
  },
  {
   "cell_type": "code",
   "execution_count": 34,
   "id": "7ef391f1",
   "metadata": {},
   "outputs": [],
   "source": [
    "client_data.to_csv('client_data.tsv', sep = '\\t')"
   ]
  },
  {
   "cell_type": "markdown",
   "id": "5f0ac65c",
   "metadata": {},
   "source": [
    "Be careful when writing to the csv though. The default behavior of the \"to_csv()\" function is to write over a file, as opposed to add onto it. \n",
    "\n",
    "#### Writing to Excel Files\n",
    "\n",
    "We can also write directly to excel files as well using the <b>to_excel</b> function:"
   ]
  },
  {
   "cell_type": "code",
   "execution_count": 35,
   "id": "83fcca9d",
   "metadata": {},
   "outputs": [],
   "source": [
    "client_data.to_excel('client_data.xlsx')"
   ]
  },
  {
   "cell_type": "markdown",
   "id": "27fc0147",
   "metadata": {},
   "source": [
    "This method might be particularly useful for sharing data with co-workers and collaborators that primairly use Excel for viewing and processing data."
   ]
  },
  {
   "cell_type": "markdown",
   "id": "091fd73b",
   "metadata": {},
   "source": [
    "### Practice Problems"
   ]
  },
  {
   "cell_type": "markdown",
   "id": "efd94710",
   "metadata": {},
   "source": [
    "Write a function that will take the \"Recent_Projects_Simple.html\" HTML file as input and writes a table to a csv or Excel file that contains the same values and information as the \"data_csv_format\" in cell 4."
   ]
  },
  {
   "cell_type": "code",
   "execution_count": 36,
   "id": "bc3fb850",
   "metadata": {},
   "outputs": [],
   "source": [
    "# type your code below\n",
    "\n",
    "\n",
    "\n"
   ]
  }
 ],
 "metadata": {
  "kernelspec": {
   "display_name": "Python 3 (ipykernel)",
   "language": "python",
   "name": "python3"
  },
  "language_info": {
   "codemirror_mode": {
    "name": "ipython",
    "version": 3
   },
   "file_extension": ".py",
   "mimetype": "text/x-python",
   "name": "python",
   "nbconvert_exporter": "python",
   "pygments_lexer": "ipython3",
   "version": "3.9.12"
  }
 },
 "nbformat": 4,
 "nbformat_minor": 5
}
