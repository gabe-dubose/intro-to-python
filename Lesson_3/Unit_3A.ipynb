{
 "cells": [
  {
   "cell_type": "markdown",
   "id": "d97d344d",
   "metadata": {},
   "source": [
    "## Unit 3A: How to Use Conditionals and Boolean Operators"
   ]
  },
  {
   "cell_type": "markdown",
   "id": "7909fe54",
   "metadata": {},
   "source": [
    "<b>Conditionals</b> are logical statements that return either <b>True</b> or <b>False</b>. Although this seems like a simple task, conditionals are powerful ways to have our code make logical decisions. Up until now, we have written code that only performs a single task. Using conditionals, we can make code that will perform a variety of tasks, depending on which conditions are met. <b>Boolean operators</b> or <b>logical operators</b> are a set of operations that we can use to change the output of a conditional statements. This includes ways to negate the output and add more conditions to the statement."
   ]
  },
  {
   "cell_type": "markdown",
   "id": "20c6df10",
   "metadata": {},
   "source": [
    "### if, elif, and else statements"
   ]
  },
  {
   "cell_type": "markdown",
   "id": "e0e6acb4",
   "metadata": {},
   "source": [
    "In Python, the primary conditional is an <b>if statement</b>. The concept here is simple: <b>if</b> whatever we are evaluating is <b>True</b>, then <b>perform task</b>. We can declare that we want the program to perform a task if the condition is true using the \"<b>==</b>\" operator."
   ]
  },
  {
   "cell_type": "code",
   "execution_count": 1,
   "id": "714e4d30",
   "metadata": {},
   "outputs": [
    {
     "name": "stdout",
     "output_type": "stream",
     "text": [
      "We have worked with Concrete Jungle before!\n"
     ]
    }
   ],
   "source": [
    "client = \"Concrete Jungle\"\n",
    "\n",
    "if client == \"Concrete Jungle\":\n",
    "    print(f\"We have worked with {client} before!\")"
   ]
  },
  {
   "cell_type": "markdown",
   "id": "69f11269",
   "metadata": {},
   "source": [
    "Likewise, we can declare that we want the program to perform the taks if the condition is <b>not true/false</b> using the \"<b>!=</b>\" operator."
   ]
  },
  {
   "cell_type": "code",
   "execution_count": 2,
   "id": "af909be1",
   "metadata": {},
   "outputs": [
    {
     "name": "stdout",
     "output_type": "stream",
     "text": [
      "The client is The Bakery, not the Concrete Jungle.\n"
     ]
    }
   ],
   "source": [
    "client = \"The Bakery\"\n",
    "\n",
    "if client != \"Concrete Jungle\":\n",
    "    print(f\"The client is {client}, not the Concrete Jungle.\")"
   ]
  },
  {
   "cell_type": "markdown",
   "id": "4b128a12",
   "metadata": {},
   "source": [
    "In the first example above, we saved the string \"Concrete Jungle\" to the variable \"client.\" Then we constructed an if statement that evaluated if the client was \"Concrete Jungle.\" If this was the case, we printed a statement saying that we had worked with them before. Let's look at what happened when the client is not Concrete Jungle."
   ]
  },
  {
   "cell_type": "code",
   "execution_count": 3,
   "id": "7acf2f77",
   "metadata": {},
   "outputs": [],
   "source": [
    "client = \"The Bakery\"\n",
    "\n",
    "if client == \"Concrete Jungle\":\n",
    "    print(f\"We have worked with {client} before!\")"
   ]
  },
  {
   "cell_type": "markdown",
   "id": "e2b7383e",
   "metadata": {},
   "source": [
    "When the client was declared to be \"The Bakery,\" nothing happened. This is a good demonstration of how <b>if statements</b> work with the <b>==</b> operator. In plain English, our if statement is saying <b>\"If the client is Concrete Jungle, print the statement.\"</b> Since the client was not Concrete Jungle, our code didn't do anything because <b>we didn't give it any instructions on what to do if the client was not Concrete Jungle.</b>\n",
    "\n",
    "To give further instructions on what to do if our condition is not true, we can use <b>else statements</b>. These are exactly what they sound like; they <b>allow us to give further instruction on what to do if our condition is not true</b>. Let's take a look at how these work."
   ]
  },
  {
   "cell_type": "code",
   "execution_count": 4,
   "id": "33d2c28f",
   "metadata": {},
   "outputs": [
    {
     "name": "stdout",
     "output_type": "stream",
     "text": [
      "We have NOT worked with Fake Business before!\n"
     ]
    }
   ],
   "source": [
    "client = \"Fake Business\"\n",
    "\n",
    "if client == \"Concrete Jungle\":\n",
    "    print(f\"We have worked with {client} before!\")\n",
    "else:\n",
    "    print(f\"We have NOT worked with {client} before!\")"
   ]
  },
  {
   "cell_type": "markdown",
   "id": "acb2efaa",
   "metadata": {},
   "source": [
    "In the example above, we designated the client to be \"Fake Business.\" Our if statement checks to see if the client is Concrete Jungle. Since the client is not Concrete Jungle, our else statement instructs the computer to print a message saying we have not worked with that client before. \n",
    "\n",
    "This if statement is not very powerful. All it is checking for is to see if DataWorks has worked with Concrete Jungle. But DataWorks has recently worked with 5 different clients! How do we evaluate if the client is any of the clients DataWorks has worked with? \n",
    "\n",
    "For this, we can use <b>else if</b> statements. In Python, these are abbreviated as <b>elif</b>. These statements allow you to <b>evaluate another condition if the previous condition is false</b>."
   ]
  },
  {
   "cell_type": "code",
   "execution_count": 5,
   "id": "e3214934",
   "metadata": {},
   "outputs": [
    {
     "name": "stdout",
     "output_type": "stream",
     "text": [
      "We have worked with HumAnS Lab before!\n"
     ]
    }
   ],
   "source": [
    "client = \"HumAnS Lab\"\n",
    "\n",
    "if client == \"Concrete Jungle\":\n",
    "    print(f\"We have worked with {client} before!\")\n",
    "elif client == \"HumAnS Lab\":\n",
    "    print(f\"We have worked with {client} before!\")\n",
    "elif client == \"The Bakery\":\n",
    "    print(f\"We have worked with {client} before!\")\n",
    "elif client == \"The Carter Center\":\n",
    "    print(f\"We have worked with {client} before!\")\n",
    "elif client == \"GreenLight Fund\":\n",
    "    print(f\"We have worked with {client} before!\")\n",
    "else:\n",
    "    print(f\"We have NOT worked with {client} before!\")"
   ]
  },
  {
   "cell_type": "markdown",
   "id": "ce01b5eb",
   "metadata": {},
   "source": [
    "In the example above, we have an elif statement that tells our computer what to do if the previous statement is not true. Having an elif statement for each client allows us to evaluate all of them in the same work flow. \n",
    "\n",
    "Notice how our final statement is still an else statement. This is because if the client is anything besides the ones present in our if and elif statements, we want to print that we have not worked with that client before."
   ]
  },
  {
   "cell_type": "markdown",
   "id": "06b6d1d6",
   "metadata": {},
   "source": [
    "### in and not in"
   ]
  },
  {
   "cell_type": "markdown",
   "id": "3e9f7f08",
   "metadata": {},
   "source": [
    "It is not be very practical to type out each of the clients names. Imagine a scenario where we have 100 clients. This would ultimately defeat the purpose of programming because the amount of time that it would take to write such a program would equal (or excede) the amount of time it would take to just look through the list ourself.\n",
    "\n",
    "A better approach to the previous example would be to use the <b>in</b> operator. The in operator checks to see <b>if</b> the element you are searching for is <b>in</b> the data your are searching through. This data can be a list, a string, or other data types that we have not covered. \n",
    "\n",
    "Let's look at an easier way to write the previous example. Say we have a list of all of the DataWorks clients, and we want to check to see if the client we are searching for is in the list."
   ]
  },
  {
   "cell_type": "code",
   "execution_count": 6,
   "id": "52b05322",
   "metadata": {},
   "outputs": [
    {
     "name": "stdout",
     "output_type": "stream",
     "text": [
      "We have worked with The Bakery before!\n"
     ]
    }
   ],
   "source": [
    "previous_clients = ['Concrete Jungle', 'HumAnS Lab', 'The Bakery', 'The Carter Center', 'GreenLight Fund']\n",
    "\n",
    "client = 'The Bakery'\n",
    "\n",
    "if client in previous_clients:\n",
    "    print(f\"We have worked with {client} before!\")\n",
    "else: \n",
    "    print(f\"We have NOT worked with {client} before!\")\n"
   ]
  },
  {
   "cell_type": "markdown",
   "id": "dad7c0eb",
   "metadata": {},
   "source": [
    "In the example above, we checked to see if the client was in the previous_clients list. If the client was in the list, we printed a message saying that we had worked with that client before. If the client was not in the list, we printed a message saying that we have not worked with the client before. We have performed the same task as the previous example, but using a much more simple approach.\n",
    "\n",
    "What if we want to do something if the client is <b>not in</b> the list. Luckily, Python offers an operation for exactly this. <b>not in</b> does what it sounds like: it checks to see if the element is in the list (or string) and does some task if it isn't."
   ]
  },
  {
   "cell_type": "code",
   "execution_count": 7,
   "id": "5823b151",
   "metadata": {},
   "outputs": [
    {
     "name": "stdout",
     "output_type": "stream",
     "text": [
      "['Concrete Jungle', 'HumAnS Lab', 'The Bakery', 'The Carter Center', 'GreenLight Fund']\n"
     ]
    }
   ],
   "source": [
    "previous_clients = ['Concrete Jungle', 'HumAnS Lab', 'The Bakery', 'The Carter Center']\n",
    "\n",
    "client = 'GreenLight Fund'\n",
    "\n",
    "if client not in previous_clients:\n",
    "    previous_clients.append(client)\n",
    "\n",
    "print(previous_clients)\n"
   ]
  },
  {
   "cell_type": "markdown",
   "id": "526071ff",
   "metadata": {},
   "source": [
    "In the example above, we checked to see if the client was in the previous_clients list or not. Since the client was not in the list, we added it to the list using .append()."
   ]
  },
  {
   "cell_type": "markdown",
   "id": "237bc7ff",
   "metadata": {},
   "source": [
    "### and"
   ]
  },
  {
   "cell_type": "markdown",
   "id": "d52da6ba",
   "metadata": {},
   "source": [
    "There will be some instances where we want to perform some task if two or more conditions are met. To accomplish this, we can use the <b>and</b> operator. Using and allows you to combine two or more if statements together and perform the task if <b>all</b> conditions are <b>true</b>.\n",
    "\n",
    "Consider the example below. We have two lists, and we want to see if the client is in either of the two lists. We can use <i>and</i> to do this by constructing a statement that reads like: <i>If the client is in previous_clients and in previous_projects, then print the statement we specify.</i>"
   ]
  },
  {
   "cell_type": "code",
   "execution_count": 8,
   "id": "43627fe7",
   "metadata": {
    "scrolled": true
   },
   "outputs": [
    {
     "name": "stdout",
     "output_type": "stream",
     "text": [
      "Concrete Jungle had the same client name and project name.\n"
     ]
    }
   ],
   "source": [
    "previous_clients = ['Concrete Jungle', 'HumAnS Lab', 'The Bakery', 'The Carter Center', 'GreenLight Fund']\n",
    "\n",
    "previous_projects = ['Concrete Jungle', 'Baby Kicks', 'The Bakery', 'The Carter Center', 'GreenLight Fund']\n",
    "\n",
    "client = 'Concrete Jungle'\n",
    "\n",
    "if client in previous_clients and client in previous_projects:\n",
    "    print(f\"{client} had the same client name and project name.\")\n"
   ]
  },
  {
   "cell_type": "markdown",
   "id": "dcb8f65f",
   "metadata": {},
   "source": [
    "Let's look what happens if <b>both</b> of our conditions are not met."
   ]
  },
  {
   "cell_type": "code",
   "execution_count": 9,
   "id": "80c78aab",
   "metadata": {},
   "outputs": [],
   "source": [
    "previous_clients = ['Concrete Jungle', 'HumAnS Lab', 'The Bakery', 'The Carter Center', 'GreenLight Fund']\n",
    "\n",
    "previous_projects = ['Concrete Jungle', 'Baby Kicks', 'The Bakery', 'The Carter Center', 'GreenLight Fund']\n",
    "\n",
    "client = 'HumAnS Lab'\n",
    "\n",
    "if client in previous_clients and client in previous_projects:\n",
    "    print(f\"{client} had the same client name and project name.\")"
   ]
  },
  {
   "cell_type": "markdown",
   "id": "9d7abc02",
   "metadata": {},
   "source": [
    "Nothing happened! HumAnS lab is in the previous client list, but not in the previous_projects list. Since it is not in <b>both</b> lists, our overall if statement is <b>False</b>.\n",
    "\n",
    "Just as we did with simple if statements, we can add an else statement to return some output when instances like this arise."
   ]
  },
  {
   "cell_type": "code",
   "execution_count": 10,
   "id": "f59a6a4e",
   "metadata": {},
   "outputs": [
    {
     "name": "stdout",
     "output_type": "stream",
     "text": [
      "HumAnS Lab does not have the same client name and project name.\n"
     ]
    }
   ],
   "source": [
    "previous_clients = ['Concrete Jungle', 'HumAnS Lab', 'The Bakery', 'The Carter Center', 'GreenLight Fund']\n",
    "\n",
    "previous_projects = ['Concrete Jungle', 'Baby Kicks', 'The Bakery', 'The Carter Center', 'GreenLight Fund']\n",
    "\n",
    "client = 'HumAnS Lab'\n",
    "\n",
    "if client in previous_clients and client in previous_projects:\n",
    "    print(f\"{client} had the same client name and project name.\")\n",
    "else:\n",
    "    print(f\"{client} does not have the same client name and project name.\")\n",
    "\n"
   ]
  },
  {
   "cell_type": "markdown",
   "id": "a2c36aac",
   "metadata": {},
   "source": [
    "### or"
   ]
  },
  {
   "cell_type": "markdown",
   "id": "73ee4328",
   "metadata": {},
   "source": [
    "Another logic we can impart in our programs is to have it do something if one condition is met <b>or</b> another condition is met. This condition is used the same way that \"and\" is used. Consider the following example, where we have two lists of clients. We want to check to see if the client we specified is in either of these two lists, but we don't necessarily care about which list it's in."
   ]
  },
  {
   "cell_type": "code",
   "execution_count": 11,
   "id": "675cf64c",
   "metadata": {
    "scrolled": true
   },
   "outputs": [
    {
     "name": "stdout",
     "output_type": "stream",
     "text": [
      "DataWorks has worked with this client before!\n"
     ]
    }
   ],
   "source": [
    "client_list_1 = ['Concrete Jungle', 'HumAnS Lab']\n",
    "\n",
    "client_list_2 = ['The Bakery', 'The Carter Center', 'GreenLight Fund']\n",
    "\n",
    "client = 'The Carter Center'\n",
    "\n",
    "if client in client_list_1 or client in client_list_2:\n",
    "    print(\"DataWorks has worked with this client before!\")"
   ]
  },
  {
   "cell_type": "markdown",
   "id": "02ecea49",
   "metadata": {},
   "source": [
    "When thinking about logical operations that you can put into your programs, try to think about it in plain English first. It might be useful to imagine that you are going to do the task by hand first, and then put that thought into code."
   ]
  },
  {
   "cell_type": "markdown",
   "id": "5449d102",
   "metadata": {},
   "source": [
    "### Practice Problems"
   ]
  },
  {
   "cell_type": "markdown",
   "id": "af153941",
   "metadata": {},
   "source": [
    "<b>Problem 1</b>: Read the \"Recent_Projects_Simple.html\" and print the \"project_check_passed\" message if the designated project is on the page or print the \"project_check_failed\" message if the designated project is not on the page.\n",
    "\n",
    "<i>Note: the project names are each of the sub-headers on the page (contained by the h2 html tags)</i>\n"
   ]
  },
  {
   "cell_type": "code",
   "execution_count": 12,
   "id": "99ed5a9f",
   "metadata": {},
   "outputs": [],
   "source": [
    "project = \"Adult Kicks\"\n",
    "\n",
    "project_check_passed = f\"DataWorks has done a project called {project}.\"\n",
    "project_check_failed = f\"DataWorks has not done a project called {project}.\""
   ]
  },
  {
   "cell_type": "code",
   "execution_count": 13,
   "id": "9782e716",
   "metadata": {},
   "outputs": [],
   "source": [
    "#write your solution below\n",
    "\n",
    "\n",
    "\n"
   ]
  },
  {
   "cell_type": "markdown",
   "id": "50718e37",
   "metadata": {},
   "source": [
    "<b>Problem 2</b>: The two lists below contain the client name and GPS coordinates of their offices. The first list (\"clients\") is simply the list of client names that we have been working with. The second list (\"office_coordinates\") is a list of lists. Each list within the larger list corresponds with the client name in the same position in the \"clients\" list. For example, The Bakery's is the 3rd item in the \"clients\" list and it's GPS coordinates are the 3rd list in the \"office_coordinates\" list (33.7520411, -84.3917386). \n",
    "\n",
    "Below the lists are the latitude and longitude for The Carter Center. However, they might not be correct. Write some statement that will tell us if they are both correct. If they are not correct, print which is incorrect, or both if they are both incorrect."
   ]
  },
  {
   "cell_type": "code",
   "execution_count": 14,
   "id": "3cd2736f",
   "metadata": {},
   "outputs": [],
   "source": [
    "clients = ['Concrete Jungle', 'HumAnS Lab', 'The Bakery', 'The Carter Center', 'GreenLight Fund']\n",
    "\n",
    "office_coordiantes = [[33.7055137, -84.4241944],[33.7770004, -84.3971980],[33.7520411, -84.3917386],[33.7675631, -84.3568733],[33.7672720, -84.4001850]]\n",
    "\n",
    "#The Carter Center coordinates\n",
    "lattitude = 33.7675633\n",
    "longitude = -84.3568731"
   ]
  },
  {
   "cell_type": "code",
   "execution_count": 15,
   "id": "51364d34",
   "metadata": {},
   "outputs": [],
   "source": [
    "#write your solution below\n",
    "\n",
    "\n",
    "\n"
   ]
  }
 ],
 "metadata": {
  "kernelspec": {
   "display_name": "Python 3 (ipykernel)",
   "language": "python",
   "name": "python3"
  },
  "language_info": {
   "codemirror_mode": {
    "name": "ipython",
    "version": 3
   },
   "file_extension": ".py",
   "mimetype": "text/x-python",
   "name": "python",
   "nbconvert_exporter": "python",
   "pygments_lexer": "ipython3",
   "version": "3.9.12"
  }
 },
 "nbformat": 4,
 "nbformat_minor": 5
}
