{
 "cells": [
  {
   "cell_type": "markdown",
   "id": "28d95328",
   "metadata": {
    "id": "28d95328"
   },
   "source": [
    "## Unit 2B: How to Read Files into Lists"
   ]
  },
  {
   "cell_type": "markdown",
   "id": "61110535",
   "metadata": {
    "id": "61110535"
   },
   "source": [
    "The big picture of this course is to intorduce you to the Python fundamentals through exploring data-related tasks. As we have seen in previous lessons, Python offeres several different structures we can use to store and organize our data (so far we have seen strings and lists). We have explored ways to handle data, but what about getting data into Python from files that were given to us? That will be the scope for this lesson. \n",
    "\n"
   ]
  },
  {
   "cell_type": "markdown",
   "id": "ab544b8a",
   "metadata": {
    "id": "ab544b8a"
   },
   "source": [
    "### File Paths and Working Directories"
   ]
  },
  {
   "cell_type": "markdown",
   "id": "f4379c0a",
   "metadata": {
    "id": "f4379c0a"
   },
   "source": [
    "Since we are dealing with files that are now going to be saved onto our computer, we need to go over how to tell Python where to find these files. In order to do this, we need to go over what exactly files and directories are.\n",
    "\n",
    "<b>Directories</b>, simply put, are locations for storing files on a computer. This is easy to illustrate by looking at the folders on your desktop (directories and folders are the same thing). As an exercise, say we have a folder called \"Projects\" on our Desktop. Within this folder, there are 5 folders: Baby_Kicks, Concrete_Jungle, GreenLight_Fund, The_Bakery, and The_Carter_Center. Directories are set up in a hierarchical system. Therefore, the <b>path</b> to the \"Baby_Kicks\" folder is <b><i>/Desktop/Projects/Baby_Kicks</i></b>. A path is just the directions to get to your directory or file, where each location is separated by a \"/\". In the path to the Baby_Kicks directory, the first location is the \"Desktop.\" After \"Desktop\" comes \"Projects.\" This means that the Projects directory is inside of the Desktop directory. Likewise, the Baby_Kicks folder is inside of the Projects directory. You can think of this as a sort of tree-like structure:\n",
    "\n",
    "                       |\n",
    "                    Desktop\n",
    "                       |\n",
    "                       |\n",
    "               |---------------|\n",
    "          Other_folders     Projects\n",
    "                               |\n",
    "                               |\n",
    "               |---------------|------------------|-----------|----------------| \n",
    "           Baby_Kicks  Concrete_Jungle  GreenLight_Fund    The_Bakery     The_Carter_Center\n",
    "                         \n",
    "                         \n",
    "You may have noticed that in our example file path, there was a \"/\" in front of the \"Desktop\" directory as well. This implies that there is some directory that the \"Desktop\" directory is inside of. Your entire computer is set up like this, and your Desktop is also a directory that serves as your main interface. There are many other directories further up the tree (towards the root), but we don't have to worry about these right now.\n",
    "\n",
    "\n",
    "<b>Files</b> are objects that simply hold various kinds of data. The path to a file is just the path to the directory is it inside of, with it's name tagged onto the end. For example, say there is a file inside of the Baby_Kicks directory called \"Results.txt.\" The path to this file would be <b><i>/Desktop/Projects/Baby_Kicks/Results.txt</i></b>\n",
    "\n",
    "There is a lot more depth that we can go into on this topic. However, this is a Python course, not a general computer course. The simplest approach for your purposes as a beginner will be to work from your Desktop. That way you can physically see all of the directories and files that you will be dealing with."
   ]
  },
  {
   "cell_type": "markdown",
   "id": "e4542a12",
   "metadata": {
    "id": "e4542a12"
   },
   "source": [
    "### Opening and Reading Files in Python"
   ]
  },
  {
   "cell_type": "markdown",
   "id": "1be4741f",
   "metadata": {
    "id": "1be4741f"
   },
   "source": [
    "Now that we have covered how to tell Python where your files are, let's look at how to open these files with Python and save their contents into data structures that we can work with.\n",
    "\n",
    "In the directory that this notebook was distributed with, there is a file called <i>resturaunt_ratings.csv</i> that contains the contents from the table in Unit 1B, but in comma separated values. Let's look at how to read this file into Python. More specifically, we will be reading a table that is saved into comma separated values into a list. This list will contain strings, where each string is a separate line in the CSV file.\n"
   ]
  },
  {
   "cell_type": "markdown",
   "id": "417b6a72",
   "metadata": {
    "id": "417b6a72"
   },
   "source": [
    "To open a file with Python, we use the <b>open()</b> function. This function takes two arguments: the name of the file, and what you want to do with the file. For this lesson, we will be reading the file, so we will put 'r' (for read) in this argument. However in later lessons we will use this same function to write and add to files as well.\n",
    "\n",
    "For example, let's read the <i>resturaunt_ratings.csv</i> into a list using Python. \n",
    "\n",
    "    file = open(\"resturaunt_ratings.csv\", \"r\")\n",
    "\n",
    "Now the contents of the file have been read, and are stored in the variable called \"file.\" However, we cannot directly work with this file yet. Let's look at what happends if we print the \"file\" variable. \n",
    "\n",
    "    print(file)\n",
    "\n",
    "    >><_io.TextIOWrapper name='resturaunt_ratings.csv' mode='r' encoding='UTF-8'>\n",
    "\n",
    "When we save the open file to a variable, it is a type called an _io.TextIOWrapper. We don't have go into the details about what this means. For now, just remember that you can use the <b>.readlines()</b> function to save the file to a list, where each line is a different element in said list:\n",
    "\n",
    "    file = open(\"resturaunt_ratings.csv\", \"r\")\n",
    "    lines = file.readlines()\n",
    "\n",
    "Now the \"lines\" variable is a list that contains our data. Let's print it and have a look.\n",
    "\n",
    "    print(lines)\n",
    "\n",
    "    >>['Resturaunt,Stars,Comment\\n', 'Flying Biscuit,4.7,Great breakfast\\n', 'Tin Drum,4.9,Amazing variety'\\n, 'Subway,3.1,Nice and quick lunch']"
   ]
  },
  {
   "cell_type": "markdown",
   "id": "24965fd5",
   "metadata": {
    "id": "24965fd5"
   },
   "source": [
    "Now we can start to see the contents of our file! However, it is a bit messy.  You can already start to see the relevance of <i>Lesson 1</i> come in. We will need a way to clean up the elements in this list.\n",
    "\n",
    "As a side note, there is another popular way of performing this same function. As with other cases like this, it does not necessarily matter which way you accomplish these tasks. However, we are covering alternative ways because different people will prefer one way over the other, and some methods are more human readable than other. See the example below:\n",
    "\n",
    "    with open('resturaunt_ratings.csv', 'r) as file:\n",
    "      lines = file.readlines()\n"
   ]
  },
  {
   "cell_type": "markdown",
   "id": "273a9cf8",
   "metadata": {
    "id": "273a9cf8"
   },
   "source": [
    "Let's break this down. First, we used a <b>with statement</b>, which tells Python to use the <b>open()</b> function. Instead of saving the file to a variable with an equals sign, we used the <b>as</b> keyword to assign our opened file to the name 'file.' Finally, we used the <b>readlines()</b> function to save the lines in the file to a list, which we named 'lines.'\n",
    "\n",
    "And just like above, if we print the \"lines\" variable:\n",
    "\n",
    "    print(lines)\n",
    "\n",
    "    >>['Resturaunt,Stars,Comment\\n', 'Flying Biscuit,4.7,Great breakfast\\n', 'Tin Drum,4.9,Amazing variety'\\n, 'Subway,3.1,Nice and quick lunch']"
   ]
  },
  {
   "cell_type": "markdown",
   "id": "JaJXxdrGKE6k",
   "metadata": {
    "id": "JaJXxdrGKE6k"
   },
   "source": [
    "Now let's get some practice. \n",
    "\n",
    "First, create your own CSV table. It can hold whatever inforamtion you want. You can use a plain text editor for this, or you can use another tool like Excel. Just make sure you save the file as a .csv file.\n",
    "\n",
    "Next, read the table you just created into a Python list:"
   ]
  },
  {
   "cell_type": "code",
   "execution_count": null,
   "id": "Scn6pNYNLARU",
   "metadata": {
    "id": "Scn6pNYNLARU"
   },
   "outputs": [],
   "source": [
    "#read your table here\n",
    "\n",
    "\n",
    "#put the lines into a list here\n",
    "\n",
    "\n",
    "#print your list here\n",
    "\n",
    "\n"
   ]
  },
  {
   "cell_type": "markdown",
   "id": "efd1bbda",
   "metadata": {
    "id": "efd1bbda"
   },
   "source": [
    "Finally, there might be some cases where you only want to read one line in the file. Python offers a simiar function called <b>.readline()</b> that will read the first line of the file and return it as a string:\n",
    "\n",
    "    file = open(\"resturaunt_ratings.csv\", \"r\")\n",
    "    first_line = file.readline()\n",
    "    print(first_line)\n",
    "\n",
    "    >>Resturaunt,Stars,Comment"
   ]
  },
  {
   "cell_type": "markdown",
   "id": "e460a7ee",
   "metadata": {
    "id": "e460a7ee"
   },
   "source": [
    "There might be some cases where you want to read only the first line. For example, say we have 100 files and I want to check to see if they are HTML files or not. Instead of reading all of the lines for each file, we can just look at the first one to decide. The scenario in this example will not always hold (if for some reason the first line was skipped), but instances like this illustrate when .readline() is good to use."
   ]
  },
  {
   "cell_type": "markdown",
   "id": "7c2d7c90",
   "metadata": {
    "id": "7c2d7c90"
   },
   "source": [
    "### A Worked Example"
   ]
  },
  {
   "cell_type": "markdown",
   "id": "02fa9b59",
   "metadata": {
    "id": "02fa9b59"
   },
   "source": [
    "This example will be centered around webscraping, which is just a way to parse webpages (mostly HTML files) using Python (or another programming language). Overall, we are starting with a simpl webpage called \"GreenLightFund.html,\" and we want to get the GreenLight Fund email and store it as a variable called \"email.\" There are many ways to go about this.\n",
    "\n",
    "One approach could be to:\n",
    "\n",
    "1) Read the file and save the lines into a list\n",
    "\n",
    "2) Get the line that contains the the email address and remove the white space using .strip()\n",
    "\n",
    "3) Use the positions of the first letter of the email and the last letter to slice out the email address and save this to a variable\n",
    "\n",
    "This sound good. Let's give it a try."
   ]
  },
  {
   "cell_type": "code",
   "execution_count": null,
   "id": "45441df1",
   "metadata": {
    "id": "45441df1",
    "outputId": "4101ee49-44d4-422c-e5f2-c5fc5d9460fd"
   },
   "outputs": [
    {
     "name": "stdout",
     "output_type": "stream",
     "text": [
      "        <p><u>Website</u>: <a href = \"https://greenlightfund.org/sites/atlanta/\">https://greenlightfund.org/sites/atlanta/</a></p>\n",
      "\n"
     ]
    }
   ],
   "source": [
    "with open('GreenLight_Fund.html', 'r') as file:\n",
    "    lines = file.readlines()\n",
    "\n",
    "# to get this line number, I opened up the HTML file and looked for the line I needed\n",
    "email_line = lines[11]\n",
    "\n",
    "print(email_line)"
   ]
  },
  {
   "cell_type": "markdown",
   "id": "10af41ee",
   "metadata": {
    "id": "10af41ee"
   },
   "source": [
    "So far so good. We read the file and saved it into a list. Then we looked at the HTML file and saw that we needed line 13. Then we used this line number - 1 (because Python starts counting at 0) to slice this line out of the list. "
   ]
  },
  {
   "cell_type": "code",
   "execution_count": null,
   "id": "98e099da",
   "metadata": {
    "id": "98e099da",
    "outputId": "00604af5-5006-4c40-ec7c-6ea1d90c873d"
   },
   "outputs": [
    {
     "name": "stdout",
     "output_type": "stream",
     "text": [
      "<p><u>Website</u>: <a href = \"https://greenlightfund.org/sites/atlanta/\">https://greenlightfund.org/sites/atlanta/</a></p>\n"
     ]
    }
   ],
   "source": [
    "#now to remove the white space\n",
    "email_line = email_line.strip()\n",
    "print(email_line)"
   ]
  },
  {
   "cell_type": "code",
   "execution_count": null,
   "id": "0cc2da6e",
   "metadata": {
    "id": "0cc2da6e",
    "outputId": "3b951e2a-049a-4b76-81fa-2c71dcd59639",
    "scrolled": true
   },
   "outputs": [
    {
     "name": "stdout",
     "output_type": "stream",
     "text": [
      "https://greenlightfund.org/sites/atlanta/\n"
     ]
    }
   ],
   "source": [
    "# and finally, to extract the email I want\n",
    "email = email_line[30:71]\n",
    "print(email)"
   ]
  },
  {
   "cell_type": "markdown",
   "id": "9adf0ac0",
   "metadata": {
    "id": "9adf0ac0"
   },
   "source": [
    "You may have noticed one issue with this approach. How do you know the positions you need? Counting every time seems tedious. While I did not count the actual positions, I did take a guess and check approach to get the specific frame we needed. It's easy to imagine a scenario where this approach might not be sufficient. Say you want to do this for 100 different email lines, each with different lengths. We won't actually do these one by one. We will be writing a loop to iterate through them (which we will discuss later). The \"counting approach\" and the \"guess and check\" approaches are not suitable for putting inside of loops because they require your input each time. Our objective is to automate this process. Let's see if we can come up with an approach that might be more applicable to more complex situations:\n",
    "\n",
    "1) Our first several steps will be the same as before. Read in the HTML file, get the line we want, and remove the whitespace.\n",
    "\n",
    "2) If we look at the HTML line we are interested in, we see that there are various symbols that we might be able to use the .split() function on. Since our target is between a \">\" and a \"<\", we can split the string by \">\" and use lstrip to remove the tailing HTML tags.\n",
    "\n",
    "3) In the split, our target text will be in the 5th (4th in Python) field in the list. We can get this element and remove the trailing HTML tags."
   ]
  },
  {
   "cell_type": "code",
   "execution_count": null,
   "id": "c0fea81c",
   "metadata": {
    "id": "c0fea81c",
    "outputId": "490672c4-2e32-415e-8a81-ed98d179e8d7"
   },
   "outputs": [
    {
     "name": "stdout",
     "output_type": "stream",
     "text": [
      "<p><u>Website</u>: <a href = \"https://greenlightfund.org/sites/atlanta/\">https://greenlightfund.org/sites/atlanta/</a></p>\n"
     ]
    }
   ],
   "source": [
    "# Step 1\n",
    "with open('GreenLight_Fund.html', 'r') as file:\n",
    "    lines = file.readlines()\n",
    "\n",
    "# we can add the .strip() function directly to this line of code for simplicity\n",
    "email_line = lines[11].strip()\n",
    "\n",
    "print(email_line)"
   ]
  },
  {
   "cell_type": "code",
   "execution_count": null,
   "id": "390e2f90",
   "metadata": {
    "id": "390e2f90",
    "outputId": "53b2537a-c1a5-4184-c76c-f6e576499993"
   },
   "outputs": [
    {
     "name": "stdout",
     "output_type": "stream",
     "text": [
      "['<p', '<u', 'Website</u', ': <a href = \"https://greenlightfund.org/sites/atlanta/\"', 'https://greenlightfund.org/sites/atlanta/</a', '</p', '']\n"
     ]
    }
   ],
   "source": [
    "# Step 2\n",
    "split_line = email_line.split('>')\n",
    "print(split_line)"
   ]
  },
  {
   "cell_type": "code",
   "execution_count": null,
   "id": "e90c66bc",
   "metadata": {
    "id": "e90c66bc",
    "outputId": "40a2d003-2b18-4af2-aba3-098d7b412fd6",
    "scrolled": true
   },
   "outputs": [
    {
     "name": "stdout",
     "output_type": "stream",
     "text": [
      "https://greenlightfund.org/sites/atlanta/<\n"
     ]
    }
   ],
   "source": [
    "# Step 3\n",
    "\n",
    "email = split_line[4].rstrip('/a')\n",
    "print(email)"
   ]
  },
  {
   "cell_type": "markdown",
   "id": "fd9c6cb4",
   "metadata": {
    "id": "fd9c6cb4"
   },
   "source": [
    "Sometimes Python has a diffucult time stripping '<' characters. Therefore, we will just remove this by selecting all of the character except for the last one. We can do this using the len() function."
   ]
  },
  {
   "cell_type": "code",
   "execution_count": null,
   "id": "e737d5a5",
   "metadata": {
    "id": "e737d5a5",
    "outputId": "c098f5b6-b201-4e69-8dea-2b4cb469e5ed"
   },
   "outputs": [
    {
     "name": "stdout",
     "output_type": "stream",
     "text": [
      "https://greenlightfund.org/sites/atlanta/\n"
     ]
    }
   ],
   "source": [
    "# Final Output\n",
    "email = email[:len(email)-1]\n",
    "print(email)"
   ]
  },
  {
   "cell_type": "markdown",
   "id": "5d66e821",
   "metadata": {
    "id": "5d66e821"
   },
   "source": [
    "This approach was less straight forward. However, this same approach will hold up for other lines formatted like this one as well. Let's have a quick look at another email line from the original <i>Recent_Projects_Simple.html</i> page:\n",
    "\n",
    "<i>*Pretending we have already read in the file, extracted this line from the list, and removed the white space.</i>"
   ]
  },
  {
   "cell_type": "code",
   "execution_count": null,
   "id": "0c431215",
   "metadata": {
    "id": "0c431215",
    "outputId": "0bce6a9a-ff26-4376-dd1f-be1a2a58fce3"
   },
   "outputs": [
    {
     "name": "stdout",
     "output_type": "stream",
     "text": [
      "https://www.cartercenter.org/\n"
     ]
    }
   ],
   "source": [
    "email_line = '<p><u>Website</u>: <a href = \"https://www.cartercenter.org/\">https://www.cartercenter.org/</a></p>\"'\n",
    "\n",
    "# the following code is exactly the same as above\n",
    "split_line = email_line.split('>')\n",
    "email = split_line[4].rstrip('/a')\n",
    "email = email[:len(email)-1]\n",
    "print(email)"
   ]
  },
  {
   "cell_type": "markdown",
   "id": "0e7a5947",
   "metadata": {
    "id": "0e7a5947"
   },
   "source": [
    "Above, we used the exact same method for processing the email line. I just copied and pasted the code. Overall, this example was to reinforce what we covered in this unit, but also to demonstrate a wider application of concepts that we covered in previous units and lessons. Most importantly, we are developing how to think like a programmer by constructing a solution that is reusable and more applicable to different situations (in our case, different HTML lines)."
   ]
  }
 ],
 "metadata": {
  "colab": {
   "provenance": []
  },
  "kernelspec": {
   "display_name": "Python 3 (ipykernel)",
   "language": "python",
   "name": "python3"
  },
  "language_info": {
   "codemirror_mode": {
    "name": "ipython",
    "version": 3
   },
   "file_extension": ".py",
   "mimetype": "text/x-python",
   "name": "python",
   "nbconvert_exporter": "python",
   "pygments_lexer": "ipython3",
   "version": "3.9.13"
  }
 },
 "nbformat": 4,
 "nbformat_minor": 5
}
