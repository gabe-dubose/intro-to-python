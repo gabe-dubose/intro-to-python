{
 "cells": [
  {
   "cell_type": "markdown",
   "id": "28d95328",
   "metadata": {},
   "source": [
    "## Module 2B: How to Read Files into Lists"
   ]
  },
  {
   "cell_type": "markdown",
   "id": "61110535",
   "metadata": {},
   "source": [
    "The big picture of this course is to introduce you to Python through the lens of webscraping. To reiterate what was mentioned in the <i>Introduction</i> module, when we scrape a webpage, we are really just searching through each line in the HTML file and searching for key tags and terms that identify different elements. Before we get started, lets recall a few key topics.\n",
    "\n",
    "First, most webpages are just HTML files that have additional style added to them (which can be done a variety of ways). Each line of this file can be treated as plain text and saved as a string, which we can then manipulate like we would any string (covered in Module 1).\n",
    "\n",
    "Second, since we can make each line in an HTML file into a string, we can save these lines into a list. This will become very important when we talk about how to loop through each item in a list to scrape it. For now, we are just going to cover how to construct said list."
   ]
  },
  {
   "cell_type": "markdown",
   "id": "ab544b8a",
   "metadata": {},
   "source": [
    "### Unit 1: File Paths and Working Directories"
   ]
  },
  {
   "cell_type": "markdown",
   "id": "f4379c0a",
   "metadata": {},
   "source": [
    "Since we are dealing with files that are now going to be saved onto our computer, we need to go over how to tell Python where to find these files. In order to do this, we need to go over what exactly files and directories are.\n",
    "\n",
    "<b>Directories</b>, simply put, are locations for storing files on a computer. This is easy to illustrate by looking at the folders on your desktop (directories and folders are the same thing). As an exercise, say we have a folder called \"Projects\" on our Desktop. Within this folder, there are 5 folders: Baby_Kicks, Concrete_Jungle, GreenLight_Fund, The_Bakery, and The_Carter_Center. Directories are set up in a herirachical system. Therefore, the <b>path</b> to the \"Baby_Kicks\" folder is <b><i>/Desktop/Projects/Baby_Kicks</i></b>. A path is just the directions to your directory or file, where each location is separated by a \"/\". In the path to the Baby_Kicks directory, the first location is the \"Desktop.\" After \"Desktop\" comes \"Projects.\" This means that the Projects directory is inside of the Desktop directory. Likewise, the Baby_Kicks folder is inside of the Projects directory. You can think of this as a sort of tree-like structure:\n",
    "\n",
    "                       |\n",
    "                    Desktop\n",
    "                       |\n",
    "               |---------------|\n",
    "          Other_folders     Projects\n",
    "                               |\n",
    "               |---------------|------------------|-----------|----------------| \n",
    "           Baby_Kicks  Concrete_Jungle  GreenLight_Fund    The_Bakery     The_Carter_Center\n",
    "                         \n",
    "                         \n",
    "You may have noticed that in our example file path, there was a \"/\" infront of the \"Desktop\" directory as well. This implies that there is some directory that the \"Desktop\" directory is inside of. Your entire computer is set up in this, and your Desktop is just your main interface. There are many other directories further up the tree (towards the root), but we don't have to worry about these right now.\n",
    "\n",
    "\n",
    "<b>Files</b> are objects that simply hold various kinds of data. The path to a file is just the path to the directory is it inside of, with it's name tagged onto the end. For example, say there is a file inside of the Baby_Kicks directory called \"Results.txt.\" The path to this file would be <b><i>/Desktop/Projects/Baby_Kicks/Results.txt</i></b>\n",
    "\n",
    "There is a lot more depth that we can go into on this topic. However, this is a Python course, not a general computer course. The simplest approach for your purposes as a beginner will be to work from your Desktop. That way you can physically see all of the directories and files that you will be dealing with."
   ]
  },
  {
   "cell_type": "markdown",
   "id": "e4542a12",
   "metadata": {},
   "source": [
    "### Unit 2: Opening and Reading Files in Python"
   ]
  },
  {
   "cell_type": "markdown",
   "id": "1be4741f",
   "metadata": {},
   "source": [
    "Now that we have covered how to tell Python where your files are, let's look at how to open these files with Python and save their contents into data structures that we can work with.\n",
    "\n",
    "In the directory that this notebook was distributed with, there is a simplified verison of the \"Recent_Projects_Simple.html\" that we looked at in the <i>Introduction</i> module. This file is called \"GreenLight_Fund.html\" and it contained just the information about the GreenLight Fund project. This file will be used in the following examples."
   ]
  },
  {
   "cell_type": "markdown",
   "id": "417b6a72",
   "metadata": {},
   "source": [
    "To open a file with Python, we use the <b>open()</b> function. This function takes two arguments: the name of the file, and what you want to do witht he file. For this lesson, we will be reading the file, so we will put 'r' (for read) in this argument. However in later lessons we will use this same function to write and add to files as well."
   ]
  },
  {
   "cell_type": "code",
   "execution_count": 1,
   "id": "6ffcc043",
   "metadata": {},
   "outputs": [],
   "source": [
    "file = open('GreenLight_Fund.html', 'r')"
   ]
  },
  {
   "cell_type": "markdown",
   "id": "30785403",
   "metadata": {},
   "source": [
    "Although we have opened the file, we can't really work with it in this form. Notice what happens if you try to print the file."
   ]
  },
  {
   "cell_type": "code",
   "execution_count": 2,
   "id": "c747d510",
   "metadata": {},
   "outputs": [
    {
     "name": "stdout",
     "output_type": "stream",
     "text": [
      "<_io.TextIOWrapper name='GreenLight_Fund.html' mode='r' encoding='UTF-8'>\n"
     ]
    }
   ],
   "source": [
    "print(file)"
   ]
  },
  {
   "cell_type": "markdown",
   "id": "48ca78de",
   "metadata": {},
   "source": [
    "When we save the open file to a variable, it is a type called an _io.TextIOWrapper. We don't have go into the details about what this means. For now, just remember that you can use the <b>.readlines()</b> function to save the file to a list, where each line is a different element in said list."
   ]
  },
  {
   "cell_type": "code",
   "execution_count": 3,
   "id": "e675d859",
   "metadata": {
    "scrolled": true
   },
   "outputs": [
    {
     "name": "stdout",
     "output_type": "stream",
     "text": [
      "['<!DOCTYPE html>\\n', '\\n', '<html>\\n', '\\n', '    <body style=\"background-color: white;\">\\n', '\\n', '        <h1>Dataworks Recent Projects</h1>\\n', '        <hr>\\n', '\\n', '        <h2><b>GreenLight Fund</b></h2>\\n', '        <p><u>Client</u>: The GreenLight Fund - Atlanta</p>\\n', '        <p><u>Website</u>: <a href = \"https://greenlightfund.org/sites/atlanta/\">https://greenlightfund.org/sites/atlanta/</a></p>\\n', '        <p><u>Main Location</u>: 33.7672720, -84.4001850</p>\\n', '        <p><u>Tools Used:</u> Excel, Power BI</p>\\n', '        <p><u>Description</u></p>The GreenLight Fund supports non-profits that directly address issues important to local community members. To help identify those issues, DataWorks conducted interviews with 100 people from Fulton, Dekalb, Gwinnett, Clayton, and Cobb counties. The team <b>recruited participants</b> by canvassing locations like MARTA stations, shopping centers, and neighborhoods. The interview responses were <b>documented in a spreadsheet</b> and the team <b>identified patterns</b>. The primary concern in metro-Atlanta is income and housing inequality, and the second major concern is access to safe, affordable mental healthcare. The team <b>composed data visualizations</b> to illustrate their findings. This project is an important path for community members to inform supportive organizations of their needs.\\n', '        <hr>']\n"
     ]
    }
   ],
   "source": [
    "file = open('GreenLight_Fund.html', 'r')\n",
    "lines = file.readlines()\n",
    "print(lines)"
   ]
  },
  {
   "cell_type": "markdown",
   "id": "24965fd5",
   "metadata": {},
   "source": [
    "Now we can start to see the contents of our file. However, it is a bit messy. Since each line is a separate element in the list, there are some cases where the line is just a newline charcter (\\n). Also you can start to see the relevance of <i>Module 1</i> come in. We will need a way to clean up the elements in this list.\n",
    "\n",
    "As a side note, there is another popular way of performing this same function. As with other cases like this, it does not necessairly matter which way you accomplish these tasks. However, we are covering alternative ways because different people will perfer one way over the other, and some methods are more human readable than other. See the example below:"
   ]
  },
  {
   "cell_type": "code",
   "execution_count": 4,
   "id": "e99601ab",
   "metadata": {
    "scrolled": false
   },
   "outputs": [
    {
     "name": "stdout",
     "output_type": "stream",
     "text": [
      "['<!DOCTYPE html>\\n', '\\n', '<html>\\n', '\\n', '    <body style=\"background-color: white;\">\\n', '\\n', '        <h1>Dataworks Recent Projects</h1>\\n', '        <hr>\\n', '\\n', '        <h2><b>GreenLight Fund</b></h2>\\n', '        <p><u>Client</u>: The GreenLight Fund - Atlanta</p>\\n', '        <p><u>Website</u>: <a href = \"https://greenlightfund.org/sites/atlanta/\">https://greenlightfund.org/sites/atlanta/</a></p>\\n', '        <p><u>Main Location</u>: 33.7672720, -84.4001850</p>\\n', '        <p><u>Tools Used:</u> Excel, Power BI</p>\\n', '        <p><u>Description</u></p>The GreenLight Fund supports non-profits that directly address issues important to local community members. To help identify those issues, DataWorks conducted interviews with 100 people from Fulton, Dekalb, Gwinnett, Clayton, and Cobb counties. The team <b>recruited participants</b> by canvassing locations like MARTA stations, shopping centers, and neighborhoods. The interview responses were <b>documented in a spreadsheet</b> and the team <b>identified patterns</b>. The primary concern in metro-Atlanta is income and housing inequality, and the second major concern is access to safe, affordable mental healthcare. The team <b>composed data visualizations</b> to illustrate their findings. This project is an important path for community members to inform supportive organizations of their needs.\\n', '        <hr>']\n"
     ]
    }
   ],
   "source": [
    "with open('GreenLight_Fund.html', 'r') as file:\n",
    "    lines = file.readlines()\n",
    "\n",
    "print(lines)"
   ]
  },
  {
   "cell_type": "markdown",
   "id": "273a9cf8",
   "metadata": {},
   "source": [
    "Let's break this down. First, we used a <b>with statement</b>, which tells Python to use the open function. Instead of saving the file to a variable with an equals sign, we used the <b>as</b> keyword to assign our opened file to the name 'file.' Finally, we used the <b>readlines()</b> function to save the lines in the file to a list, which we named 'lines.'"
   ]
  },
  {
   "cell_type": "markdown",
   "id": "efd1bbda",
   "metadata": {},
   "source": [
    "There might be some cases where you only want to read one line in the file. Python offers a simiar function called <b>.readline()</b> that will read the first line of the file and return it as a string."
   ]
  },
  {
   "cell_type": "code",
   "execution_count": 5,
   "id": "d9250c9c",
   "metadata": {},
   "outputs": [
    {
     "name": "stdout",
     "output_type": "stream",
     "text": [
      "<!DOCTYPE html>\n",
      "\n"
     ]
    }
   ],
   "source": [
    "file = open('GreenLight_Fund.html', 'r')\n",
    "first_line = file.readline()\n",
    "print(first_line)"
   ]
  },
  {
   "cell_type": "markdown",
   "id": "e460a7ee",
   "metadata": {},
   "source": [
    "There might be some cases where you want to read only the first line. For example, say we have 100 files and I want to check to see if they are HTML files or not. Instead of reading all of the lines for each file, we can just look at the first one to decide. The scenario in this example will not always hold (if for some reason the first line was skipped), but instances like this illustrate when .readline() is good to use."
   ]
  },
  {
   "cell_type": "markdown",
   "id": "7c2d7c90",
   "metadata": {},
   "source": [
    "### Unit 3: A Worked Example"
   ]
  },
  {
   "cell_type": "markdown",
   "id": "02fa9b59",
   "metadata": {},
   "source": [
    "For this example, we want to get the GreenLight Fund email and store it as a variable called \"email.\" There are many ways to go about this.\n",
    "\n",
    "One approach could be to:\n",
    "\n",
    "1) Read the file and save the lines into a list\n",
    "\n",
    "2) Get the line that contains the the email address and remove the white space using .strip()\n",
    "\n",
    "3) Use the positions of the first letter of the email and the last letter to slice out the email address and save this to a variable\n",
    "\n",
    "This sound good. Let's give it a try."
   ]
  },
  {
   "cell_type": "code",
   "execution_count": 6,
   "id": "45441df1",
   "metadata": {},
   "outputs": [
    {
     "name": "stdout",
     "output_type": "stream",
     "text": [
      "        <p><u>Website</u>: <a href = \"https://greenlightfund.org/sites/atlanta/\">https://greenlightfund.org/sites/atlanta/</a></p>\n",
      "\n"
     ]
    }
   ],
   "source": [
    "with open('GreenLight_Fund.html', 'r') as file:\n",
    "    lines = file.readlines()\n",
    "\n",
    "# to get this line number, I opened up the HTML file and looked for the line I needed\n",
    "email_line = lines[11]\n",
    "\n",
    "print(email_line)"
   ]
  },
  {
   "cell_type": "markdown",
   "id": "10af41ee",
   "metadata": {},
   "source": [
    "So far so good. I read the file and saved it into a list. Then I looked at the HTML file and saw that I needed line 13. Then I used this line number - 1 (because Python starts counting at 0) to slice this line out of the list. "
   ]
  },
  {
   "cell_type": "code",
   "execution_count": 7,
   "id": "98e099da",
   "metadata": {},
   "outputs": [
    {
     "name": "stdout",
     "output_type": "stream",
     "text": [
      "<p><u>Website</u>: <a href = \"https://greenlightfund.org/sites/atlanta/\">https://greenlightfund.org/sites/atlanta/</a></p>\n"
     ]
    }
   ],
   "source": [
    "#now to remove the white space\n",
    "email_line = email_line.strip()\n",
    "print(email_line)"
   ]
  },
  {
   "cell_type": "code",
   "execution_count": 8,
   "id": "0cc2da6e",
   "metadata": {
    "scrolled": true
   },
   "outputs": [
    {
     "name": "stdout",
     "output_type": "stream",
     "text": [
      "https://greenlightfund.org/sites/atlanta/\n"
     ]
    }
   ],
   "source": [
    "# and finally, to extract the email I want\n",
    "email = email_line[30:71]\n",
    "print(email)"
   ]
  },
  {
   "cell_type": "markdown",
   "id": "9adf0ac0",
   "metadata": {},
   "source": [
    "You may have noticed one issue with this approach. How do you know the positions you need? Counting every time seems tedious. Wile I did not count the positions, I did take a guess and check approach to get the specific frame I needed. It's easy to imageine a scenario where this approach might not be sufficient. Say you want to do this for 100 different email lines, each with different lengths. We won't actually do these one by one. We will be writing a loop to iterate through them (which we will discuss later). The \"counting approach\" and the \"guess and check\" approaches are not suitable for putting inside of loops because they require your input each time. Our objective is to automate this process. Let's see if we can come up with an approach that might be more applicable to more complex situations:\n",
    "\n",
    "1) Our first several steps will be the same as before. Read in the HTML file, get the line we want, and remove the whitespace.\n",
    "\n",
    "2) If we look at the HTML line we are interested in, we see that there are various symbols that we might be able to use the .split() function on. Since our target is between a \">\" and a \"<\", we can split the string by \">\" and use lstrip to remove the tailing HTML tags.\n",
    "\n",
    "3) In the split, our target text will be in the 5th (4th in Python) field in the list. We can get this element and remove the trailing HTML tags.\n",
    "\n",
    "\n"
   ]
  },
  {
   "cell_type": "code",
   "execution_count": 9,
   "id": "c0fea81c",
   "metadata": {},
   "outputs": [
    {
     "name": "stdout",
     "output_type": "stream",
     "text": [
      "<p><u>Website</u>: <a href = \"https://greenlightfund.org/sites/atlanta/\">https://greenlightfund.org/sites/atlanta/</a></p>\n"
     ]
    }
   ],
   "source": [
    "# Step 1\n",
    "with open('GreenLight_Fund.html', 'r') as file:\n",
    "    lines = file.readlines()\n",
    "\n",
    "# we can add the .strip() function directly to this line of code for simplicity\n",
    "email_line = lines[11].strip()\n",
    "\n",
    "print(email_line)"
   ]
  },
  {
   "cell_type": "code",
   "execution_count": 10,
   "id": "390e2f90",
   "metadata": {},
   "outputs": [
    {
     "name": "stdout",
     "output_type": "stream",
     "text": [
      "['<p', '<u', 'Website</u', ': <a href = \"https://greenlightfund.org/sites/atlanta/\"', 'https://greenlightfund.org/sites/atlanta/</a', '</p', '']\n"
     ]
    }
   ],
   "source": [
    "# Step 2\n",
    "split_line = email_line.split('>')\n",
    "print(split_line)"
   ]
  },
  {
   "cell_type": "code",
   "execution_count": 11,
   "id": "e90c66bc",
   "metadata": {
    "scrolled": true
   },
   "outputs": [
    {
     "name": "stdout",
     "output_type": "stream",
     "text": [
      "https://greenlightfund.org/sites/atlanta/<\n"
     ]
    }
   ],
   "source": [
    "# Step 3\n",
    "\n",
    "email = split_line[4].rstrip('/a')\n",
    "print(email)"
   ]
  },
  {
   "cell_type": "markdown",
   "id": "fd9c6cb4",
   "metadata": {},
   "source": [
    "Sometimes Python has a diffucult time stripping '<' characters. Therefore, we will just remove this by selecting all of the character except for the last one. We can do this using the len() function."
   ]
  },
  {
   "cell_type": "code",
   "execution_count": 12,
   "id": "e737d5a5",
   "metadata": {},
   "outputs": [
    {
     "name": "stdout",
     "output_type": "stream",
     "text": [
      "https://greenlightfund.org/sites/atlanta/\n"
     ]
    }
   ],
   "source": [
    "# Final Output\n",
    "email = email[:len(email)-1]\n",
    "print(email)"
   ]
  },
  {
   "cell_type": "markdown",
   "id": "5d66e821",
   "metadata": {},
   "source": [
    "This approach was somewhat less straight forward. However, this same approach will hold up for other lines formatted like this one as well. Let's have a quick look at another email line from the original \"Recent_Projects_Simple.html\" page:\n",
    "\n",
    "\\<p>\\<u>Website\\</u>: \\<a href = \"https://www.cartercenter.org/\">https://www.cartercenter.org/\\</a>\\</p>\n",
    "\n",
    "Pretend I have already read in the file, extracted this line from the list, and removed the white space."
   ]
  },
  {
   "cell_type": "code",
   "execution_count": 13,
   "id": "0c431215",
   "metadata": {},
   "outputs": [
    {
     "name": "stdout",
     "output_type": "stream",
     "text": [
      "https://www.cartercenter.org/\n"
     ]
    }
   ],
   "source": [
    "email_line = '<p><u>Website</u>: <a href = \"https://www.cartercenter.org/\">https://www.cartercenter.org/</a></p>\"'\n",
    "\n",
    "# the following code is exactly the same as above\n",
    "split_line = email_line.split('>')\n",
    "email = split_line[4].rstrip('/a')\n",
    "email = email[:len(email)-1]\n",
    "print(email)"
   ]
  },
  {
   "cell_type": "markdown",
   "id": "0e7a5947",
   "metadata": {},
   "source": [
    "Above, we used the exact same method for processing the email line. I just copied and pasted the code. Overall, this example was to reinforce what we covered in this module, but also to demonstrate a wider application of concepts that we covered in previous modules. Most importantly, we are developing how to think like a programmer constructing a solution that is reusable and more applicable to different situations (in our case, different HTML lines)."
   ]
  },
  {
   "cell_type": "markdown",
   "id": "a9ef244b",
   "metadata": {},
   "source": [
    "### Unit 4: Practice Problems"
   ]
  },
  {
   "cell_type": "markdown",
   "id": "6e849391",
   "metadata": {},
   "source": [
    "<b>Problem 1</b>: In the GreenLight_Fund.html file, the header of the page is \"Dataworks Recent Projects.\" This header is enclosed by the \\<h1> and \\</h1> HTML tags. Save this header to the \"page_header\" variable.\n",
    "\n",
    "Expected output:\n",
    "\n",
    "page_header = 'Dataworks Recent Projects'"
   ]
  },
  {
   "cell_type": "code",
   "execution_count": 14,
   "id": "b6751031",
   "metadata": {},
   "outputs": [],
   "source": [
    "page_header = ''\n",
    "\n",
    "# type your code here\n",
    "\n"
   ]
  },
  {
   "cell_type": "markdown",
   "id": "864a1c08",
   "metadata": {},
   "source": [
    "<b>Problem 2</b>: In the GreenLight_Fund.html file, there are several terms that are bolded in the description that indicate what tasks Data Works performed for this project. The words are made bold by enclosing them in the \\<b> and \\</b> HTML tags. The objective of this exercise is to save each of the bolded terms into the \"tasks\" list. \n",
    "\n",
    "Expected output:\n",
    "\n",
    "tasks = ['recruited participants', 'documented in a spreadsheet', 'identified patterns', 'composed data visualizations']\n",
    "\n",
    "<i>Note: It might be useful to write out an approach before beginning the task</i>"
   ]
  },
  {
   "cell_type": "markdown",
   "id": "fcffeace",
   "metadata": {},
   "source": [
    "#### Type your approach here\n",
    "___________________________\n",
    "\n",
    "1)\n",
    "\n",
    "2)\n",
    "\n",
    "3)\n",
    "\n",
    "..."
   ]
  },
  {
   "cell_type": "code",
   "execution_count": 15,
   "id": "9189bc96",
   "metadata": {},
   "outputs": [],
   "source": [
    "tasks = []\n",
    "\n",
    "# type your code below\n",
    "\n",
    "\n"
   ]
  }
 ],
 "metadata": {
  "kernelspec": {
   "display_name": "Python 3 (ipykernel)",
   "language": "python",
   "name": "python3"
  },
  "language_info": {
   "codemirror_mode": {
    "name": "ipython",
    "version": 3
   },
   "file_extension": ".py",
   "mimetype": "text/x-python",
   "name": "python",
   "nbconvert_exporter": "python",
   "pygments_lexer": "ipython3",
   "version": "3.9.12"
  }
 },
 "nbformat": 4,
 "nbformat_minor": 5
}
