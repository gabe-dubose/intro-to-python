{
 "cells": [
  {
   "cell_type": "markdown",
   "id": "a3502d3e",
   "metadata": {},
   "source": [
    "## Unit 2A: How to Define and Manipulate Lists"
   ]
  },
  {
   "cell_type": "markdown",
   "id": "36a9d27d",
   "metadata": {},
   "source": [
    "<b>Lists</b> are one of the primary data structures programmers use to store multiple items into single variables. For now, we will make lists of strings, since that is the data type we are most familiar with at this point. However, lists can be comprised of many different data types, which we will see in later units. We will do some more complex things with lists when we go over loops. But for now, you can just think about lists like you would a grocery list."
   ]
  },
  {
   "cell_type": "markdown",
   "id": "3ea9816e",
   "metadata": {},
   "source": [
    "### Defining Lists\n",
    "\n",
    "To define a list in Python, simply declare the variable name and set it equals to a set of brackets. The general syntax is:\n",
    "\n",
    "    a_list = []"
   ]
  },
  {
   "cell_type": "code",
   "execution_count": 1,
   "id": "e51e28f6",
   "metadata": {
    "scrolled": true
   },
   "outputs": [
    {
     "name": "stdout",
     "output_type": "stream",
     "text": [
      "[]\n"
     ]
    }
   ],
   "source": [
    "empty_list = []\n",
    "print(empty_list)"
   ]
  },
  {
   "cell_type": "markdown",
   "id": "5610b389",
   "metadata": {},
   "source": [
    "We can populate the list with strings separated by commas."
   ]
  },
  {
   "cell_type": "code",
   "execution_count": 2,
   "id": "5a5c48b0",
   "metadata": {
    "scrolled": true
   },
   "outputs": [
    {
     "name": "stdout",
     "output_type": "stream",
     "text": [
      "['GreenLight Fund', 'The Carter Center', 'The Bakery', 'Baby Kicks', 'Concrete Jungle']\n"
     ]
    }
   ],
   "source": [
    "projects = ['GreenLight Fund', 'The Carter Center', 'The Bakery', 'Baby Kicks', 'Concrete Jungle']\n",
    "print(projects)"
   ]
  },
  {
   "cell_type": "markdown",
   "id": "b4902374",
   "metadata": {},
   "source": [
    "We can also populate a list with strings assigned to variables."
   ]
  },
  {
   "cell_type": "code",
   "execution_count": 3,
   "id": "05260023",
   "metadata": {
    "scrolled": true
   },
   "outputs": [
    {
     "name": "stdout",
     "output_type": "stream",
     "text": [
      "['GreenLight Fund', 'The Carter Center', 'The Bakery', 'Baby Kicks', 'Concrete Jungle']\n"
     ]
    }
   ],
   "source": [
    "project1 = 'GreenLight Fund'\n",
    "project2 = 'The Carter Center'\n",
    "project3 = 'The Bakery'\n",
    "project4 = 'Baby Kicks'\n",
    "project5 = 'Concrete Jungle'\n",
    "\n",
    "projects = [project1, project2, project3, project4, project5]\n",
    "\n",
    "print(projects)"
   ]
  },
  {
   "cell_type": "markdown",
   "id": "fce21be8",
   "metadata": {},
   "source": [
    "<i>Note: This concept should be becoming increasingly clear: when we assign a variable name to a data type, that variable can be treated like the data itself."
   ]
  },
  {
   "cell_type": "markdown",
   "id": "bac6f99c",
   "metadata": {},
   "source": [
    "### Adding Items to An Existing List"
   ]
  },
  {
   "cell_type": "markdown",
   "id": "aedd9239",
   "metadata": {},
   "source": [
    "Once we have a defined list, we can add items to it using the <b>.append()</b> function. This does exactly what it sounds like: it appends an item to the end of whatever list you specify. For exmple, say we want to add 'Baby Kicks' to the end of the list below:"
   ]
  },
  {
   "cell_type": "code",
   "execution_count": 4,
   "id": "55ef24a1",
   "metadata": {},
   "outputs": [
    {
     "name": "stdout",
     "output_type": "stream",
     "text": [
      "['GreenLight Fund', 'The Carter Center', 'The Bakery', 'Baby Kicks']\n"
     ]
    }
   ],
   "source": [
    "projects = ['GreenLight Fund', 'The Carter Center', 'The Bakery']\n",
    "\n",
    "# append Baby Kicks\n",
    "projects.append('Baby Kicks')\n",
    "\n",
    "print(projects)"
   ]
  },
  {
   "cell_type": "markdown",
   "id": "19821fa5",
   "metadata": {},
   "source": [
    "The .append() function only adds one item at a time. If we try to add multiple elements it will tell us that the function only accepts 1 argument:"
   ]
  },
  {
   "cell_type": "code",
   "execution_count": 5,
   "id": "a09a51f6",
   "metadata": {
    "scrolled": true
   },
   "outputs": [
    {
     "ename": "TypeError",
     "evalue": "list.append() takes exactly one argument (2 given)",
     "output_type": "error",
     "traceback": [
      "\u001b[0;31m---------------------------------------------------------------------------\u001b[0m",
      "\u001b[0;31mTypeError\u001b[0m                                 Traceback (most recent call last)",
      "Input \u001b[0;32mIn [5]\u001b[0m, in \u001b[0;36m<cell line: 2>\u001b[0;34m()\u001b[0m\n\u001b[1;32m      1\u001b[0m projects \u001b[38;5;241m=\u001b[39m [\u001b[38;5;124m'\u001b[39m\u001b[38;5;124mGreenLight Fund\u001b[39m\u001b[38;5;124m'\u001b[39m, \u001b[38;5;124m'\u001b[39m\u001b[38;5;124mThe Carter Center\u001b[39m\u001b[38;5;124m'\u001b[39m, \u001b[38;5;124m'\u001b[39m\u001b[38;5;124mThe Bakery\u001b[39m\u001b[38;5;124m'\u001b[39m]\n\u001b[0;32m----> 2\u001b[0m \u001b[43mprojects\u001b[49m\u001b[38;5;241;43m.\u001b[39;49m\u001b[43mappend\u001b[49m\u001b[43m(\u001b[49m\u001b[38;5;124;43m'\u001b[39;49m\u001b[38;5;124;43mBaby Kicks\u001b[39;49m\u001b[38;5;124;43m'\u001b[39;49m\u001b[43m,\u001b[49m\u001b[43m \u001b[49m\u001b[38;5;124;43m'\u001b[39;49m\u001b[38;5;124;43mConcrete Jungle\u001b[39;49m\u001b[38;5;124;43m'\u001b[39;49m\u001b[43m)\u001b[49m\n",
      "\u001b[0;31mTypeError\u001b[0m: list.append() takes exactly one argument (2 given)"
     ]
    }
   ],
   "source": [
    "projects = ['GreenLight Fund', 'The Carter Center', 'The Bakery']\n",
    "projects.append('Baby Kicks', 'Concrete Jungle')"
   ]
  },
  {
   "cell_type": "markdown",
   "id": "9f8bf859",
   "metadata": {},
   "source": [
    "One reasonable solution to this might be to designate the two elements that we want to add as a list, and try to append that list to the other list. Let's give that a shot and see what happens."
   ]
  },
  {
   "cell_type": "code",
   "execution_count": 6,
   "id": "83cd67b3",
   "metadata": {},
   "outputs": [
    {
     "name": "stdout",
     "output_type": "stream",
     "text": [
      "['GreenLight Fund', 'The Carter Center', 'The Bakery', ['Baby Kicks', 'Concrete Jungle']]\n"
     ]
    }
   ],
   "source": [
    "projects = ['GreenLight Fund', 'The Carter Center', 'The Bakery']\n",
    "adds = ['Baby Kicks', 'Concrete Jungle']\n",
    "projects.append(adds)\n",
    "\n",
    "print(projects)"
   ]
  },
  {
   "cell_type": "markdown",
   "id": "9dbae350",
   "metadata": {},
   "source": [
    "Even though our code did not throw an error, something strange happened. Since we tried to append a list to another list, instead of just appending the values, we appended the entire list! What we have just created is a list within a list. We won't go too deep into this now, but we will revist this concept in a later unit. For now, let's look at different ways to add lists."
   ]
  },
  {
   "cell_type": "markdown",
   "id": "e042d80e",
   "metadata": {},
   "source": [
    "### Adding Lists Together"
   ]
  },
  {
   "cell_type": "markdown",
   "id": "e898c606",
   "metadata": {},
   "source": [
    "Just as with string, we can add two lists together. This is a common theme you will see throught this module: we can do most of the things that we do to stirngs to lists as well. Python offers several different methods for combining lists. The most intuitive method is to simply add two defined lists uing a <b>+</b> sign."
   ]
  },
  {
   "cell_type": "code",
   "execution_count": 7,
   "id": "d93156ce",
   "metadata": {},
   "outputs": [
    {
     "name": "stdout",
     "output_type": "stream",
     "text": [
      "['GreenLight Fund', 'The Carter Center', 'The Bakery', 'Baby Kicks', 'Concrete Jungle']\n"
     ]
    }
   ],
   "source": [
    "some_projects = ['GreenLight Fund', 'The Carter Center', 'The Bakery']\n",
    "some_more_projects = ['Baby Kicks', 'Concrete Jungle']\n",
    "\n",
    "all_projects = some_projects + some_more_projects\n",
    "\n",
    "print(all_projects)"
   ]
  },
  {
   "cell_type": "markdown",
   "id": "4f54a641",
   "metadata": {},
   "source": [
    "Python also offers a method called <b>.extend()</b> that can be applied to one list and used to extend that list with another list."
   ]
  },
  {
   "cell_type": "code",
   "execution_count": 8,
   "id": "9ed51d29",
   "metadata": {},
   "outputs": [
    {
     "name": "stdout",
     "output_type": "stream",
     "text": [
      "['GreenLight Fund', 'The Carter Center', 'The Bakery', 'Baby Kicks', 'Concrete Jungle']\n"
     ]
    }
   ],
   "source": [
    "some_projects = ['GreenLight Fund', 'The Carter Center', 'The Bakery']\n",
    "some_more_projects = ['Baby Kicks', 'Concrete Jungle']\n",
    "\n",
    "some_projects.extend(some_more_projects)\n",
    "\n",
    "print(some_projects)"
   ]
  },
  {
   "cell_type": "markdown",
   "id": "4b46ad08",
   "metadata": {},
   "source": [
    "The output here does not really change, and it will not usually matter which method you use. However, notice that we did not assign our newly generated list to a new variable. Rather than adding \"some_projects\" and \"some_more_projects\" and assigning the added list to a new variabe, this method added \"some_more_projects\" to \"some_projects.\" Therefore, \"some_projects\" was edited <b>in place</b>, meaning that its original list was overwritten with the new combined list. For illustration purposes, lets run the same code as above, but try to assign the added list to a new variable:"
   ]
  },
  {
   "cell_type": "code",
   "execution_count": 9,
   "id": "7223eb15",
   "metadata": {},
   "outputs": [
    {
     "name": "stdout",
     "output_type": "stream",
     "text": [
      "None\n"
     ]
    }
   ],
   "source": [
    "some_projects = ['GreenLight Fund', 'The Carter Center', 'The Bakery']\n",
    "some_more_projects = ['Baby Kicks', 'Concrete Jungle']\n",
    "\n",
    "all_projects = some_projects.extend(some_more_projects)\n",
    "\n",
    "print(all_projects)"
   ]
  },
  {
   "cell_type": "markdown",
   "id": "35745a04",
   "metadata": {},
   "source": [
    "When we try to assign the added list to the \"all_projects\" variable, we print the word \"None.\" This is because when we use the .extend() method we are altering the list that the function was applied to (in our case, this is the \"some_projects\" list), rather than generating a new list that can be assigned to a new variable.\n",
    "\n",
    "While this might seem \"in the weeds,\" this concept is important because there will be cases when you want to keep your original lists the way they are, and other cases when you will want to make an actual alteration to an existing list. This same idea also applies to the .append() function and other functions that are performed directly on the objects."
   ]
  },
  {
   "cell_type": "markdown",
   "id": "22e13715",
   "metadata": {},
   "source": [
    "### Slicing Lists"
   ]
  },
  {
   "cell_type": "markdown",
   "id": "11776b5f",
   "metadata": {},
   "source": [
    "We can select different elements in a list based on their position. Recall that Python starts counting at 0: the first element is at position 0, the second element is at position 1, and so on. Syntatically, this is similar to extracting characters from a string:\n",
    "\n",
    "    a_list[start:stop]"
   ]
  },
  {
   "cell_type": "code",
   "execution_count": 10,
   "id": "a28a025c",
   "metadata": {},
   "outputs": [
    {
     "name": "stdout",
     "output_type": "stream",
     "text": [
      "GreenLight Fund\n"
     ]
    }
   ],
   "source": [
    "projects = ['GreenLight Fund', 'The Carter Center', 'The Bakery', 'Baby Kicks', 'Concrete Jungle']\n",
    "\n",
    "first_project = projects[0]\n",
    "\n",
    "print(first_project)"
   ]
  },
  {
   "cell_type": "markdown",
   "id": "4cdf9fda",
   "metadata": {},
   "source": [
    "Also similar to a string, we can extract mutlipe elements from a list using the [start:stop] notation. In the following example, we extract the first and second items in the \"projects\" list. Recall that the stop value in our range is <b>exclusive</b>, meaning that it includes every number up until that value, but not the value itslef."
   ]
  },
  {
   "cell_type": "code",
   "execution_count": 11,
   "id": "ea7c512d",
   "metadata": {},
   "outputs": [
    {
     "name": "stdout",
     "output_type": "stream",
     "text": [
      "['GreenLight Fund', 'The Carter Center']\n"
     ]
    }
   ],
   "source": [
    "projects = ['GreenLight Fund', 'The Carter Center', 'The Bakery', 'Baby Kicks', 'Concrete Jungle']\n",
    "\n",
    "some_projects = projects[0:2]\n",
    "\n",
    "print(some_projects)"
   ]
  },
  {
   "cell_type": "markdown",
   "id": "9dcf60e1",
   "metadata": {},
   "source": [
    "We can also leave the start position empty because it is implied that we want to select everything from the beginning until our end point."
   ]
  },
  {
   "cell_type": "code",
   "execution_count": 12,
   "id": "a9920887",
   "metadata": {},
   "outputs": [
    {
     "name": "stdout",
     "output_type": "stream",
     "text": [
      "['GreenLight Fund', 'The Carter Center']\n"
     ]
    }
   ],
   "source": [
    "projects = ['GreenLight Fund', 'The Carter Center', 'The Bakery', 'Baby Kicks', 'Concrete Jungle']\n",
    "\n",
    "some_projects = projects[:2]\n",
    "\n",
    "print(some_projects)"
   ]
  },
  {
   "cell_type": "markdown",
   "id": "ce08817f",
   "metadata": {},
   "source": [
    "The opposite is true if we want to select the last two elements:"
   ]
  },
  {
   "cell_type": "code",
   "execution_count": 13,
   "id": "26906663",
   "metadata": {},
   "outputs": [
    {
     "name": "stdout",
     "output_type": "stream",
     "text": [
      "['Baby Kicks', 'Concrete Jungle']\n"
     ]
    }
   ],
   "source": [
    "projects = ['GreenLight Fund', 'The Carter Center', 'The Bakery', 'Baby Kicks', 'Concrete Jungle']\n",
    "\n",
    "some_projects = projects[3:]\n",
    "\n",
    "print(some_projects)"
   ]
  },
  {
   "cell_type": "markdown",
   "id": "0f3f39d7",
   "metadata": {},
   "source": [
    "Since the values in our list are strings, if we extract a single value, we can perform our string manipulations directly. In other words, our operations can stack. Consider the following example, where we get the first letter (G) from the first element in the list (GreenLight Fund)."
   ]
  },
  {
   "cell_type": "code",
   "execution_count": 14,
   "id": "82ab6bee",
   "metadata": {},
   "outputs": [
    {
     "name": "stdout",
     "output_type": "stream",
     "text": [
      "G\n"
     ]
    }
   ],
   "source": [
    "projects = ['GreenLight Fund', 'The Carter Center', 'The Bakery', 'Baby Kicks', 'Concrete Jungle']\n",
    "\n",
    "# get the first letter from the first project\n",
    "first_project_first_letter = projects[0][0]\n",
    "\n",
    "print(first_project_first_letter)"
   ]
  },
  {
   "cell_type": "markdown",
   "id": "a021dc5c",
   "metadata": {},
   "source": [
    "While you can perform these operations at the same time, sometimes it might be easier for humans to read if we get the element that we want from the list and assign it to a variable. Then we can perform more manipulations to this variable. Either way we get the same result. This is just important to keep in mind when you think it might be important for someone to easily be able to read your code."
   ]
  },
  {
   "cell_type": "code",
   "execution_count": 15,
   "id": "965d4694",
   "metadata": {},
   "outputs": [
    {
     "name": "stdout",
     "output_type": "stream",
     "text": [
      "G\n"
     ]
    }
   ],
   "source": [
    "projects = ['GreenLight Fund', 'The Carter Center', 'The Bakery', 'Baby Kicks', 'Concrete Jungle']\n",
    "\n",
    "first_project = projects[0]\n",
    "\n",
    "first_letter = first_project[0]\n",
    "\n",
    "print(first_letter)"
   ]
  },
  {
   "cell_type": "markdown",
   "id": "81b7a1f3",
   "metadata": {},
   "source": [
    "### Practice Problems"
   ]
  },
  {
   "cell_type": "markdown",
   "id": "66a666f6",
   "metadata": {},
   "source": [
    "<b>Problem 1</b>: Select the second, third, and fourth website from the \"websites\" list.\n",
    "\n",
    "Expected output: \n",
    "\n",
    "['https://www.cartercenter.org/', 'https://thebakeryatlanta.com/', 'https://humanslab.ece.gatech.edu/']"
   ]
  },
  {
   "cell_type": "code",
   "execution_count": 16,
   "id": "44174635",
   "metadata": {},
   "outputs": [],
   "source": [
    "websites = ['https://greenlightfund.org/sites/', 'https://www.cartercenter.org/', 'https://thebakeryatlanta.com/', 'https://humanslab.ece.gatech.edu/', 'https://www.concrete-jungle.org/']"
   ]
  },
  {
   "cell_type": "code",
   "execution_count": 17,
   "id": "94dc8b38",
   "metadata": {},
   "outputs": [],
   "source": [
    "#write your solution below\n",
    "\n",
    "\n"
   ]
  },
  {
   "cell_type": "markdown",
   "id": "4d01939e",
   "metadata": {},
   "source": [
    "<b>Problem 2</b>: Select the last elements from the \"websites\" and \"clients\" lists and combine add them to the \"concrete_jungle\" list.\n",
    "\n",
    "Expected output:\n",
    "\n",
    "['https://www.concrete-jungle.org/', 'Concrete Jungle']"
   ]
  },
  {
   "cell_type": "code",
   "execution_count": 18,
   "id": "431ffd6e",
   "metadata": {},
   "outputs": [],
   "source": [
    "websites = ['https://greenlightfund.org/sites/', 'https://www.cartercenter.org/', 'https://thebakeryatlanta.com/', 'https://humanslab.ece.gatech.edu/', 'https://www.concrete-jungle.org/']\n",
    "clients = ['The GreenLight Fund', 'The Carter Center', 'The Bakery', 'HumAnS Lab at Georgia Tech', 'Concrete Jungle']\n",
    "\n",
    "concrete_jungle = []"
   ]
  },
  {
   "cell_type": "code",
   "execution_count": 19,
   "id": "67b2642c",
   "metadata": {},
   "outputs": [],
   "source": [
    "#write your solution below\n",
    "\n",
    "\n",
    "\n"
   ]
  },
  {
   "cell_type": "markdown",
   "id": "ef3864a0",
   "metadata": {},
   "source": [
    "<b>Problem 3:</b> Extract just the word 'Bakery' from the \"clients\" list.\n",
    "\n",
    "Expected output:\n",
    "\n",
    "Bakery"
   ]
  },
  {
   "cell_type": "code",
   "execution_count": 20,
   "id": "3d979ba6",
   "metadata": {},
   "outputs": [],
   "source": [
    "clients = ['The GreenLight Fund', 'The Carter Center', 'The Bakery', 'HumAnS Lab at Georgia Tech', 'Concrete Jungle']"
   ]
  },
  {
   "cell_type": "code",
   "execution_count": 21,
   "id": "9e7a7f25",
   "metadata": {},
   "outputs": [],
   "source": [
    "#write your solution below\n",
    "\n",
    "\n",
    "\n"
   ]
  }
 ],
 "metadata": {
  "kernelspec": {
   "display_name": "Python 3 (ipykernel)",
   "language": "python",
   "name": "python3"
  },
  "language_info": {
   "codemirror_mode": {
    "name": "ipython",
    "version": 3
   },
   "file_extension": ".py",
   "mimetype": "text/x-python",
   "name": "python",
   "nbconvert_exporter": "python",
   "pygments_lexer": "ipython3",
   "version": "3.9.12"
  }
 },
 "nbformat": 4,
 "nbformat_minor": 5
}
