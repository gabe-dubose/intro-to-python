{
 "cells": [
  {
   "cell_type": "markdown",
   "id": "ef40554c",
   "metadata": {},
   "source": [
    "## Unit 1B: How to Handle White Spaces"
   ]
  },
  {
   "cell_type": "markdown",
   "id": "1ac9b488",
   "metadata": {},
   "source": [
    "<b>What are spaces, tabs, and newlines?</b>\n",
    "\n",
    "This seems like an odd question. Spaces are the spaces between these words, tabs are slightly longer spaces, and new lines are, well... new lines. While these are obvious things to us, it is important to understand that anytime there is a space in between the words we type, there is an invisible character that tells the computer to leave said space there. The same is true for tabs, new lines, and other kinds of spacings. To understand how to deal with these when you are using Python to webscrape, we need to establish what each of these spacings are."
   ]
  },
  {
   "cell_type": "markdown",
   "id": "1b5174a0",
   "metadata": {},
   "source": [
    "<b>Spaces</b>\n",
    "\n",
    "There really isn't such thing as a \"space\" in a string on a computer. There must be some invisible character there that tells Python to leave a blank space there. There are a few different characters that can be used. As seen in Unit 1A, we inserted a space between the words \"Hello\" and \"World\" by simply adding \" \" (quotations marks with a space between them) between the words. \n",
    "\n",
    "<b>Tabs</b>\n",
    "\n",
    "Another import spacing character is the tab, denoted as <b>\\t</b>. These characters are often used for indentation in paragraphs, as well as code in Python (which we will see later). In many cases, coding languages that do not require tabs will still be written with tabs to help with human readability.\n",
    "\n",
    "<b>New Lines</b>\n",
    "\n",
    "Characters are read by a computer in a straight line. Anytime we see a new line, there is actually an invisible character telling the computer to show a new line on our screens. This is often denoted as <b>\\n</b>. When we are processing most files, we will want to remove these characters from the ends of lines so that we can better manipulate the data into the output that we want."
   ]
  },
  {
   "cell_type": "markdown",
   "id": "582d2d2f",
   "metadata": {},
   "source": [
    "### White Spaces and .strip()"
   ]
  },
  {
   "cell_type": "markdown",
   "id": "eb69d12c",
   "metadata": {},
   "source": [
    "Below are several examples of f-strings that will help visualize what tab characters and new line characters do:"
   ]
  },
  {
   "cell_type": "code",
   "execution_count": 1,
   "id": "b399f30f",
   "metadata": {},
   "outputs": [
    {
     "name": "stdout",
     "output_type": "stream",
     "text": [
      "John\tDoe\tFake Organization\n"
     ]
    }
   ],
   "source": [
    "# Tabs are commonly used when producing tab-delimited files (a file where tabs are separating each column) that can be read by Excel\n",
    "\n",
    "first_name = \"John\"\n",
    "last_name = \"Doe\"\n",
    "organization = \"Fake Organization\"\n",
    "\n",
    "#notice that \\t characters are separating each variabke\n",
    "output = f\"{first_name}\\t{last_name}\\t{organization}\"\n",
    "\n",
    "print(output)"
   ]
  },
  {
   "cell_type": "code",
   "execution_count": 2,
   "id": "40c5e1d4",
   "metadata": {
    "scrolled": true
   },
   "outputs": [
    {
     "name": "stdout",
     "output_type": "stream",
     "text": [
      "This is line 1\n",
      "This is line 2\n",
      "This is line 3\n"
     ]
    }
   ],
   "source": [
    "# New lines are present in almost all documents that you will encounter \n",
    "# It would be really difficult to read a file that is just in one straight line\n",
    "\n",
    "line1 = \"This is line 1\"\n",
    "line2 = \"This is line 2\"\n",
    "line3 = \"This is line 3\"\n",
    "\n",
    "#notice the \\n characters separating the variables\n",
    "output = f\"{line1}\\n{line2}\\n{line3}\"\n",
    "\n",
    "print(output)"
   ]
  },
  {
   "cell_type": "markdown",
   "id": "48131c93",
   "metadata": {},
   "source": [
    "As you can see in the first example, we define three variables and print them using an f-string. We also insert a tab character (<b>\\t</b>) between each of the fields. You can see in the output that there is a large space between each variable. In the second example, we also define three variable and print them using an f-string. However, this time we inserted new line characters (<b>\\n</b>) to make them each print onto a new line.\n",
    "\n",
    "Now that we've looked at different kinds of white spaces that you might encounter, now lets look at how to remove them.\n",
    "\n",
    "Consider this line of HTML code:"
   ]
  },
  {
   "cell_type": "code",
   "execution_count": 3,
   "id": "a4b3f0c8",
   "metadata": {},
   "outputs": [
    {
     "name": "stdout",
     "output_type": "stream",
     "text": [
      "        <p><u>Client</u>: The GreenLight Fund - Atlanta</p>\n"
     ]
    }
   ],
   "source": [
    "html_line = f\"        <p><u>Client</u>: The GreenLight Fund - Atlanta</p>\"\n",
    "print(html_line)"
   ]
  },
  {
   "cell_type": "markdown",
   "id": "c2692c92",
   "metadata": {},
   "source": [
    "We want to clean up this line by removing everything except \"The GreenLight Fund - Atlanta.\" \n",
    "\n",
    "First, this line of code has an unknown number of white spaces in the beginning that will need to be removed. Python has a functionality for this called <b>.strip()</b>. The default behavior of this function is to remove all leading and trailing spaces from a string, which is what we need to do."
   ]
  },
  {
   "cell_type": "code",
   "execution_count": 4,
   "id": "2f382111",
   "metadata": {},
   "outputs": [
    {
     "name": "stdout",
     "output_type": "stream",
     "text": [
      "<p><u>Client</u>: The GreenLight Fund - Atlanta</p>\n"
     ]
    }
   ],
   "source": [
    "# since we won't be needing the original html_line string, we can just reassign our new stripped line to the same name\n",
    "html_line = html_line.strip()\n",
    "print(html_line)"
   ]
  },
  {
   "cell_type": "markdown",
   "id": "d5cd88ac",
   "metadata": {},
   "source": [
    "Notice that our string is printed all the way to the left (all spaces on the left side have been removed. While the default behavior of .strip() is to remove white spaces, you can use it to remvoe whatever you want by putting a string in between the parentheses:"
   ]
  },
  {
   "cell_type": "code",
   "execution_count": 5,
   "id": "f761ef64",
   "metadata": {},
   "outputs": [
    {
     "name": "stdout",
     "output_type": "stream",
     "text": [
      "some_text\n"
     ]
    }
   ],
   "source": [
    "some_text = \"__some_text____________\"\n",
    "some_text = some_text.strip('_')\n",
    "print(some_text)"
   ]
  },
  {
   "cell_type": "markdown",
   "id": "989bef5a",
   "metadata": {},
   "source": [
    "In the example above, we told the strip function to remove all leading and trailing underscores by feeding putting an underscore between the parentheses in the strip function. This is known as an <b>argument</b>, and most functions take arguments to provide further specification on what you want the function to do. \n",
    "\n",
    "<i>*Notice that, only the leading and trailing underscores are removed, and the underscore between \"some\" and \"text\" is left.</i>"
   ]
  },
  {
   "cell_type": "markdown",
   "id": "d7242b03",
   "metadata": {},
   "source": [
    "Going back to our HTML line example, now we want to remove everything else surrounding the words that we want. However, the characters are slightly different on each side. On the left side of the string, the characters we want to remove are \"\\<p>\\<u>Client\\</u>: \" and on the right side of the string we want to remove \"\\</p>.\" Python offers derivations of .strip() called <b>.rstrip()</b> and <b>.lstrip()</b> (for right strip and left strip), that allow us to remove specific character from each side of the string. These functions also stackable, meaning when can apply them to the same string simultaneously."
   ]
  },
  {
   "cell_type": "code",
   "execution_count": 6,
   "id": "418f457e",
   "metadata": {
    "scrolled": true
   },
   "outputs": [
    {
     "name": "stdout",
     "output_type": "stream",
     "text": [
      "The GreenLight Fund - Atlanta\n"
     ]
    }
   ],
   "source": [
    "html_line = f\"        <p><u>Client</u>: The GreenLight Fund - Atlanta</p>\"\n",
    "client = html_line.strip().lstrip(\"<p><u>Client</u>: \").rstrip(\"</p>\")\n",
    "print(client)"
   ]
  },
  {
   "cell_type": "markdown",
   "id": "2b65274d",
   "metadata": {},
   "source": [
    "### A Worked Example"
   ]
  },
  {
   "cell_type": "markdown",
   "id": "371ca846",
   "metadata": {},
   "source": [
    "Now that we have covered the basics of print statements, variable assignment, and string manipulations, we will go over a worked example, and then into some practice problems. This example will be an early introduction to one of the most important aspects of programming: developing an approach before writing code. This might seem a bit silly because this is not a very complicated example. It would be easy enough to just write the code very quickly. However, it is good to start practicing this because it will make more complex tasks more approachable. That being said, let's get into the example."
   ]
  },
  {
   "cell_type": "markdown",
   "id": "65e69a21",
   "metadata": {},
   "source": [
    "We have to following strings:"
   ]
  },
  {
   "cell_type": "code",
   "execution_count": 7,
   "id": "b4803ff4",
   "metadata": {},
   "outputs": [
    {
     "name": "stdout",
     "output_type": "stream",
     "text": [
      "    <p><u>Client</u>: The Carter Center</p>\n",
      "        <p>Location: 453 John Lewis Freedom Pkwy NE, Atlanta, GA 30307</p>\n",
      "        <p>Employees: 175; field office staff in more than a dozen countries</p>\n"
     ]
    }
   ],
   "source": [
    "client_html_line = f\"    <p><u>Client</u>: The Carter Center</p>\"\n",
    "location_html_line = f\"        <p>Location: 453 John Lewis Freedom Pkwy NE, Atlanta, GA 30307</p>\"\n",
    "employees_html_line = f\"        <p>Employees: 175; field office staff in more than a dozen countries</p>\"\n",
    "\n",
    "print(client_html_line)\n",
    "print(location_html_line)\n",
    "print(employees_html_line)"
   ]
  },
  {
   "cell_type": "markdown",
   "id": "ac804516",
   "metadata": {},
   "source": [
    "Say we are trying to populate a tab-separated file that can be opened in Excel. Our column headers are <i>Client</i>, <i>City</i>, and <i>Employee Number</i>. Our objective is to print a tab-separated string that has \"The Carter Center\" for the <i>Client</i> column, \"Atlanta\" for the <i>City</i> column, and \"175\" for the employee column."
   ]
  },
  {
   "cell_type": "markdown",
   "id": "d70cf193",
   "metadata": {},
   "source": [
    "<u>Approach</u>\n",
    "\n",
    "Step 1: We want to remove the white space from the front of each line. This can be done with .strip().\n",
    "\n",
    "Step 2: We want to remove the unwanted characters from the beginning and end of each line. This can be done with .rstrip() and .lstrip()\n",
    "\n",
    "Step 3: We want to print the strings with a tab between each variable. This can be done with an f-string.\n",
    "\n",
    "<i>Note that we are not writing the exact details of what exactly we are going to type. We are simply writing down what the objective is and how we can accomplish it, and we divide this process up into steps to make it easier for us to think about. Again, this might seem silly because this task is relativly straight forward, but this approach will be useful later.<i/>"
   ]
  },
  {
   "cell_type": "code",
   "execution_count": 8,
   "id": "7c95be2b",
   "metadata": {},
   "outputs": [
    {
     "name": "stdout",
     "output_type": "stream",
     "text": [
      "The Carter Center\tAtlanta\t175\n"
     ]
    }
   ],
   "source": [
    "# step 1 and step 2 are done at the same time\n",
    "client = client_html_line.strip().lstrip(\"<p><u>Client</u>: \").rstrip(\"</p>\")\n",
    "location = location_html_line.strip().lstrip(\"<p>Location: 453 John Lewis Freedom Pkwy NE, \").rstrip(\", GA 30307</p>\")\n",
    "employees = employees_html_line.strip().lstrip(\"<p>Employees: \").rstrip(\"; field office staff in more than a dozen countries</p>\")\n",
    "\n",
    "#step 3\n",
    "output = f\"{client}\\t{location}\\t{employees}\"\n",
    "\n",
    "print(output)"
   ]
  },
  {
   "cell_type": "markdown",
   "id": "bb365e17",
   "metadata": {},
   "source": [
    "### Practice Problems"
   ]
  },
  {
   "cell_type": "markdown",
   "id": "c3c45687",
   "metadata": {},
   "source": [
    "<b>Problem 1</b>: Write a print statement that will print each of the following strings on a new line. Expected output:\n",
    "\n",
    "\n",
    "<i>We are writing code</i>\n",
    "\n",
    "<i>to scrape HTML code.</i>\n",
    "\n",
    "<i>Gahh I love Python.</i>"
   ]
  },
  {
   "cell_type": "code",
   "execution_count": 9,
   "id": "fdd9080b",
   "metadata": {},
   "outputs": [],
   "source": [
    "line1 = \"We are wiring code   | 5\"\n",
    "line2 = \"to scrape HMTL code. | 7\"\n",
    "line3 = \"Gahh I love Python   | 5\""
   ]
  },
  {
   "cell_type": "code",
   "execution_count": 10,
   "id": "93772d7f",
   "metadata": {},
   "outputs": [],
   "source": [
    "#write your solution below\n",
    "\n",
    "\n"
   ]
  },
  {
   "cell_type": "markdown",
   "id": "3731eab1",
   "metadata": {},
   "source": [
    "<b>Problem 2</b>: Correct the error in this code:"
   ]
  },
  {
   "cell_type": "code",
   "execution_count": null,
   "id": "5535394a",
   "metadata": {},
   "outputs": [],
   "source": [
    "print('There's an error in this code somewhere.')"
   ]
  },
  {
   "cell_type": "code",
   "execution_count": 11,
   "id": "8b6337b5",
   "metadata": {},
   "outputs": [],
   "source": [
    "# write your solution below\n",
    "\n"
   ]
  },
  {
   "cell_type": "markdown",
   "id": "5b7d3048",
   "metadata": {},
   "source": [
    "<b>Problem 3:</b> Fix the order of the sentence. Expected output:\n",
    "\n",
    "\n",
    "<i>Now this sentence is correct.</i>\n",
    "\n"
   ]
  },
  {
   "cell_type": "code",
   "execution_count": 12,
   "id": "e4eb0c81",
   "metadata": {},
   "outputs": [],
   "source": [
    "sentence = 'sentence correct is now this'"
   ]
  },
  {
   "cell_type": "code",
   "execution_count": 13,
   "id": "237ebdb6",
   "metadata": {},
   "outputs": [],
   "source": [
    "# write your solution below\n",
    "\n",
    "\n"
   ]
  },
  {
   "cell_type": "markdown",
   "id": "f1bf2d60",
   "metadata": {},
   "source": [
    "<b>Problem 4:</b> Remove the white space and underscores from the following string. Expected output: \n",
    "\n",
    "<i>main</i>"
   ]
  },
  {
   "cell_type": "code",
   "execution_count": 14,
   "id": "e20a668c",
   "metadata": {},
   "outputs": [],
   "source": [
    "name = '   __main__   '"
   ]
  },
  {
   "cell_type": "code",
   "execution_count": 15,
   "id": "c198b2bc",
   "metadata": {},
   "outputs": [],
   "source": [
    "# write your solution below\n",
    "\n",
    "\n"
   ]
  },
  {
   "cell_type": "markdown",
   "id": "451c4f47",
   "metadata": {},
   "source": [
    "<b>Problem 5:</b> Comma separated files (each column is separated with a comma) are also among the most widely used file formats. Take the following data and print it as a line that could be inserted into a comma separated table. Expected output:\n",
    "\n",
    "<i>John, Doe, 1984-06-09, Fake Business, Contractor</i>"
   ]
  },
  {
   "cell_type": "code",
   "execution_count": 16,
   "id": "2eca7f67",
   "metadata": {},
   "outputs": [],
   "source": [
    "first_name_html_line = \"    <p><u>Name</u>: John Doe</p>\"\n",
    "last_name_html_line = \"        <p>Birthdate: 1984-06-09</p>\"\n",
    "organization = \"        <p>Organization: <u>Fake Business<u></p>\"\n",
    "role = \"        <p>Role: Contractor</p>\""
   ]
  },
  {
   "cell_type": "code",
   "execution_count": 17,
   "id": "a2d3a77a",
   "metadata": {},
   "outputs": [],
   "source": [
    "# write your solution below\n",
    "\n",
    "\n"
   ]
  }
 ],
 "metadata": {
  "kernelspec": {
   "display_name": "Python 3 (ipykernel)",
   "language": "python",
   "name": "python3"
  },
  "language_info": {
   "codemirror_mode": {
    "name": "ipython",
    "version": 3
   },
   "file_extension": ".py",
   "mimetype": "text/x-python",
   "name": "python",
   "nbconvert_exporter": "python",
   "pygments_lexer": "ipython3",
   "version": "3.9.12"
  },
  "vscode": {
   "interpreter": {
    "hash": "31f2aee4e71d21fbe5cf8b01ff0e069b9275f58929596ceb00d14d90e3e16cd6"
   }
  }
 },
 "nbformat": 4,
 "nbformat_minor": 5
}
