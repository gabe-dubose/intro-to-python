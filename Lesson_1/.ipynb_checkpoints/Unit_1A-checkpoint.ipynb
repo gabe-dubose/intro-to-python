{
 "cells": [
  {
   "cell_type": "markdown",
   "id": "7de66173",
   "metadata": {},
   "source": [
    "## Unit 1A: How to Manipulate Strings"
   ]
  },
  {
   "cell_type": "markdown",
   "id": "c718c44c",
   "metadata": {},
   "source": [
    "<b>Hello, World!</b>\n",
    "\n",
    "Since the 1970s, \"Hello, World!\" programs have been used as the very first introduction to many computer programming languages. The objective is very simple: print the words \"Hello, World!\" to standard output. While this task is simple (it can be achieved with just one line of code), it introduces two very important components of most programming languages. \n",
    "\n",
    "First, <b>print statements</b> are the primary way that a user will be able to see what the program they just wrote is doing. Print statements are useful for tracking what part of your code is currently running, finding errors in code, leaving helpful messages, and many other aspects of programming that will become more clear as you advance.\n",
    "\n",
    "Second, the actual words \"Hello, World!\" is a <b>string</b>, which is one of the primary <b>data types</b> in most programming languages. This unit will focus on introducting other data types, storing this data as <b>variables</b>, and different ways to print this information."
   ]
  },
  {
   "cell_type": "markdown",
   "id": "25f695f9",
   "metadata": {},
   "source": [
    "### Strings, Print Statments, and Variables"
   ]
  },
  {
   "cell_type": "markdown",
   "id": "dd72fa63",
   "metadata": {},
   "source": [
    "<b>Strings</b> are sequences of characters. In Python, strings are encolsed by quotation marks or apostrophes. We can print strings directly like:"
   ]
  },
  {
   "cell_type": "code",
   "execution_count": 1,
   "id": "4d62f9fe",
   "metadata": {},
   "outputs": [
    {
     "name": "stdout",
     "output_type": "stream",
     "text": [
      "Hello, World!\n"
     ]
    }
   ],
   "source": [
    "# With quotation marks\n",
    "print(\"Hello, World!\")"
   ]
  },
  {
   "cell_type": "code",
   "execution_count": 2,
   "id": "db6b94f1",
   "metadata": {},
   "outputs": [
    {
     "name": "stdout",
     "output_type": "stream",
     "text": [
      "Hello, World!\n"
     ]
    }
   ],
   "source": [
    "# With apostrophes\n",
    "print('Hello, World!')"
   ]
  },
  {
   "cell_type": "markdown",
   "id": "ea495355",
   "metadata": {},
   "source": [
    "<i>*Note: In Jupyter Notebook, the area directly under the code cell is where standard output is shown</i>\n",
    "\n",
    "Notice that both methods print the same string. It doesn't really matter if you want to use quotation marks apostrophes. However, there are some cases where you have to use one over the other. For example, say you want to print \"Atlanta's food scene is great!\" In this case, the apostrophe in <i>Atlanta's</i> make it to where the whole string has to be contained by quotation marks."
   ]
  },
  {
   "cell_type": "code",
   "execution_count": 3,
   "id": "60d8c527",
   "metadata": {
    "scrolled": false
   },
   "outputs": [
    {
     "ename": "SyntaxError",
     "evalue": "invalid syntax (1031607212.py, line 2)",
     "output_type": "error",
     "traceback": [
      "\u001b[0;36m  Input \u001b[0;32mIn [3]\u001b[0;36m\u001b[0m\n\u001b[0;31m    print('Atlanta's food scene is great!')\u001b[0m\n\u001b[0m                   ^\u001b[0m\n\u001b[0;31mSyntaxError\u001b[0m\u001b[0;31m:\u001b[0m invalid syntax\n"
     ]
    }
   ],
   "source": [
    "# incorrect syntax\n",
    "print('Atlanta's food scene is great!')"
   ]
  },
  {
   "cell_type": "code",
   "execution_count": 4,
   "id": "27dd75fb",
   "metadata": {},
   "outputs": [
    {
     "name": "stdout",
     "output_type": "stream",
     "text": [
      "Atlanta's food scene is great!\n"
     ]
    }
   ],
   "source": [
    "# correct syntax\n",
    "print(\"Atlanta's food scene is great!\")"
   ]
  },
  {
   "cell_type": "markdown",
   "id": "689c92e2",
   "metadata": {},
   "source": [
    "A <b>variable</b> is a symbolic name that we can assign to a string (and other data types that we will discuss later). Once the string has been assigned to a variable, we can refer to the variable name to print the string."
   ]
  },
  {
   "cell_type": "code",
   "execution_count": 5,
   "id": "7d795f1b",
   "metadata": {},
   "outputs": [
    {
     "name": "stdout",
     "output_type": "stream",
     "text": [
      "Hello, World!\n"
     ]
    }
   ],
   "source": [
    "# we assign the string \"Hello, World!\" to the variable named \"hello_world\"\n",
    "hello_world = \"Hello, World!\"\n",
    "print(hello_world)"
   ]
  },
  {
   "cell_type": "markdown",
   "id": "747c5046",
   "metadata": {},
   "source": [
    "### Basic String Manipulation"
   ]
  },
  {
   "cell_type": "markdown",
   "id": "1c6fa869",
   "metadata": {},
   "source": [
    "One useful thing we can do with strings is extract certain positions in the string. For example, say we want to just get the word \"Hello\" from \"Hello, World!\" It is important to note is that Python starts counting at 0. Therefore, \"H\" is as position 0, \"e\" is at position 1, \"l\" is at position 2, and so on. Using this, we can just get the word \"Hello\" by selecting the 0-4 positions from \"Hello, World!\"\n",
    "\n",
    "The syntax for extracting positions from a sting is:\n",
    "\n",
    "    string[start:stop]\n",
    "\n",
    "The stop position is actually the end position +1 because the end position is <b>exclusive</b>, meaning it does not include the last number. Think of it as selecting all of the positions <i>up until the end position</i>, but not the end position itself."
   ]
  },
  {
   "cell_type": "code",
   "execution_count": 6,
   "id": "f9521b8a",
   "metadata": {
    "scrolled": true
   },
   "outputs": [
    {
     "name": "stdout",
     "output_type": "stream",
     "text": [
      "Hello\n"
     ]
    }
   ],
   "source": [
    "# first we assign our string to a variable\n",
    "hello_world = \"Hello, World!\"\n",
    "\n",
    "# then we can use bracket notation to select the positions we want\n",
    "print(hello_world[0:5])"
   ]
  },
  {
   "cell_type": "code",
   "execution_count": 7,
   "id": "618738ee",
   "metadata": {},
   "outputs": [
    {
     "name": "stdout",
     "output_type": "stream",
     "text": [
      "Hello\n"
     ]
    }
   ],
   "source": [
    "# we can also assign our new sub-string to a variable\n",
    "hello_world = \"Hello, World!\"\n",
    "\n",
    "hello = hello_world[0:5]\n",
    "\n",
    "print(hello)"
   ]
  },
  {
   "cell_type": "markdown",
   "id": "d13ab569",
   "metadata": {},
   "source": [
    "There are also several shorthand options available for tasks like these. In the example above, since we are selecting the first position through the 5th position, we don't have to put 0 in the brackets. All we need to put is [:5], and since there is nothing before the colon, it is implied that you want to start at the beginning of the string:"
   ]
  },
  {
   "cell_type": "code",
   "execution_count": 8,
   "id": "a08d90ff",
   "metadata": {},
   "outputs": [
    {
     "name": "stdout",
     "output_type": "stream",
     "text": [
      "Hello\n"
     ]
    }
   ],
   "source": [
    "hello_world = \"Hello, World!\"\n",
    "\n",
    "hello = hello_world[:5]\n",
    "\n",
    "print(hello)"
   ]
  },
  {
   "cell_type": "markdown",
   "id": "30c933ca",
   "metadata": {},
   "source": [
    "Now consider we just want to get \"World!\" from the string. The same concept applies. The start of \"World!\" is in position 7. Therefore, we can simply specify [7:], and it is implied that we want everything from position 7 to the end of the string:"
   ]
  },
  {
   "cell_type": "code",
   "execution_count": 9,
   "id": "35ef4395",
   "metadata": {},
   "outputs": [
    {
     "name": "stdout",
     "output_type": "stream",
     "text": [
      "World!\n"
     ]
    }
   ],
   "source": [
    "hello_world = \"Hello, World!\"\n",
    "\n",
    "world = hello_world[7:]\n",
    "\n",
    "print(world)"
   ]
  },
  {
   "cell_type": "markdown",
   "id": "389fd6ea",
   "metadata": {},
   "source": [
    "Using this notation is useful if you do not know the length of the string you are working with."
   ]
  },
  {
   "cell_type": "markdown",
   "id": "e2a02a41",
   "metadata": {},
   "source": [
    "Python also offers a function called <b>len</b> that allows you to get the length of a string (and other data types that we will discuss later). As with strings, you can store this number to a variable. We won't do much with this right now, but it is important to introduce because it will become very useful when we start talking about loops."
   ]
  },
  {
   "cell_type": "code",
   "execution_count": 10,
   "id": "5e658184",
   "metadata": {
    "scrolled": true
   },
   "outputs": [
    {
     "name": "stdout",
     "output_type": "stream",
     "text": [
      "13\n"
     ]
    }
   ],
   "source": [
    "hello_world = \"Hello, World!\"\n",
    "characters = len(hello_world)\n",
    "print(characters)"
   ]
  },
  {
   "cell_type": "markdown",
   "id": "7dbc619a",
   "metadata": {},
   "source": [
    "Python also offers several ways to add strings together. The most straight forward way is to simply use <i>string1 + string2</i>:"
   ]
  },
  {
   "cell_type": "code",
   "execution_count": 11,
   "id": "24e92584",
   "metadata": {},
   "outputs": [
    {
     "name": "stdout",
     "output_type": "stream",
     "text": [
      "HelloWorld\n"
     ]
    }
   ],
   "source": [
    "# first we assign our two words\n",
    "hello = \"Hello\"\n",
    "world = \"World\"\n",
    "\n",
    "#then we can just use the + sign to add them together and save our new string to a variable\n",
    "hello_world = hello + world\n",
    "print(hello_world)"
   ]
  },
  {
   "cell_type": "markdown",
   "id": "e0934f63",
   "metadata": {},
   "source": [
    "Notice that Python will not add spacing or any charater you do not specify. In order to get our string to be gramatically correct, we will have to add it ourselves."
   ]
  },
  {
   "cell_type": "code",
   "execution_count": 12,
   "id": "17ff5865",
   "metadata": {},
   "outputs": [
    {
     "name": "stdout",
     "output_type": "stream",
     "text": [
      "Hello, World!\n"
     ]
    }
   ],
   "source": [
    "# assing our strings to variables\n",
    "hello = \"Hello\"\n",
    "world = \"World\"\n",
    "\n",
    "# now we add a comman and a space between the two variables, and an exclaimation point at the end.\n",
    "hello_world = hello + \",\" + \" \" + world + \"!\"\n",
    "print(hello_world)"
   ]
  },
  {
   "cell_type": "markdown",
   "id": "ef93296d",
   "metadata": {},
   "source": [
    "<i>*Question: How many unique strings were added together in the above code block?</i>\n",
    "\n",
    "<i>*Question: Can you think of other ways to print the same output?</i>"
   ]
  },
  {
   "cell_type": "markdown",
   "id": "30b28317",
   "metadata": {},
   "source": [
    "### F-strings"
   ]
  },
  {
   "cell_type": "markdown",
   "id": "8fb86393",
   "metadata": {},
   "source": [
    "In some cases, we may want an easier and more concise way to insert variables into strings. Python has a built in method for formatting string, known as <b>f-strings</b>. Consider a situation where we have a list of names and organizations, and we want a quick way to print name tags for people. We will go over loops later, so lets just pretend we have picked out a name from that list, and we want to print it into the string \"Hello, my name is {first_name} {last_name}, and I am with \"{organization}.\" We can accomplish this using an f-string. The basic syntax for an f-string is:\n",
    "\n",
    "    fstring = f\"Some words {variable1} {variable2} some more words...\"\n",
    "\n",
    "In short, put the letter \"f\" before the string, and then type the string just as if you were typing it normally, and put the variables you want to insert in curly brackets."
   ]
  },
  {
   "cell_type": "code",
   "execution_count": 13,
   "id": "643f2b4d",
   "metadata": {},
   "outputs": [
    {
     "name": "stdout",
     "output_type": "stream",
     "text": [
      "Hello, my name is John Doe and I am with Fake Business.\n"
     ]
    }
   ],
   "source": [
    "first_name = \"John\"\n",
    "last_name = \"Doe\"\n",
    "organization = \"Fake Business\"\n",
    "\n",
    "name_tag = f\"Hello, my name is {first_name} {last_name} and I am with {organization}.\"\n",
    "\n",
    "print(name_tag)"
   ]
  },
  {
   "cell_type": "markdown",
   "id": "f9a81d4a",
   "metadata": {},
   "source": [
    "The main appeal to the f-string approach is that it allows you to write your output in a more human-readable way, as opposed to having many plus signs and spaces. Revisiting a previous example:"
   ]
  },
  {
   "cell_type": "code",
   "execution_count": 14,
   "id": "23fd8e36",
   "metadata": {},
   "outputs": [
    {
     "name": "stdout",
     "output_type": "stream",
     "text": [
      "Hello, World!\n",
      "Hello, World!\n"
     ]
    }
   ],
   "source": [
    "# assing our strings to variables\n",
    "hello = \"Hello\"\n",
    "world = \"World\"\n",
    "\n",
    "#regular approach\n",
    "hello_world_regular = hello + \",\" + \" \" + world + \"!\"\n",
    "\n",
    "#Using an f-string\n",
    "hello_world_fstring = f\"{hello}, {world}!\"\n",
    "\n",
    "\n",
    "print(hello_world_regular)\n",
    "print(hello_world_fstring)"
   ]
  },
  {
   "cell_type": "markdown",
   "id": "39f7eb0b",
   "metadata": {},
   "source": [
    "Notince in the example above that both approachs print the same output. However, using the f-string makes the code a bit more readable. This will become increasingly important with more complex output."
   ]
  },
  {
   "cell_type": "markdown",
   "id": "0d81a5b9",
   "metadata": {},
   "source": [
    "### Practice Problems"
   ]
  },
  {
   "cell_type": "markdown",
   "id": "52aebefe",
   "metadata": {},
   "source": [
    "<b>Problem 1</b>: Write a print statement that prints \"<i>The Bakery's website is https://thebakeryatlanta.com/.</i>\" by <b>adding strings</b>."
   ]
  },
  {
   "cell_type": "code",
   "execution_count": 15,
   "id": "ee255b66",
   "metadata": {},
   "outputs": [],
   "source": [
    "business = \"The Bakery\"\n",
    "website = \"https://thebakeryatlanta.com/\"\n"
   ]
  },
  {
   "cell_type": "code",
   "execution_count": 16,
   "id": "c60057ec",
   "metadata": {},
   "outputs": [],
   "source": [
    "#write your solution below\n",
    "\n",
    "\n"
   ]
  },
  {
   "cell_type": "markdown",
   "id": "da63e055",
   "metadata": {},
   "source": [
    "<b>Problem 2</b>: Write a print statement that prints \"<i>The Bakery's website is https://thebakeryatlanta.com/.</i>\" by using a <b>f-string</b>."
   ]
  },
  {
   "cell_type": "code",
   "execution_count": 17,
   "id": "16077a58",
   "metadata": {},
   "outputs": [],
   "source": [
    "#write your solution below\n",
    "\n",
    "\n"
   ]
  },
  {
   "cell_type": "markdown",
   "id": "d6279bf8",
   "metadata": {},
   "source": [
    "<b>Problem 3</b>: Select the words \"<i>The Bakery</i>\" from the \"bakery_info\" string."
   ]
  },
  {
   "cell_type": "code",
   "execution_count": 18,
   "id": "76f7a311",
   "metadata": {},
   "outputs": [],
   "source": [
    "bakery_info = \"The Bakery's website is https://thebakeryatlanta.com/.\""
   ]
  },
  {
   "cell_type": "code",
   "execution_count": 19,
   "id": "0cf8dbc4",
   "metadata": {},
   "outputs": [],
   "source": [
    "#write your solution below\n",
    "\n",
    "\n"
   ]
  }
 ],
 "metadata": {
  "kernelspec": {
   "display_name": "Python 3 (ipykernel)",
   "language": "python",
   "name": "python3"
  },
  "language_info": {
   "codemirror_mode": {
    "name": "ipython",
    "version": 3
   },
   "file_extension": ".py",
   "mimetype": "text/x-python",
   "name": "python",
   "nbconvert_exporter": "python",
   "pygments_lexer": "ipython3",
   "version": "3.9.12"
  }
 },
 "nbformat": 4,
 "nbformat_minor": 5
}
