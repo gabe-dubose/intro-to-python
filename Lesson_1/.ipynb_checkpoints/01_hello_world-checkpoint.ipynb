{
 "cells": [
  {
   "cell_type": "markdown",
   "id": "7de66173",
   "metadata": {},
   "source": [
    "## Hello, World!"
   ]
  },
  {
   "cell_type": "markdown",
   "id": "c718c44c",
   "metadata": {},
   "source": [
    "Since the 1970s, \"Hello, World!\" programs have been used as the very first introduction to many computer programming languages. The objective is very simple: print the words \"Hello, World!\" to standard output. While this task is simple (it can be achieved with just one line of code), it introduces two very important components of most programming languages. \n",
    "\n",
    "First, <b>print statements</b> are the primary way that a user will be able to see what the program they just wrote is doing. Print statements are useful for tracking what part of your code is currently running, finding errors in code, leaving helpful messages, and many other aspects of programming that will become more clear as you advance.\n",
    "\n",
    "Second, the actual words \"Hello, World!\" is a <b>string</b>, which is one of the primary <b>data types</b> in most programming languages. This unit will focus on introducting other data types, storing this data as <b>variables</b>, and different ways to print this information."
   ]
  },
  {
   "cell_type": "markdown",
   "id": "25f695f9",
   "metadata": {},
   "source": [
    "### Unit 1: Strings, Print Statments, and Variables"
   ]
  },
  {
   "cell_type": "markdown",
   "id": "dd72fa63",
   "metadata": {},
   "source": [
    "<b>Strings</b> are sequences of characters. In Python, strings are encolsed by quotation marks or apostrophes. We can print strings directly like:"
   ]
  },
  {
   "cell_type": "code",
   "execution_count": 1,
   "id": "4d62f9fe",
   "metadata": {},
   "outputs": [
    {
     "name": "stdout",
     "output_type": "stream",
     "text": [
      "Hello, World!\n"
     ]
    }
   ],
   "source": [
    "# With quotation marks\n",
    "print(\"Hello, World!\")"
   ]
  },
  {
   "cell_type": "code",
   "execution_count": 2,
   "id": "db6b94f1",
   "metadata": {},
   "outputs": [
    {
     "name": "stdout",
     "output_type": "stream",
     "text": [
      "Hello, World!\n"
     ]
    }
   ],
   "source": [
    "# With apostrophes\n",
    "print('Hello, World!')"
   ]
  },
  {
   "cell_type": "markdown",
   "id": "ea495355",
   "metadata": {},
   "source": [
    "<i>*Note: In Jupyter Notebook, the area directly under the code cell is where standard output is shown</i>\n",
    "\n",
    "Notice that both methods print the same string. It doesn't really matter if you want to use quotation marks apostrophes. However, there are some cases where you have to use one over the other. For example, say you want to print \"Atlanta's food scene is great!\" In this case, the apostrophe in <i>Atlanta's</i> make it to where the whole string has to be contained by quotation marks."
   ]
  },
  {
   "cell_type": "code",
   "execution_count": 3,
   "id": "60d8c527",
   "metadata": {
    "scrolled": false
   },
   "outputs": [
    {
     "ename": "SyntaxError",
     "evalue": "invalid syntax (1031607212.py, line 2)",
     "output_type": "error",
     "traceback": [
      "\u001b[0;36m  Input \u001b[0;32mIn [3]\u001b[0;36m\u001b[0m\n\u001b[0;31m    print('Atlanta's food scene is great!')\u001b[0m\n\u001b[0m                   ^\u001b[0m\n\u001b[0;31mSyntaxError\u001b[0m\u001b[0;31m:\u001b[0m invalid syntax\n"
     ]
    }
   ],
   "source": [
    "# incorrect syntax\n",
    "print('Atlanta's food scene is great!')"
   ]
  },
  {
   "cell_type": "code",
   "execution_count": 4,
   "id": "27dd75fb",
   "metadata": {},
   "outputs": [
    {
     "name": "stdout",
     "output_type": "stream",
     "text": [
      "Atlanta's food scene is great!\n"
     ]
    }
   ],
   "source": [
    "# correct syntax\n",
    "print(\"Atlanta's food scene is great!\")"
   ]
  },
  {
   "cell_type": "markdown",
   "id": "689c92e2",
   "metadata": {},
   "source": [
    "A <b>variable</b> is a symbolic names that we can assign to a string (and other data types that we will discuss later). Once the string has been assigned to a variable, we can refer to the variable for printing and different manuipulations we might do to the string (discussed in Unit 2)."
   ]
  },
  {
   "cell_type": "code",
   "execution_count": 5,
   "id": "7d795f1b",
   "metadata": {},
   "outputs": [
    {
     "name": "stdout",
     "output_type": "stream",
     "text": [
      "Hello, World!\n"
     ]
    }
   ],
   "source": [
    "# we assign the string \"Hello, World!\" to the variable named \"hello_world\"\n",
    "hello_world = \"Hello, World!\"\n",
    "print(hello_world)"
   ]
  },
  {
   "cell_type": "markdown",
   "id": "747c5046",
   "metadata": {},
   "source": [
    "### Unit 2: Basic String Manipulation"
   ]
  },
  {
   "cell_type": "markdown",
   "id": "1c6fa869",
   "metadata": {},
   "source": [
    "One useful thing we can do with strings is extract certain positions in the string. For example, say we want to just get the word \"Hello\" from \"Hello, World!\" One thing that is important to note is that Python starts counting at 0. Therefore, \"H\" is as position 0, \"e\" is at position 1, \"l\" is at position 2, and so on. Using this, we can just get the word \"Hello\" by selecting the 0-4 positions from \"Hello, World!\"\n",
    "\n",
    "This can be done by adding \"[start position: end position]\" to the end of the string's variable. The end position is actually the end position +1 because the end position is <b>exclusive</b>, meaning it does not include the last number."
   ]
  },
  {
   "cell_type": "code",
   "execution_count": 6,
   "id": "f9521b8a",
   "metadata": {
    "scrolled": true
   },
   "outputs": [
    {
     "name": "stdout",
     "output_type": "stream",
     "text": [
      "Hello\n"
     ]
    }
   ],
   "source": [
    "# first we assign our string to a variable\n",
    "hello_world = \"Hello, World!\"\n",
    "\n",
    "# then we can use bracket notation to select the positions we want\n",
    "print(hello_world[0:5])"
   ]
  },
  {
   "cell_type": "code",
   "execution_count": 7,
   "id": "618738ee",
   "metadata": {},
   "outputs": [
    {
     "name": "stdout",
     "output_type": "stream",
     "text": [
      "Hello\n"
     ]
    }
   ],
   "source": [
    "# we can also assign our new sub-string to a variable\n",
    "hello_world = \"Hello, World!\"\n",
    "\n",
    "hello = hello_world[0:5]\n",
    "\n",
    "print(hello)"
   ]
  },
  {
   "cell_type": "markdown",
   "id": "e2a02a41",
   "metadata": {},
   "source": [
    "Python also offers a function called <b>len</b> that allows you to get the length of a string (and other data types that we will discuss later). As with strings, you can store this number to a variable. We won't do much with this right now, but it is important to introduce because it will become very useful when we start talking about loops."
   ]
  },
  {
   "cell_type": "code",
   "execution_count": 8,
   "id": "5e658184",
   "metadata": {},
   "outputs": [
    {
     "name": "stdout",
     "output_type": "stream",
     "text": [
      "13\n"
     ]
    }
   ],
   "source": [
    "hello_world = \"Hello, World!\"\n",
    "characters = len(hello_world)\n",
    "print(characters)"
   ]
  },
  {
   "cell_type": "markdown",
   "id": "7dbc619a",
   "metadata": {},
   "source": [
    "Python also offers several ways to add strings together. The most straight forward way is to simply use <i>string1 + string2</i>:"
   ]
  },
  {
   "cell_type": "code",
   "execution_count": 9,
   "id": "24e92584",
   "metadata": {},
   "outputs": [
    {
     "name": "stdout",
     "output_type": "stream",
     "text": [
      "HelloWorld\n"
     ]
    }
   ],
   "source": [
    "# first we assign our two words\n",
    "hello = \"Hello\"\n",
    "world = \"World\"\n",
    "\n",
    "#then we can just use the + sign to add them together and save our new string to a variable\n",
    "hello_world = hello + world\n",
    "print(hello_world)"
   ]
  },
  {
   "cell_type": "markdown",
   "id": "e0934f63",
   "metadata": {},
   "source": [
    "Notice that Python will not add spacing or any charater you do not specify. In order to get our string to be gramatically correct, we will have to add it ourselves."
   ]
  },
  {
   "cell_type": "code",
   "execution_count": 10,
   "id": "17ff5865",
   "metadata": {},
   "outputs": [
    {
     "name": "stdout",
     "output_type": "stream",
     "text": [
      "Hello, World!\n"
     ]
    }
   ],
   "source": [
    "# assing our strings to variables\n",
    "hello = \"Hello\"\n",
    "world = \"World\"\n",
    "\n",
    "# now we add a comman and a space between the two variables, and an exclaimation point at the end.\n",
    "hello_world = hello + \",\" + \" \" + world + \"!\"\n",
    "print(hello_world)"
   ]
  },
  {
   "cell_type": "markdown",
   "id": "ef93296d",
   "metadata": {},
   "source": [
    "<i>*Question: How many unique strings were added together in the above code block?</i>\n",
    "\n",
    "<i>*Question: Can you think of other ways to print the same output?</i>"
   ]
  },
  {
   "cell_type": "markdown",
   "id": "30b28317",
   "metadata": {},
   "source": [
    "### Unit 3: f-strings"
   ]
  },
  {
   "cell_type": "markdown",
   "id": "8fb86393",
   "metadata": {},
   "source": [
    "In some cases, we may want an easier and more concise way to insert variables into strings. Python has a built in method for formatting string, known as <b>f-strings</b>. Consider a situation where we have a list of names and organizations, and we want a quick way to print name tags for people. We will go over for loops later, so lets just pretend we have picked out a name from that list, and we want to print it into the string \"Hello, my name is {first_name} {last_name}, and I am with \"{organization}.\" We can accomplish this using an f-string. The basic syntax for an f-string is to just put the letter \"f\" at the beginning of the string, and then all variables go inside curly brackets."
   ]
  },
  {
   "cell_type": "code",
   "execution_count": 11,
   "id": "643f2b4d",
   "metadata": {},
   "outputs": [
    {
     "name": "stdout",
     "output_type": "stream",
     "text": [
      "Hello, my name is John Doe and I am with Fake Business.\n"
     ]
    }
   ],
   "source": [
    "first_name = \"John\"\n",
    "last_name = \"Doe\"\n",
    "organization = \"Fake Business\"\n",
    "\n",
    "name_tag = f\"Hello, my name is {first_name} {last_name} and I am with {organization}.\"\n",
    "\n",
    "print(name_tag)"
   ]
  },
  {
   "cell_type": "markdown",
   "id": "f9a81d4a",
   "metadata": {},
   "source": [
    "The main appeal to the f-string approach is that it allows you to write your output in a more human-readable way, as opposed to having many plus signs and spaces. Revisiting example:"
   ]
  },
  {
   "cell_type": "code",
   "execution_count": 12,
   "id": "23fd8e36",
   "metadata": {},
   "outputs": [
    {
     "name": "stdout",
     "output_type": "stream",
     "text": [
      "Hello, World!\n",
      "Hello, World!\n"
     ]
    }
   ],
   "source": [
    "# assing our strings to variables\n",
    "hello = \"Hello\"\n",
    "world = \"World\"\n",
    "\n",
    "#regular approach\n",
    "hello_world_regular = hello + \",\" + \" \" + world + \"!\"\n",
    "\n",
    "#Using an f-string\n",
    "hello_world_fstring = f\"{hello}, {world}!\"\n",
    "\n",
    "\n",
    "print(hello_world_regular)\n",
    "print(hello_world_fstring)"
   ]
  },
  {
   "cell_type": "markdown",
   "id": "39f7eb0b",
   "metadata": {},
   "source": [
    "Notince in the example above that both approachs print the same output. However, using the f-string makes the code a bit more readable. This will become increasingly important with more complex output."
   ]
  },
  {
   "cell_type": "markdown",
   "id": "32ef7c3d",
   "metadata": {},
   "source": [
    "### Unit 4: White Spaces and .strip()"
   ]
  },
  {
   "cell_type": "markdown",
   "id": "3b8e6203",
   "metadata": {},
   "source": [
    "Python has a very useful built in function called <b>strip</b> that allows us to remove characters from the ends of strings. Before we get into these functions, we first need to really establish what white space actually is. \n",
    "\n",
    "<b>Spaces</b>\n",
    "\n",
    "When we read and write, we put put spaces in between words to help us read better. There really isn't such thing as a \"space\" in a string on a computer. There must be some invisible character there that tells Python to leave a blank space there. There are a few different characters that can be used. As seen the previous example, we inserted a space between the words \"Hello\" and \"World\" by simply adding \" \" (quotations marks with a space between them) between the words. \n",
    "\n",
    "<b>Tabs</b>\n",
    "\n",
    "Another import spacing character is the tab, denoted as <b>\\t</b>. These characters are often used for indentation in paragraphs, as well as code in Python (which we will see later). In many cases, coding languages that do not require tabs will still be written with tabs to help with human readability.\n",
    "\n",
    "<b>New Lines</b>\n",
    "\n",
    "Characters are read by a computer in a straight line. Anytime we see a new line, there is actually an invisible character telling the computer to show a new line on our screens. This is often denoted as <b>\\n</b>. When we are processing most files, we will want to remvoe these characters from the ends of lines so that we can better manipulate the data into the output that we want.\n",
    "\n",
    "\n",
    "We will get into more applications of these spacing characters later. Right now the important concept is that we will often encounter cases where we want to remove the white space infront of or at the end of a string. We have already seen an example of inserting a space. Below are a few examples of how tabs and new lines are used."
   ]
  },
  {
   "cell_type": "code",
   "execution_count": 13,
   "id": "2fb541da",
   "metadata": {},
   "outputs": [
    {
     "name": "stdout",
     "output_type": "stream",
     "text": [
      "John\tDoe\tFake Organization\n"
     ]
    }
   ],
   "source": [
    "# Tabs are commonly used when producing tab-delimited files (a file where tabs are separating each column) \n",
    "# that can be read by Excel\n",
    "\n",
    "first_name = \"John\"\n",
    "last_name = \"Doe\"\n",
    "organization = \"Fake Organization\"\n",
    "\n",
    "#notice that \\t characters are separating each variabke\n",
    "output = f\"{first_name}\\t{last_name}\\t{organization}\"\n",
    "\n",
    "print(output)"
   ]
  },
  {
   "cell_type": "code",
   "execution_count": 14,
   "id": "a443fe24",
   "metadata": {
    "scrolled": true
   },
   "outputs": [
    {
     "name": "stdout",
     "output_type": "stream",
     "text": [
      "This is line 1\n",
      "This is line 2\n",
      "This is line 3\n"
     ]
    }
   ],
   "source": [
    "# New lines are present in almost all documents that you will encounter \n",
    "# (it would be really diffucult to read a file that is just in one straight line)\n",
    "\n",
    "line1 = \"This is line 1\"\n",
    "line2 = \"This is line 2\"\n",
    "line3 = \"This is line 3\"\n",
    "\n",
    "#notice the \\n characters separating the variables\n",
    "output = f\"{line1}\\n{line2}\\n{line3}\"\n",
    "\n",
    "print(output)"
   ]
  },
  {
   "cell_type": "markdown",
   "id": "300ce7d2",
   "metadata": {},
   "source": [
    "Now that we've looked at different kinds of white spaces that you migth encounter, now lets look at how to remove them.\n",
    "\n",
    "Consider this line of HTML code:"
   ]
  },
  {
   "cell_type": "code",
   "execution_count": 15,
   "id": "1d57c0e9",
   "metadata": {
    "scrolled": true
   },
   "outputs": [
    {
     "name": "stdout",
     "output_type": "stream",
     "text": [
      "        <p><u>Client</u>: The GreenLight Fund - Atlanta</p>\n"
     ]
    }
   ],
   "source": [
    "html_line = f\"        <p><u>Client</u>: The GreenLight Fund - Atlanta</p>\"\n",
    "print(html_line)"
   ]
  },
  {
   "cell_type": "markdown",
   "id": "bf43fdc3",
   "metadata": {},
   "source": [
    "We want to clean up this line by removeing everythin except \"The GreenLight Fund - Atlanta.\" \n",
    "\n",
    "First, this line of code has an unknown numebr of white spaces in the beginning that will need to be removed. Python has a functionality for this called <b>.strip()</b>. The default behavior of this function is to remove all leading and trailing spaces from a string, which is what we need to do."
   ]
  },
  {
   "cell_type": "code",
   "execution_count": 16,
   "id": "175f6830",
   "metadata": {},
   "outputs": [
    {
     "name": "stdout",
     "output_type": "stream",
     "text": [
      "<p><u>Client</u>: The GreenLight Fund - Atlanta</p>\n"
     ]
    }
   ],
   "source": [
    "# since we won't be needing the original html_line string, we cna just reassign our new stripped line to the same name\n",
    "html_line = html_line.strip()\n",
    "print(html_line)"
   ]
  },
  {
   "cell_type": "markdown",
   "id": "2b12244f",
   "metadata": {},
   "source": [
    "Notice that our string is printed all the way to the left (all spaces on the left side have been removed. While the default behavior of .strip() is to remove white spaces, you can use it to remvoe whatever you want by putting a string in between the parentheses:"
   ]
  },
  {
   "cell_type": "code",
   "execution_count": 17,
   "id": "fc0476e1",
   "metadata": {},
   "outputs": [
    {
     "name": "stdout",
     "output_type": "stream",
     "text": [
      "some_text\n"
     ]
    }
   ],
   "source": [
    "some_text = \"__some_text____________\"\n",
    "some_text = some_text.strip('_')\n",
    "print(some_text)"
   ]
  },
  {
   "cell_type": "markdown",
   "id": "fbb106d7",
   "metadata": {},
   "source": [
    "In the example above, we told the strip function to remove all leading and trailing underscores by feeding putting an undersocre between the parantheses in the strip function. Notice that, only the leading and trailing underscores are removed, and the underscore between \"some\" and \"text\" is left."
   ]
  },
  {
   "cell_type": "markdown",
   "id": "4d2c4a40",
   "metadata": {},
   "source": [
    "Going back to our HTML code example, now we want to remove everything else surrounding the words that we want. However, the characters are slightly different on each side. On the left side of the string, the characters we want to remove are \"\\<p>\\<u>Client\\</u>: \" and on the right side of the string we want to remove \"\\</p>.\" Python offers derivations of .strip() called <b>.rstrip()</b> and <b>.lstrip()</b> (for right strip and left strip), that allow us to remove specific character from each side of the string. These functions also stack, meaning when can apply them to the same string simultaneously."
   ]
  },
  {
   "cell_type": "code",
   "execution_count": 18,
   "id": "0831bd71",
   "metadata": {},
   "outputs": [
    {
     "name": "stdout",
     "output_type": "stream",
     "text": [
      "The GreenLight Fund - Atlanta\n"
     ]
    }
   ],
   "source": [
    "html_line = f\"        <p><u>Client</u>: The GreenLight Fund - Atlanta</p>\"\n",
    "client = html_line.strip().lstrip(\"<p><u>Client</u>: \").rstrip(\"</p>\")\n",
    "print(client)"
   ]
  },
  {
   "cell_type": "markdown",
   "id": "5ebb9238",
   "metadata": {},
   "source": [
    "### Worked Example"
   ]
  },
  {
   "cell_type": "markdown",
   "id": "dc6284d3",
   "metadata": {},
   "source": [
    "Now that we have covered the basics of print statemtns, variable assignment, and string manipulations, we will go over a worked exmaple, and then into some practive problems. This example will be an early introduction to one of the most important aspects of programming: developing an approach before writing code. This might seem a bit silly because this is not a very complicated example. It would be easy enough to just write the code very quickly. However, it is good to start practicing this because it will make more complex tasks more approachable. That being said, let's get into the example."
   ]
  },
  {
   "cell_type": "markdown",
   "id": "261f1613",
   "metadata": {},
   "source": [
    "We have to following strings:"
   ]
  },
  {
   "cell_type": "code",
   "execution_count": 19,
   "id": "a09ee31a",
   "metadata": {},
   "outputs": [
    {
     "name": "stdout",
     "output_type": "stream",
     "text": [
      "    <p><u>Client</u>: The Carter Center</p>\n",
      "        <p>Location: 453 John Lewis Freedom Pkwy NE, Atlanta, GA 30307</p>\n",
      "        <p>Employees: 175; field office staff in more than a dozen countries</p>\n"
     ]
    }
   ],
   "source": [
    "client_html_line = f\"    <p><u>Client</u>: The Carter Center</p>\"\n",
    "location_html_line = f\"        <p>Location: 453 John Lewis Freedom Pkwy NE, Atlanta, GA 30307</p>\"\n",
    "employees_html_line = f\"        <p>Employees: 175; field office staff in more than a dozen countries</p>\"\n",
    "\n",
    "print(client_html_line)\n",
    "print(location_html_line)\n",
    "print(employees_html_line)"
   ]
  },
  {
   "cell_type": "markdown",
   "id": "e2cf6343",
   "metadata": {},
   "source": [
    "Say we are trying to populate a tab-separated file that can be opened in Excel. Our column headers are <i>Client</i>, <i>City</i>, and <i>Employee Number</i>. Our objective is to print a tab-separated string that has \"The Carter Center\" for the <i>Client</i> column, \"Atlanta\" for the <i>City</i> column, and \"175\" for the employee column."
   ]
  },
  {
   "cell_type": "markdown",
   "id": "ea7c1958",
   "metadata": {},
   "source": [
    "<u>Approach</u>\n",
    "\n",
    "Step 1: We want to remove the white space from the front of each line. This can be done with .strip().\n",
    "\n",
    "Step 2: We want to remove the unwanted characters from the beginning and end of each line. This can be done with .rstrip() and .lstrip()\n",
    "\n",
    "Step 3: We want to print the strings with a tab between each variable. This can be done with an f-stirng.\n",
    "\n",
    "<i>Note that we are not writing the exact details of what exactly we are going to type. We are simply writing down what the objective is and how we can accomplish it, and we divide this process up into steps to make it easier for us to think about. Again, this might seem silly because this task is relativly straight forward, but this approach will be useful later.<i/>"
   ]
  },
  {
   "cell_type": "code",
   "execution_count": 20,
   "id": "c515da2d",
   "metadata": {},
   "outputs": [
    {
     "name": "stdout",
     "output_type": "stream",
     "text": [
      "The Carter Center\tAtlanta\t175\n"
     ]
    }
   ],
   "source": [
    "# step 1 and step 2 are done at the same time\n",
    "client = client_html_line.strip().lstrip(\"<p><u>Client</u>: \").rstrip(\"</p>\")\n",
    "location = location_html_line.strip().lstrip(\"<p>Location: 453 John Lewis Freedom Pkwy NE, \").rstrip(\", GA 30307</p>\")\n",
    "employees = employees_html_line.strip().lstrip(\"<p>Employees: \").rstrip(\"; field office staff in more than a dozen countries</p>\")\n",
    "\n",
    "#step 3\n",
    "output = f\"{client}\\t{location}\\t{employees}\"\n",
    "\n",
    "print(output)\n"
   ]
  },
  {
   "cell_type": "markdown",
   "id": "0e3ec201",
   "metadata": {},
   "source": [
    "### Practice Problems"
   ]
  },
  {
   "cell_type": "markdown",
   "id": "c4679844",
   "metadata": {},
   "source": [
    "<b>Problem 1</b>: Write a print statement that will print each of the following strings on a new line. Expected output:\n",
    "\n",
    "\n",
    "<i>We are writing code</i>\n",
    "\n",
    "<i>to scrape HTML code.</i>\n",
    "\n",
    "<i>Gahh I love Python.</i>"
   ]
  },
  {
   "cell_type": "code",
   "execution_count": 21,
   "id": "3cf7989a",
   "metadata": {},
   "outputs": [],
   "source": [
    "line1 = \"We are wiring code   | 5\"\n",
    "line2 = \"to scrape HMTL code. | 7\"\n",
    "line3 = \"Gahh I love Python   | 5\"\n",
    "\n",
    "#your code here\n",
    "\n"
   ]
  },
  {
   "cell_type": "markdown",
   "id": "e1fc2a03",
   "metadata": {},
   "source": [
    "<b>Problem 2</b>: Correct the error in this code:"
   ]
  },
  {
   "cell_type": "code",
   "execution_count": null,
   "id": "f35af132",
   "metadata": {},
   "outputs": [],
   "source": [
    "print('There's an error in this code somewhere.')"
   ]
  },
  {
   "cell_type": "code",
   "execution_count": 22,
   "id": "690708b4",
   "metadata": {},
   "outputs": [],
   "source": [
    "# Your code goes here\n",
    "\n"
   ]
  },
  {
   "cell_type": "markdown",
   "id": "720e7dcc",
   "metadata": {},
   "source": [
    "<b>Problem 3:</b> Fix the order of the sentence. Expected output:\n",
    "\n",
    "\n",
    "<i>Now this sentence is correct.</i>\n",
    "\n"
   ]
  },
  {
   "cell_type": "code",
   "execution_count": 23,
   "id": "375c03ea",
   "metadata": {},
   "outputs": [],
   "source": [
    "sentence = 'sentence correct is now this'\n",
    "\n",
    "# your code goes here\n",
    "\n"
   ]
  },
  {
   "cell_type": "markdown",
   "id": "f33b77c6",
   "metadata": {},
   "source": [
    "<b>Problem 4:</b> Remove the white space and underscores from the following string. Expected output: \n",
    "\n",
    "<i>main</i>"
   ]
  },
  {
   "cell_type": "code",
   "execution_count": 24,
   "id": "3b7b2e0d",
   "metadata": {},
   "outputs": [],
   "source": [
    "name = '   __main__   '\n",
    "\n",
    "# your code goes here\n",
    "\n"
   ]
  },
  {
   "cell_type": "markdown",
   "id": "6ff5f177",
   "metadata": {},
   "source": [
    "<b>Problem 5:</b> Comma separated files (each column is separated with a comma) are also among the most widely used file formats. Take the following data and print it as a line that could be inserted into a comma separated table. Expected output:\n",
    "\n",
    "<i>John, Doe, 1984-06-09, Fake Business, Contractor</i>"
   ]
  },
  {
   "cell_type": "code",
   "execution_count": 25,
   "id": "b26212af",
   "metadata": {},
   "outputs": [],
   "source": [
    "first_name_html_line = \"    <p><u>Name</u>: John Doe</p>\"\n",
    "last_name_html_line = \"        <p>Birthdate: 1984-06-09</p>\"\n",
    "organization = \"        <p>Organization: <u>Fake Business<u></p>\"\n",
    "role = \"        <p>Role: Contractor</p>\"\n",
    "\n",
    "#your code goes here\n",
    "\n",
    "\n"
   ]
  }
 ],
 "metadata": {
  "kernelspec": {
   "display_name": "Python 3 (ipykernel)",
   "language": "python",
   "name": "python3"
  },
  "language_info": {
   "codemirror_mode": {
    "name": "ipython",
    "version": 3
   },
   "file_extension": ".py",
   "mimetype": "text/x-python",
   "name": "python",
   "nbconvert_exporter": "python",
   "pygments_lexer": "ipython3",
   "version": "3.9.12"
  }
 },
 "nbformat": 4,
 "nbformat_minor": 5
}
