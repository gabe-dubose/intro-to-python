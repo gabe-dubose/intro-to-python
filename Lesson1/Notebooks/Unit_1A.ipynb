{
 "cells": [
  {
   "cell_type": "markdown",
   "id": "7de66173",
   "metadata": {
    "id": "7de66173"
   },
   "source": [
    "# Unit 1A: How to Manipulate Strings"
   ]
  },
  {
   "cell_type": "markdown",
   "id": "JsIRwNem4SUM",
   "metadata": {
    "id": "JsIRwNem4SUM"
   },
   "source": [
    "<b>Hello, World!</b>\n",
    "\n",
    "Since the 1970s, \"Hello, World!\" programs have been used as the very first introduction to many computer programming languages. The objective is very simple: print the words \"Hello, World!\" to standard output. While this task is simple (it can be achieved with just one line of code), it introduces two very important components of most programming languages. \n",
    "\n",
    "First, <b>print statements</b> are the primary way that a user will be able to see what the program they just wrote is doing. Print statements are useful for tracking what part of your code is currently running, finding errors in code, leaving helpful messages, and many other aspects of programming that will become more clear as you advance.\n",
    "\n",
    "Second, the actual words \"Hello, World!\" is a <b>string</b>, which is one of the primary <b>data types</b> in most programming languages. This unit will focus on introducing other data types, storing this data as <b>variables</b>, and different ways to print this information."
   ]
  },
  {
   "cell_type": "markdown",
   "id": "25f695f9",
   "metadata": {
    "id": "25f695f9"
   },
   "source": [
    "## Strings, Print Statments, and Variables"
   ]
  },
  {
   "cell_type": "markdown",
   "id": "AzzXSMz94n76",
   "metadata": {
    "id": "AzzXSMz94n76"
   },
   "source": [
    "A <b>String</b> is a sequence of characters. In Python, these characters go inside of double or single quotation marks. \n",
    "\n",
    "The syntax for printing a string is:\n",
    "\n",
    "    print(\"[insert string here]\")"
   ]
  },
  {
   "cell_type": "markdown",
   "id": "rxsJL9hZ6hN5",
   "metadata": {
    "id": "rxsJL9hZ6hN5"
   },
   "source": [
    "Write your own print statement in the code cell below:"
   ]
  },
  {
   "cell_type": "code",
   "execution_count": null,
   "id": "4d62f9fe",
   "metadata": {
    "id": "4d62f9fe"
   },
   "outputs": [],
   "source": [
    "# Write your print statment here\n"
   ]
  },
  {
   "cell_type": "markdown",
   "id": "fjGFUhBm5P6O",
   "metadata": {
    "id": "fjGFUhBm5P6O"
   },
   "source": [
    "If you used double quotation marks above, re-write your print statement with single quotation marks. If you used single quotation marks above, re-write your print statement with double quotation marks."
   ]
  },
  {
   "cell_type": "code",
   "execution_count": null,
   "id": "db6b94f1",
   "metadata": {
    "id": "db6b94f1"
   },
   "outputs": [],
   "source": [
    "# Write your print statment here\n"
   ]
  },
  {
   "cell_type": "markdown",
   "id": "ea495355",
   "metadata": {
    "id": "ea495355"
   },
   "source": [
    "If both methods printed the same string, does it really matter if you use single or double quotation marks? Instead of answer that directly, let's see what happens when you put a single quotation mark inside of a string that is enclosed in double quotation makrs, and vise versa.\n",
    "\n",
    "\n",
    "In the code cell below, print a string that is enclosed in single quotation marks and also contains an single quotation mark somewhere in the string."
   ]
  },
  {
   "cell_type": "code",
   "execution_count": null,
   "id": "60d8c527",
   "metadata": {
    "id": "60d8c527",
    "scrolled": false
   },
   "outputs": [],
   "source": [
    "# Write your print statment here\n"
   ]
  },
  {
   "cell_type": "markdown",
   "id": "gIz4iN0m-d19",
   "metadata": {
    "id": "gIz4iN0m-d19"
   },
   "source": [
    "Notice that Python printed an error message instead of the string. This is because Python only knows to read what's between the first two quotation marks, and doesn't know what to do with the rest of the string. \n",
    "\n",
    "This exercise wasn't just to talk about the syntax of printing strings. This was also to introduce you to error messages. <b>Error messages</b> are Python's way of telling you that it doesn't understand part of your code. If you inspect the error message from the cell above, you'll see the specific line of code that the error occured in, with a little arrow pointing to where the error occured at. Python also tells you what type of error it encountered. For this specific issue, we encountered a syntax error. Without getting too in the weeds, you can think of this the same way as incorrect grammer or punctuation in human languages.\n",
    "\n",
    "<br>\n",
    "Just for visualization purposes, here is an example error message and what each part is saying:\n",
    "<br>\n",
    "<br>\n",
    "<i>\n",
    "print('Atlanta's food scene is great!')<font color='red'> <- Line of code</font><br>\n",
    "&nbsp&nbsp&nbsp&nbsp&nbsp&nbsp&nbsp&nbsp&nbsp&nbsp&nbsp&nbsp&nbsp&nbsp&nbsp&nbsp&nbsp&nbsp&nbsp&nbsp&nbsp&nbsp&nbsp&nbsp^<font color='red'> <- Where error occured</font><br>\n",
    "SyntaxError: invalid syntax<font color='red'> <- Error type</font>\n",
    "</i>"
   ]
  },
  {
   "cell_type": "markdown",
   "id": "w5FWfLaKC5UG",
   "metadata": {
    "id": "w5FWfLaKC5UG"
   },
   "source": [
    "In the cell below, see if you can write a print statement to print the same string from above without a syntax error."
   ]
  },
  {
   "cell_type": "code",
   "execution_count": null,
   "id": "27dd75fb",
   "metadata": {
    "id": "27dd75fb"
   },
   "outputs": [],
   "source": [
    "# Write your print statment here\n"
   ]
  },
  {
   "cell_type": "markdown",
   "id": "689c92e2",
   "metadata": {
    "id": "689c92e2"
   },
   "source": [
    "Instead of only dealing with strings inside of print statements, it is often times more useful to be able to store strings as a variable and perform further operations on them. A <b>variable</b> is just a name that we give a string (and other data types that we will discuss later). Once a string has been assigned to a variable, we can refer to the variable name to print the string.\n",
    "<br>\n",
    "<br>\n",
    "The syntax for assigning a variable is:\n",
    "\n",
    "    variable = \"This is a string\"\n",
    "\n",
    "Once we have assigned a string to a variable, we can print the string by putting its variable name in a print statement:\n",
    "\n",
    "    print(variable)"
   ]
  },
  {
   "cell_type": "markdown",
   "id": "IRfivDMoIaSP",
   "metadata": {
    "id": "IRfivDMoIaSP"
   },
   "source": [
    "In the code cell below, write a string and assign it to a variable. Then print the stirng by putting the variable name in a print statement. \n",
    "\n",
    "How you name your variables is more important than it might seem. Python has a few rules that dictate what you can include in a variable name. For example, you cannot include spaces or periods in variable names. If you want to include these characters, we typically use underscores. Another option is to use camel casing, where you capitalize the first letter of each word. Here are a few examples of good and bad variable names:\n",
    "\n",
    "    #Bad variable names\n",
    "    variable name = \"This is a string\"\n",
    "    variable.name = \"This is a string\"\n",
    "\n",
    "    #Good variable names\n",
    "    variable_name = \"This is a string\"\n",
    "    variableName = \"This is a string\"\n",
    "\n",
    "\n",
    "It's also good to name your variable intuitively. In other words, make it easy for someone to look at the variable and get some idea about what information it is storing. In the code cell below, write a string and assign it to a variable."
   ]
  },
  {
   "cell_type": "code",
   "execution_count": null,
   "id": "7d795f1b",
   "metadata": {
    "id": "7d795f1b"
   },
   "outputs": [],
   "source": [
    "#assign a string to a variable here:\n",
    "\n",
    "\n",
    "#print your variable here:\n"
   ]
  },
  {
   "cell_type": "markdown",
   "id": "747c5046",
   "metadata": {
    "id": "747c5046"
   },
   "source": [
    "## Basic String Manipulation"
   ]
  },
  {
   "cell_type": "markdown",
   "id": "1c6fa869",
   "metadata": {
    "id": "1c6fa869"
   },
   "source": [
    "One useful thing we can do with strings is extract certain positions in the string. For example, say we want to just get the word \"Hello\" from \"Hello, World!\" It is important to note is that Python starts counting at 0. Therefore, \"H\" is as position 0, \"e\" is at position 1, \"l\" is at position 2, and so on. Using this, we can just get the word \"Hello\" by selecting the 0-4 positions from \"Hello, World!\"\n",
    "\n",
    "The syntax for extracting positions from a string is:\n",
    "\n",
    "    string_variable[start:stop]\n",
    "\n",
    "The stop position is actually the end position +1 because the end position is <b>exclusive</b>, meaning it does not include the last number. Think of it as selecting all of the positions <i>up until the end position</i>, but not the end position itself."
   ]
  },
  {
   "cell_type": "markdown",
   "id": "i7UMXyyWKbXb",
   "metadata": {
    "id": "i7UMXyyWKbXb"
   },
   "source": [
    "In the cell below, write a string and save it to a variable. Then print the first five letters of your string:"
   ]
  },
  {
   "cell_type": "code",
   "execution_count": null,
   "id": "f9521b8a",
   "metadata": {
    "id": "f9521b8a",
    "scrolled": true
   },
   "outputs": [],
   "source": [
    "# Write your string and assign it to a variable here:\n",
    "\n",
    "\n",
    "# print the first five letters of your string here:\n"
   ]
  },
  {
   "cell_type": "markdown",
   "id": "0FsNTR2aK6nn",
   "metadata": {
    "id": "0FsNTR2aK6nn"
   },
   "source": [
    "Slicing a string actually returns a new string that we can then assign to a variable like:\n",
    "\n",
    "    new_string = string_variable[0:5]\n",
    "  \n",
    "In the code cell below, save your new string to a new variable and print your new variable. "
   ]
  },
  {
   "cell_type": "code",
   "execution_count": null,
   "id": "618738ee",
   "metadata": {
    "id": "618738ee"
   },
   "outputs": [],
   "source": [
    "# Write your string and assign it to a variable here:\n",
    "\n",
    "\n",
    "# Select the first 5 characters in the string and save it to a new variable here:\n",
    "\n",
    "\n",
    "# Print your new variable here:\n",
    "\n"
   ]
  },
  {
   "cell_type": "markdown",
   "id": "d13ab569",
   "metadata": {
    "id": "d13ab569"
   },
   "source": [
    "There are also several shorthand options available for slicing strings. For example, above we selected the 0th position through the 5th position. If we don't specify where to start, Python will assume we want to start at the 0th position. Therefore, if we want to start our slice at the beginning, all we really have to specify is where to stop. \n",
    "\n",
    "    new_string = string_variable[:5]\n",
    "\n",
    "Likewise, you can select the tailing characters in your string by giving leaving the stop position blank. For example, \n",
    "\n",
    "    new_string = string_variable[5:]\n",
    "\n",
    "will select all characters starting at the 5th index and ending at the end of the string.\n",
    "<br>\n",
    "<br>\n",
    "In the code cell below, select the first portion of your string (it doesn't really matter where you stop), without specifying where to start.  "
   ]
  },
  {
   "cell_type": "code",
   "execution_count": null,
   "id": "a08d90ff",
   "metadata": {
    "id": "a08d90ff"
   },
   "outputs": [],
   "source": [
    "# Write your string and assign it to a variable here:\n",
    "\n",
    "\n",
    "# Select the first 5 characters in the string and save it to a new variable here:\n",
    "\n",
    "\n",
    "# Print your new variable here:\n",
    "\n"
   ]
  },
  {
   "cell_type": "markdown",
   "id": "S7CdExfrYeYl",
   "metadata": {
    "id": "S7CdExfrYeYl"
   },
   "source": [
    "Additionally, you can select characters starting from the back of your string by specifying negative position. For example, consider the string below:\n",
    "\n",
    "     A  B  C  D\n",
    "     0  1  2  3\n",
    "\n",
    "It's easy to see that A is at the 0 position, B is at the 1 position, and so on. However, each charactr also has a negative position:\n",
    "\n",
    "     A  B  C  D\n",
    "    -4 -3 -2 -1\n",
    "\n",
    "The cell above represents what the negative position for each character is. Simply put, you just number the string going from right to left and put a negative sign infront of it. The negative sign tells Python to count from the right end of the string, instead of the left. \n",
    "\n",
    "Using this, we can select the last 5 characters from a string like:\n",
    "\n",
    "    new_string = string_variable[-5:]\n",
    "\n",
    "In the example above, we tell Python to start slicing at the -5th position (5th position from the end) and stop slicing at the end of the string."
   ]
  },
  {
   "cell_type": "markdown",
   "id": "30c933ca",
   "metadata": {
    "id": "30c933ca"
   },
   "source": [
    "Whether you specify the 0 or not doesn't really matter. However, there will be cases where you don't know where you'll want to start or stop. This might seem a bit abstract right now, but imagine you are curating a dataset and you want to select just the last 10 characters from every string in that data set. You might not know the length of every string, so it's useful to just leave the last index blank. \n",
    "\n",
    "\n",
    "In the code cell below, select the last 7 characters of a striing. "
   ]
  },
  {
   "cell_type": "code",
   "execution_count": null,
   "id": "35ef4395",
   "metadata": {
    "id": "35ef4395"
   },
   "outputs": [],
   "source": [
    "# Write your string and assign it to a variable here:\n",
    "\n",
    "\n",
    "# Select the first 5 characters in the string and save it to a new variable here:\n",
    "\n",
    "\n",
    "# Print your new variable here:\n",
    "\n"
   ]
  },
  {
   "cell_type": "markdown",
   "id": "e2a02a41",
   "metadata": {
    "id": "e2a02a41"
   },
   "source": [
    "Python also offers a function called <b>len()</b> that tells us the length of a string (and other data types is). We will go more into functions later. For now, just remember that the len() function in Python returns how long your input data is. \n",
    "\n",
    "The basic syntax for using the len() function is:\n",
    "\n",
    "    my_variable = 'This is a string'\n",
    "\n",
    "    character_count = len(my_variable)\n",
    "\n",
    "As with strings, you can store this number to a variable. However, this returned value is an <b>integer</b>, not a string. Just like a string, an integer is one of the data types Python offers. An integer is just a number, which you can do arithmetic with. It's important to note that you can put a number in quotation marks. In this case, the number is just a character in a string, not an integer, and you cannot do arithmetic operations with.\n",
    "\n",
    "We won't do much with this right now, but it is important to introduce because it will become very useful when we start talking about loops. In the code cell below, write a string and use the len() function to count how many characters are in your string. Save this values to another variable. "
   ]
  },
  {
   "cell_type": "code",
   "execution_count": null,
   "id": "5e658184",
   "metadata": {
    "id": "5e658184",
    "scrolled": true
   },
   "outputs": [],
   "source": [
    "# Write your string and assign it to a variable here:\n",
    "\n",
    "\n",
    "# Get the length of the string as save it to a variable\n",
    "\n",
    "\n",
    "# Print your new variable here:\n",
    "\n"
   ]
  },
  {
   "cell_type": "markdown",
   "id": "j0K7Aqqga8y1",
   "metadata": {
    "id": "j0K7Aqqga8y1"
   },
   "source": [
    "Notice how what you printed was an integer, not another string. Since this value is an integer, we can use it to slice the string as well. Recall that the len() function gives you the length of your string. Therefore, we can use this value as the last position in a string, which can be used for slicing a string from the end. In the cell below, select the last portion of a string, using the len() function to specify where to stop slicing at. "
   ]
  },
  {
   "cell_type": "code",
   "execution_count": null,
   "id": "e1PHDbT5bSWp",
   "metadata": {
    "id": "e1PHDbT5bSWp"
   },
   "outputs": [],
   "source": [
    "# Write your string and assign it to a variable here:\n",
    "\n",
    "\n",
    "# Select the last portion of your string using a start position and the len() function. Save this to a new variable:\n",
    "\n",
    "\n",
    "# Print your new variable here:\n",
    "\n"
   ]
  },
  {
   "cell_type": "markdown",
   "id": "Rsj_2S3sbkUP",
   "metadata": {
    "id": "Rsj_2S3sbkUP"
   },
   "source": [
    "### String concatenation and F-strings"
   ]
  },
  {
   "cell_type": "markdown",
   "id": "ir6MHI2mbr8k",
   "metadata": {
    "id": "ir6MHI2mbr8k"
   },
   "source": [
    "We will often want to combine two strings together. In this section we will explore a few options for doing this. \n",
    "\n",
    "<b>String concatentation</b> broadly means combining two strings together end-to-end. One option for doing this in Python is to just add two string using a plus sign:\n",
    "\n",
    "    string_a = \"My favorite place to eat is\"\n",
    "    string_b = \"Alon's\"\n",
    "\n",
    "    full_sentence = string_a + string_b\n",
    "\n",
    "One thing to take note of is when we use the '+' operator, Python will just combine the twp string end-to-end. Therefore, if we printed the <i>full_sentence</i> variable above, we would get:\n",
    "\n",
    "    print(full_sentence)\n",
    "\n",
    "    >>My favorite place to eat isAlon's\n",
    "\n",
    "\n",
    "Notice how there is not space between \"is\" and \"Alon's.\" In order to get proper punctuation and spacing, we have to add it ourselves by adding more strings:\n",
    "\n",
    "    new_full_sentence = string_a + \" \" + string_b + \".\"\n",
    "\n",
    "Notice how in the cell above, we added an empty string with nothing but a space. This is how we insert a space into our new string. Likewise, we added a string with just a period at the end. This would print:\n",
    "\n",
    "    print(new_full_sentence)\n",
    "\n",
    "    >>My favorite place to eat is Alon's.\n"
   ]
  },
  {
   "cell_type": "markdown",
   "id": "x1riXahFd_d8",
   "metadata": {
    "id": "x1riXahFd_d8"
   },
   "source": [
    "In the code cell below, make two (or more) different strings and add them together to form a sentence:"
   ]
  },
  {
   "cell_type": "code",
   "execution_count": null,
   "id": "24e92584",
   "metadata": {
    "id": "24e92584"
   },
   "outputs": [],
   "source": [
    "#Designate your strings here:\n",
    "\n",
    "\n",
    "#Add your strings together to make a sentence (save to new variable) here:\n",
    "\n",
    "\n",
    "#print your new sentence here:\n"
   ]
  },
  {
   "cell_type": "markdown",
   "id": "ef93296d",
   "metadata": {
    "id": "ef93296d"
   },
   "source": [
    "Some questions for thought:\n",
    "\n",
    "<i>*How many unique strings were added together in the above code block?</i>\n",
    "\n",
    "<i>*Can you think of other ways to print the same output?</i>"
   ]
  },
  {
   "cell_type": "markdown",
   "id": "30b28317",
   "metadata": {
    "id": "30b28317"
   },
   "source": [
    "### F-strings"
   ]
  },
  {
   "cell_type": "markdown",
   "id": "8fb86393",
   "metadata": {
    "id": "8fb86393"
   },
   "source": [
    "In some cases, we may want an easier and more concise way to insert variables into strings. Python has a built in method for formatting string, known as <b>f-strings</b>. Consider a situation where we have a list of names and organizations, and we want a quick way to print name tags for people. We will go over loops later, so lets just pretend we have picked out a name from that list, and we want to print it into the string \"Hello, my name is {first_name} {last_name}, and I am with \"{organization}.\" We can accomplish this using an f-string. The basic syntax for an f-string is:\n",
    "\n",
    "    first_name = \"John\"\n",
    "    last_name = \"Doe\"\n",
    "    company = \"Fake Business\"\n",
    "\n",
    "    name_tag = f\"Hello, my name is {first_name} {last_name} and I work for {company}.\"\n",
    "\n",
    "\n",
    "Printing \"name_tag\" would show:\n",
    "\n",
    "    print(name_tag)\n",
    "    >>Hello, my name is John Doe and I work for Fake Business.\n",
    "\n",
    "In short, put the letter \"f\" before the string, type the string just as if you were typing it normally, and put the variables you want to insert in curly brackets."
   ]
  },
  {
   "cell_type": "markdown",
   "id": "ni3WEPBDfrZZ",
   "metadata": {
    "id": "ni3WEPBDfrZZ"
   },
   "source": [
    "In the code cell below: designate a few variables and use them to construct an f-string. "
   ]
  },
  {
   "cell_type": "code",
   "execution_count": null,
   "id": "VVMJz1Ref0tN",
   "metadata": {
    "id": "VVMJz1Ref0tN"
   },
   "outputs": [],
   "source": [
    "#Designate your variables here:\n",
    "\n",
    "\n",
    "#construct your f-string here and save it to a new variable:\n",
    "\n",
    "\n",
    "#print your f-stirng here:\n",
    "\n",
    "\n"
   ]
  },
  {
   "cell_type": "markdown",
   "id": "f9a81d4a",
   "metadata": {
    "id": "f9a81d4a"
   },
   "source": [
    "The main appeal to the f-string approach is that it allows you to write your output in a more human-readable way, as opposed to having many plus signs and spaces. For example, say we have the following two variables:\n",
    "\n",
    "    hello = \"Hello\"\n",
    "    world = \"World\"\n",
    "\n",
    "and say we want to combine these to print \"Hello, world!\" Let's look at how to do this with the two approaches we have learned so far:\n",
    "<br>\n",
    "<br>\n",
    "\n",
    "<b>String concatenation using '+':</b>\n",
    "\n",
    "    hello_world = hello + \",\" + \" \" + world + \"!\"\n",
    "\n",
    "<b>f-string</b>\n",
    "\n",
    "    hello_world = f\"{hello}, {world}!\"\n",
    "\n"
   ]
  },
  {
   "cell_type": "markdown",
   "id": "39f7eb0b",
   "metadata": {
    "id": "39f7eb0b"
   },
   "source": [
    "Notince in the example above that both approachs print the same output. However, using the f-string makes the code a bit more readable. This will become increasingly important with more complex output."
   ]
  }
 ],
 "metadata": {
  "colab": {
   "provenance": []
  },
  "kernelspec": {
   "display_name": "Python 3 (ipykernel)",
   "language": "python",
   "name": "python3"
  },
  "language_info": {
   "codemirror_mode": {
    "name": "ipython",
    "version": 3
   },
   "file_extension": ".py",
   "mimetype": "text/x-python",
   "name": "python",
   "nbconvert_exporter": "python",
   "pygments_lexer": "ipython3",
   "version": "3.9.13"
  },
  "vscode": {
   "interpreter": {
    "hash": "31f2aee4e71d21fbe5cf8b01ff0e069b9275f58929596ceb00d14d90e3e16cd6"
   }
  }
 },
 "nbformat": 4,
 "nbformat_minor": 5
}
