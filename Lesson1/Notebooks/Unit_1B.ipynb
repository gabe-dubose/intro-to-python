{
 "cells": [
  {
   "cell_type": "markdown",
   "id": "ef40554c",
   "metadata": {
    "id": "ef40554c"
   },
   "source": [
    "## Unit 1B: How to Handle White Spaces"
   ]
  },
  {
   "cell_type": "markdown",
   "id": "1ac9b488",
   "metadata": {
    "id": "1ac9b488"
   },
   "source": [
    "<b>What are spaces, tabs, and newlines?</b>\n",
    "\n",
    "This might seem like an odd question. Spaces are the spaces between these words, tabs are slightly longer spaces, and new lines are, well... new lines. Although these seem obvious to us, it is important to understand that anytime there is a space between words, there is a invisible character that tells the computer to leave said space there. The same is true for tabs, new lines, and other kinds of spacings. This might seem like a very specific topic, but in this lesson we will look at how to leverage different spacing patterns to parse data."
   ]
  },
  {
   "cell_type": "markdown",
   "id": "1b5174a0",
   "metadata": {
    "id": "1b5174a0"
   },
   "source": [
    "<b>Spaces</b>\n",
    "\n",
    "There really isn't such thing as a \"space\" in a string on a computer. There must be some invisible character there that tells Python to leave a blank space there. There are a few different characters that can be used. As seen in Unit 1A, we inserted a space between the words \"Hello\" and \"World\" by simply adding \" \" (quotations marks with a space between them) between the words. <br>\n",
    "<br>\n",
    "\n",
    "<b>Tabs</b>\n",
    "\n",
    "Another import spacing character is the tab, denoted as <b>\\t</b>. These characters are often used for indentation in paragraphs, as well as code in Python (which we will see later). In many cases, coding languages that do not require tabs will still be written with tabs to help with human readability.\n",
    "<br>\n",
    "<br>\n",
    "\n",
    "Another reason to explore the usage of tabs is because tabs are often used to separate columns in a table. This file format, refered to as <b>tab-separated values</b> is one of the most widely used formats for storing data in a table structure. Say we have a table that contains information about several resturaunt ratings in the area. If you were to open said table in a tool like Excel, it might look something like this:\n",
    "\n",
    "| Resturaunt | Stars | Comment |\n",
    "| --- | --- | --- |\n",
    "| Flying Biscuit | 4.7 | Great breakfast |\n",
    "| Tin Drum | 4.9 | Amazing variety |\n",
    "| Subway | 3.1 | Nice and quick lunch |\n",
    "\n",
    "<br>\n",
    "Although this table looks nice and clean to us, if we were to read this table into Python strings, it would look like:<br>\n",
    "<br>\n",
    "<i>\n",
    "Resturaunt\\tStars\\tComment\\n<br>\n",
    "Flying Biscuit\\t4.7\\tGreat breakfast\\n<br>\n",
    "Tin Drum\\t4.9\\tAmazing variety\\n<br>\n",
    "Subway\\t3.1\\tNice and quick lunch<br>\n",
    "</i>\n",
    "<br>\n",
    "This isn't near as nice looking. However, learning to handle data like this will prepare you for more complicated tasks.<br>\n",
    "<br>\n",
    "\n",
    "<b>New Lines</b>\n",
    "\n",
    "Characters are read by a computer in a straight line. Anytime we see a new line, there is actually an invisible character telling the computer to show a new line on our screens. This is often denoted as <b>\\n</b>. Notice how in the example above, each line (except the last one) has a \"<i>\\n</i>\" at the end. When we are processing most files, we will want to remove these characters from the ends of lines so that we can better manipulate the data into the output that we want."
   ]
  },
  {
   "cell_type": "markdown",
   "id": "rcYaIevo2vOp",
   "metadata": {
    "id": "rcYaIevo2vOp"
   },
   "source": [
    "### Some practice with tabs"
   ]
  },
  {
   "cell_type": "markdown",
   "id": "MnqSoL3T233b",
   "metadata": {
    "id": "MnqSoL3T233b"
   },
   "source": [
    "One easy way to output tab-separated values (TSV) in Python is to use an f-string. For example, say we have the following variables:\n",
    "\n",
    "    first_name = 'John'\n",
    "    last_name = 'Doe'\n",
    "    organization = 'Generic Business'\n",
    "\n",
    "We can output this data in TSV format like:\n",
    "\n",
    "    data = f\"{first_name}\\t{last_name}\\t{organization}\"\n",
    "\n",
    "and if we were to pring this data:\n",
    "\n",
    "    print(data)\n",
    "    \n",
    "    >>John    Doe    Generic Business\n",
    "\n",
    "<br>\n",
    "Now imagine we have 100 names and organizations. This data is much easier to deal with if we know that all of the names in the first column are first names, all of the names in second columns are last names, and all of the entries in the third column are business. We'll explore the reasoning for that later. For now, let's get some practice. \n",
    "<br>\n",
    "<br>\n",
    "In the code cell below, assign a few strings to some variables and print them out in TSV format."
   ]
  },
  {
   "cell_type": "code",
   "execution_count": null,
   "id": "NF9GHjSF4xks",
   "metadata": {
    "id": "NF9GHjSF4xks"
   },
   "outputs": [],
   "source": [
    "#Designate string variables here\n",
    "\n",
    "\n",
    "#Put them all together in an f-string here\n",
    "\n",
    "\n",
    "#print your f-string here\n",
    "\n",
    "\n"
   ]
  },
  {
   "cell_type": "markdown",
   "id": "57YNpB054_Ns",
   "metadata": {
    "id": "57YNpB054_Ns"
   },
   "source": [
    "### Some practice with new lines"
   ]
  },
  {
   "cell_type": "markdown",
   "id": "KNVjoyDZ5MSh",
   "metadata": {
    "id": "KNVjoyDZ5MSh"
   },
   "source": [
    "In the previous example, you used tabs to separate your data into columns. However, we also want to be able to separate our data into rows as well. For this, we use a new line (\\n) character. Say we have the following f-strings:\n",
    "\n",
    "    data1 = f\"{'John'}\\t{'Doe'}\\t{'Generic Business'}\"\n",
    "    data2 = f\"{'Jimmy'}\\t{'Carter'}\\t{'Former President'}\"\n",
    "\n",
    "One options for printing this data out in two lines is to write two print statements. However, this won't be very practical when we start dealing with data sets that have dozens or even hundreds of rows. A better option would be:\n",
    "\n",
    "    print(f\"{data1}\\n{data2}\"\n",
    "\n",
    "    >>John    Doe      Generic Business\n",
    "      Jimmy   Carter   Former President\n",
    "\n",
    "Now that we have looked at how to use white spaces, let's get some practice. In the code cell below, make four f-strings in TSV format and print them out on new lines."
   ]
  },
  {
   "cell_type": "code",
   "execution_count": null,
   "id": "RLeMUcfa9jbF",
   "metadata": {
    "id": "RLeMUcfa9jbF"
   },
   "outputs": [],
   "source": [
    "#Designate your f-string here\n",
    "\n",
    "\n",
    "#Print your data here\n",
    "\n",
    "\n"
   ]
  },
  {
   "cell_type": "markdown",
   "id": "582d2d2f",
   "metadata": {
    "id": "582d2d2f"
   },
   "source": [
    "### White Spaces and .strip()"
   ]
  },
  {
   "cell_type": "markdown",
   "id": "eb69d12c",
   "metadata": {
    "id": "eb69d12c"
   },
   "source": [
    "Recall how in the introduction to tabs at the beginning of this section, each of the rows in the example table had a \\n character at the end. When we are parsing this type of data in Python, we will need to get rid of these new line character to clean up the data. Python has a functionality for this called <b>.strip()</b>. The default behavior of this function is to remove all leading and trailing spaces from a string, which is exactly what we need to do.\n",
    "\n",
    "We will go over how to do this later, but for now, pretend we have read the table from a previous example into several strings in Python:\n",
    "\n",
    "    header = 'Resturaunt\\tStars\\tComment\\n'\n",
    "    flying_biscuit = 'Flying Biscuit\\t4.7\\tGreat breakfast\\n'\n",
    "    tin_drum = 'Tin Drum\\t4.9\\tAmazing variety\\n'\n",
    "    subway = 'Subway\\t3.1\\tNice and quick lunch'\n",
    "\n",
    "To get rid of the new line characters at the end of these string, we can apply the strip() function as:\n",
    "\n",
    "    header = header.strip()\n",
    "    flying_biscuit = flying_biscuit.strip()\n",
    "    tin_drum = tin_drum.strip()\n",
    "    subway = subway.strip()\n",
    "\n"
   ]
  },
  {
   "cell_type": "markdown",
   "id": "nKrcQy8X-0ox",
   "metadata": {
    "id": "nKrcQy8X-0ox"
   },
   "source": [
    "Now let's get some practice. In the code cell below, write a few strings in TSV format and with new line characters at the end. Print these strings out using an f-string. Then use the strip() function to remove the new line characters and print the strings again."
   ]
  },
  {
   "cell_type": "code",
   "execution_count": null,
   "id": "BWIKqxDTV4CT",
   "metadata": {
    "id": "BWIKqxDTV4CT"
   },
   "outputs": [],
   "source": [
    "#Define your stirng here\n",
    "\n",
    "\n",
    "#Print your string here\n",
    "\n",
    "\n",
    "#Remove the new line character here\n",
    "\n",
    "\n",
    "#Re-print your strings here\n",
    "\n",
    "\n"
   ]
  },
  {
   "cell_type": "markdown",
   "id": "Rz3DGE5Z73a2",
   "metadata": {
    "id": "Rz3DGE5Z73a2"
   },
   "source": [
    "Strip's default behavior is to remove all leading and trailing white spaces. However, strip can be used to remove any character. For example, say there are underscores at the front and back of a string:\n",
    "\n",
    "    constructor = \"__init__\"\n",
    "\n",
    "We can remove the underscores from the front and back of this string using strip:\n",
    "\n",
    "    init_string = constructor.strip('_')\n",
    "\n",
    "And if we print the stirng:\n",
    "\n",
    "    print(init_string)\n",
    "    >>init\n",
    "\n",
    "Notice how we put a string consisting of a single underscore inside of the .strip() function. This string is called an <b>argument</b>, which is a value that provides input to the function. Not all functions have to have arguments, but arguments can be used to customize the behavior of a funtion, like we did in this example."
   ]
  },
  {
   "cell_type": "markdown",
   "id": "7ZM7QaqV9gV6",
   "metadata": {
    "id": "7ZM7QaqV9gV6"
   },
   "source": [
    "### .lstrip() and .rstrip()"
   ]
  },
  {
   "cell_type": "markdown",
   "id": "0QmBAwou9qEW",
   "metadata": {
    "id": "0QmBAwou9qEW"
   },
   "source": [
    ".strip() alone performs the same action to both ends of a string. However, there will be some cases where we only want to strip characters from the start of end of a string. Therefore, we can use .lstrip(), which stands for \"left strip,\" to remove characters from the front of a string, and .rstrip, which stands for \"right strip,\" to remove characters from the end of a string.\n",
    "\n",
    "Say you are cleaning up a data set of Atlanta phone numbers, and you want to remove the area code for all of the phoen numbers. The table might look something like this:\n",
    "\n",
    "| Resturaunt | Phone Number |\n",
    "| --- | --- |\n",
    "| Flying Biscuit | 404-835-2072 |\n",
    "| Tin Drum | 404-205-5650 |\n",
    "| Subway | 404-815-2977 |\n",
    "\n",
    "We'll go over how to do this later, but say you have picked out all of the phone numbers and saved them as stirngs:\n",
    "\n",
    "    flying_biscuit_phone = '404-835-2072'\n",
    "    tin_drum_phone = '404-205-5650'\n",
    "    subway_phone = '404-815-2977'\n",
    "\n",
    "You can delete the area code from each of these strings using lstrip():\n",
    "\n",
    "    flying_biscuit_phone = flying_biscuit_phone.lstrip('404')\n",
    "    tin_drum_phone = tin_drum_phone.lstrip('404')\n",
    "    subway_phone = subway_phone.lstrip(\"404\")\n",
    "\n",
    "And if you print each of these (let's use an f-string to make it 1 line):\n",
    "\n",
    "    print(f\"{flying_biscuit_phone}\\n{tin_drum_phone}\\n{subway_phone}\")\n",
    "    >>835-2072\n",
    "      205-5650\n",
    "      815-2977\n",
    "\n",
    "Of course we could also just slice off the first 4 characters in the strings as discussed in the previous unit. However, this is more so to illustrate a concept."
   ]
  },
  {
   "cell_type": "markdown",
   "id": "Fr5m8XMiB7uc",
   "metadata": {
    "id": "Fr5m8XMiB7uc"
   },
   "source": [
    "Now let's get some practice. In the code cell below write several strings that end with the same characters. Then use rstrip() to remove the characters at the end that the strings have in common."
   ]
  },
  {
   "cell_type": "code",
   "execution_count": null,
   "id": "VUbC4-qBCl1z",
   "metadata": {
    "id": "VUbC4-qBCl1z"
   },
   "outputs": [],
   "source": [
    "#Define your string here\n",
    "\n",
    "\n",
    "#Print your strings here\n",
    "\n",
    "\n",
    "#Use .rstrip() here\n",
    "\n",
    "\n",
    "#Print your strings again here\n",
    "\n"
   ]
  },
  {
   "cell_type": "markdown",
   "id": "952422ba",
   "metadata": {
    "id": "952422ba"
   },
   "source": [
    "### .replace()"
   ]
  },
  {
   "cell_type": "markdown",
   "id": "33b9fe14",
   "metadata": {
    "id": "33b9fe14"
   },
   "source": [
    "Although .strip(), .rstrip(), and .lstrip() will usually get the job done, there are instances where their functionality can be more complex than described in this lesson. This might result in some instances where your code does not work as it should. To avoide this issue, we can also use the <b>.replace()</b> function. This is exactly what it sounds line. The replace function can be applied to a string and takes two string arguments: 1) what to replace and 2) what to replace it with. For example, say we have a string that is in tab-separated values format, and we want to convert it to comma-separated values format:\n",
    "\n",
    "    flying_biscuit = \"Flying Biscuit\\t4.7\\tGreat breakfast\"\n",
    "\n",
    "We can replace all tabs with commas like:\n",
    "\n",
    "    flying_biscuit = flying_biscuit.replace('\\t', ',')\n",
    "\n",
    "And if we print the string:\n",
    "\n",
    "    print(flying_biscuit)\n",
    "    >>Flying Biscuit,4.7,Great breakfast"
   ]
  },
  {
   "cell_type": "markdown",
   "id": "2b65274d",
   "metadata": {
    "id": "2b65274d"
   },
   "source": [
    "### A Worked Example"
   ]
  },
  {
   "cell_type": "markdown",
   "id": "LQ26qU1DE7xG",
   "metadata": {
    "id": "LQ26qU1DE7xG"
   },
   "source": [
    "One task commonly done with Python is webscraping, which is using programming to extract information from webpages. Webpages are usually structured using HTML, which contains many differnt tags that tell the browser how to arrange the webpage. However, we usually want to get rid of these tags and only want the information between the tags. In this example, we will look at how we can use the tools we have learned so far to extract information from lines of HTML."
   ]
  },
  {
   "cell_type": "markdown",
   "id": "371ca846",
   "metadata": {
    "id": "371ca846"
   },
   "source": [
    "Now that we have covered the basics of print statements, variable assignment, and string manipulations, we will go over a worked example, and then into some practice problems. This example will be an early introduction to one of the most important aspects of programming: developing an approach before writing code. This might seem a bit silly because this is not a very complicated example. It would be easy enough to just write the code very quickly. However, it is good to start practicing this because it will make more complex tasks more approachable. That being said, let's get into the example."
   ]
  },
  {
   "cell_type": "markdown",
   "id": "65e69a21",
   "metadata": {
    "id": "65e69a21"
   },
   "source": [
    "We have to following strings:"
   ]
  },
  {
   "cell_type": "code",
   "execution_count": null,
   "id": "b4803ff4",
   "metadata": {
    "id": "b4803ff4",
    "outputId": "d9529a70-8ea3-4ab8-f2b8-29484299023c"
   },
   "outputs": [
    {
     "name": "stdout",
     "output_type": "stream",
     "text": [
      "    <p><u>Client</u>: The Carter Center</p>\n",
      "        <p>Location: 453 John Lewis Freedom Pkwy NE, Atlanta, GA 30307</p>\n",
      "        <p>Employees: 175; field office staff in more than a dozen countries</p>\n"
     ]
    }
   ],
   "source": [
    "client_html_line = f\"    <p><u>Client</u>: The Carter Center</p>\"\n",
    "location_html_line = f\"        <p>Location: 453 John Lewis Freedom Pkwy NE, Atlanta, GA 30307</p>\"\n",
    "employees_html_line = f\"        <p>Employees: 175; field office staff in more than a dozen countries</p>\"\n",
    "\n",
    "print(client_html_line)\n",
    "print(location_html_line)\n",
    "print(employees_html_line)"
   ]
  },
  {
   "cell_type": "markdown",
   "id": "ac804516",
   "metadata": {
    "id": "ac804516"
   },
   "source": [
    "Say we are trying to populate a tab-separated file that can be opened in Excel. Our column headers are <i>Client</i>, <i>City</i>, and <i>Employee Number</i>. Our objective is to print a tab-separated string that has \"The Carter Center\" for the <i>Client</i> column, \"Atlanta\" for the <i>City</i> column, and \"175\" for the employee column."
   ]
  },
  {
   "cell_type": "markdown",
   "id": "d70cf193",
   "metadata": {
    "id": "d70cf193"
   },
   "source": [
    "<u>Approach</u>\n",
    "\n",
    "Step 1: We want to remove the white space from the front of each line. This can be done with .strip().\n",
    "\n",
    "Step 2: We want to remove the unwanted characters from the beginning and end of each line. This can be done with .rstrip() and .lstrip()\n",
    "\n",
    "Step 3: We want to print the strings with a tab between each variable. This can be done with an f-string.\n",
    "\n",
    "<i>Note that we are not writing the exact details of what exactly we are going to type. We are simply writing down what the objective is and how we can accomplish it, and we divide this process up into steps to make it easier for us to think about. Again, this might seem silly because this task is relativly straight forward, but this approach will be useful later.<i/>"
   ]
  },
  {
   "cell_type": "code",
   "execution_count": null,
   "id": "7c95be2b",
   "metadata": {
    "id": "7c95be2b",
    "outputId": "9da61317-eb8e-43f8-c297-10f97718e3a9"
   },
   "outputs": [
    {
     "name": "stdout",
     "output_type": "stream",
     "text": [
      "The Carter Center\tAtlanta\t175\n"
     ]
    }
   ],
   "source": [
    "# step 1 and step 2 are done at the same time\n",
    "client = client_html_line.strip().lstrip(\"<p><u>Client</u>: \").rstrip(\"</p>\")\n",
    "location = location_html_line.strip().lstrip(\"<p>Location: 453 John Lewis Freedom Pkwy NE, \").rstrip(\", GA 30307</p>\")\n",
    "employees = employees_html_line.strip().lstrip(\"<p>Employees: \").rstrip(\"; field office staff in more than a dozen countries</p>\")\n",
    "\n",
    "#step 3\n",
    "output = f\"{client}\\t{location}\\t{employees}\"\n",
    "\n",
    "print(output)"
   ]
  }
 ],
 "metadata": {
  "colab": {
   "provenance": []
  },
  "kernelspec": {
   "display_name": "Python 3 (ipykernel)",
   "language": "python",
   "name": "python3"
  },
  "language_info": {
   "codemirror_mode": {
    "name": "ipython",
    "version": 3
   },
   "file_extension": ".py",
   "mimetype": "text/x-python",
   "name": "python",
   "nbconvert_exporter": "python",
   "pygments_lexer": "ipython3",
   "version": "3.9.13"
  },
  "vscode": {
   "interpreter": {
    "hash": "31f2aee4e71d21fbe5cf8b01ff0e069b9275f58929596ceb00d14d90e3e16cd6"
   }
  }
 },
 "nbformat": 4,
 "nbformat_minor": 5
}
