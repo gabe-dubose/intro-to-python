{
 "cells": [
  {
   "cell_type": "markdown",
   "id": "70e14c4e",
   "metadata": {},
   "source": [
    "## Unit 4A: How to Write Functions and Use Modules"
   ]
  },
  {
   "cell_type": "markdown",
   "id": "b365df5e",
   "metadata": {},
   "source": [
    "As you spend more time coding, you will realize that many of your everyday tasks will become redundant. You will find yourself writing the same or similar code for similar tasks. To make life easier, we can put our code in <b>functions</b>, which are blocks of code that take input and perform the tasks that you put inside of the function. For example, you can write a function that will iterate through an HTML file and return everything that is contained by header tags. Once the function is written, you won't need to rewrite the code again. All you have to do is call the function with different inputs.\n",
    "\n",
    "We have used functions before. Python has built-in functions that we have been using since Unit 1. Things like <i>print()</i>, <i>split()</i>, <i>strip()</i>, <i>len()</i>, and <i>range()</i> are all example of functions that we have used in previous modules. Just like Python offers built in functions, we can make our own as well.\n",
    "    \n",
    "From using the native Python functions, you might have realized a few key things. First, some functions directly alter their target in-place, and others will return some value. We won't go too deep into the former. I would just like to introduce the term <b>Object Oriented Programming</b> (OOP for short), and you can look more into this topic when you feel comfortable with Python. For now, we will focus on writing functions that simply take some input and return some output."
   ]
  },
  {
   "cell_type": "markdown",
   "id": "e3ad89c9",
   "metadata": {},
   "source": [
    "### Defining Functions"
   ]
  },
  {
   "cell_type": "markdown",
   "id": "9098b5dc",
   "metadata": {},
   "source": [
    "Defining a function is simple. The syntax is is generally:\n",
    "\n",
    "    def function_name(argument):\n",
    "        do_something_with_argument\n",
    "        \n",
    "Just as with loops, anything contained by a function needs to be indented."
   ]
  },
  {
   "cell_type": "code",
   "execution_count": 1,
   "id": "9398b22b",
   "metadata": {},
   "outputs": [],
   "source": [
    "def print_a_message(message):\n",
    "    print(message)"
   ]
  },
  {
   "cell_type": "code",
   "execution_count": 2,
   "id": "78a53c8e",
   "metadata": {},
   "outputs": [
    {
     "name": "stdout",
     "output_type": "stream",
     "text": [
      "This function prints the message we put in the 'message' argument.\n"
     ]
    }
   ],
   "source": [
    "print_a_message(\"This function prints the message we put in the 'message' argument.\")"
   ]
  },
  {
   "cell_type": "markdown",
   "id": "647332a3",
   "metadata": {},
   "source": [
    "In the example above, we defined a function (using <b>def</b>) called \"print_a_message.\" This function takes an argument called \"message.\" Notice that you can use the argument you defined as a variable inside of the function. Likewise, you can pass a variable to a function as an argument well:"
   ]
  },
  {
   "cell_type": "code",
   "execution_count": 3,
   "id": "c607d95c",
   "metadata": {},
   "outputs": [
    {
     "name": "stdout",
     "output_type": "stream",
     "text": [
      "This function prints the message we put in the 'message' argument.\n"
     ]
    }
   ],
   "source": [
    "a_message = \"This function prints the message we put in the 'message' argument.\"\n",
    "print_a_message(a_message)"
   ]
  },
  {
   "cell_type": "markdown",
   "id": "91a1ca35",
   "metadata": {},
   "source": [
    "<i>*Notice that we are still able to call the function as long as this notebook is open. We can call it from anywhere in the notebook. However, if you close the notebook, you will need to re-run the cell that contains the funciton to be able to use it again.</i>\n",
    "\n",
    "Functions can take multiple arguments as well. In Lesson 3 we searched through two lists, one of previous client names and another project names. We then printed out if the client name we specified matched the project name. We can put this in a function and have it take 3 arguments: the list with the previous client names, the list with the previous project names, and the name of the client we want to check for. "
   ]
  },
  {
   "cell_type": "code",
   "execution_count": 4,
   "id": "b848fb28",
   "metadata": {},
   "outputs": [
    {
     "name": "stdout",
     "output_type": "stream",
     "text": [
      "Concrete Jungle had the same client name and project name.\n",
      "HumAnS Lab does not have the same client name and project name.\n"
     ]
    }
   ],
   "source": [
    "#define our function\n",
    "def check_client_project(previous_clients, previous_projects, client):\n",
    "    \n",
    "    if client in previous_clients and client in previous_projects:\n",
    "        print(f\"{client} had the same client name and project name.\")\n",
    "    else:\n",
    "        print(f\"{client} does not have the same client name and project name.\")\n",
    "        \n",
    "#define our lists\n",
    "previous_clients = ['Concrete Jungle', 'HumAnS Lab', 'The Bakery', 'The Carter Center', 'GreenLight Fund']\n",
    "previous_projects = ['Concrete Jungle', 'Baby Kicks', 'The Bakery', 'The Carter Center', 'GreenLight Fund']\n",
    "\n",
    "#check for Concrete Jungle\n",
    "check_client_project(previous_clients, previous_projects, 'Concrete Jungle')\n",
    "\n",
    "#check for HumAnS Lab\n",
    "check_client_project(previous_clients, previous_projects, 'HumAnS Lab')"
   ]
  },
  {
   "cell_type": "markdown",
   "id": "4d6d56a4",
   "metadata": {},
   "source": [
    "In the example above, notice that the code inside of the function is exactly the same as the code that we looked at in Unit 3. We have simply put it inside of a function. Of course putting your code inside of a function is not necessary. However, it does make life easier. Say we want to check if the client and project share a name for every name in the list. We could write out the function over and over for each value in the list. However, because we have stored the code in a function, we can call the function inside of a for loop:"
   ]
  },
  {
   "cell_type": "code",
   "execution_count": 5,
   "id": "29af90e1",
   "metadata": {},
   "outputs": [
    {
     "name": "stdout",
     "output_type": "stream",
     "text": [
      "Concrete Jungle had the same client name and project name.\n",
      "HumAnS Lab does not have the same client name and project name.\n",
      "The Bakery had the same client name and project name.\n",
      "The Carter Center had the same client name and project name.\n",
      "GreenLight Fund had the same client name and project name.\n"
     ]
    }
   ],
   "source": [
    "for client in previous_clients:\n",
    "    check_client_project(previous_clients, previous_projects, client)"
   ]
  },
  {
   "cell_type": "markdown",
   "id": "5d4ac76d",
   "metadata": {},
   "source": [
    "In the example above, by calling the \"check_client_project\" function inside of a for loop, we shortened out code from 5 lines to 2 lines. Now consider you had a list of 100 clients. This approach would shorten that code from 100 lines to 2 lines!\n",
    "\n",
    "It is also important to point out that in the \"check_client_project\" function that we defined above, the arguments that we took in our function happened to be the same name as the variables we gave the function. Python will interpret the arguments in order. Let's explore this a bit more just to make sure we understand how functions work.\n",
    "\n",
    "In the cell below, we defined a funciton that simply prints what the first, second, and third arguments are. This is to track the different arguments as we play with their order a little bit."
   ]
  },
  {
   "cell_type": "code",
   "execution_count": 6,
   "id": "20de50f3",
   "metadata": {},
   "outputs": [],
   "source": [
    "def demo_function(first_argument, second_argument, third_argument):\n",
    "    print(f\"{first_argument} is the first argument\")\n",
    "    print(f\"{second_argument} is the second argument\")\n",
    "    print(f\"{third_argument} is the third argument\")"
   ]
  },
  {
   "cell_type": "code",
   "execution_count": 7,
   "id": "67fd51d9",
   "metadata": {},
   "outputs": [
    {
     "name": "stdout",
     "output_type": "stream",
     "text": [
      "Concrete Jungle is the first argument\n",
      "HumAnS Lab is the second argument\n",
      "The Bakery is the third argument\n"
     ]
    }
   ],
   "source": [
    "previous_clients = ['Concrete Jungle', 'HumAnS Lab', 'The Bakery', 'The Carter Center', 'GreenLight Fund']\n",
    "demo_function(previous_clients[0], previous_clients[1], previous_clients[2])"
   ]
  },
  {
   "cell_type": "markdown",
   "id": "48b8ab81",
   "metadata": {},
   "source": [
    "In the example above, we gave the first three items in the \"previous_clients\" list as the three arguments in our \"demo_function.\" This showed that the function prints the arguments in the order that they were given. For example, if we change the order of the arguments we give the function, we will get a differently ordered output. "
   ]
  },
  {
   "cell_type": "code",
   "execution_count": 8,
   "id": "d808f9ec",
   "metadata": {},
   "outputs": [
    {
     "name": "stdout",
     "output_type": "stream",
     "text": [
      "The Bakery is the first argument\n",
      "HumAnS Lab is the second argument\n",
      "Concrete Jungle is the third argument\n"
     ]
    }
   ],
   "source": [
    "previous_clients = ['Concrete Jungle', 'HumAnS Lab', 'The Bakery', 'The Carter Center', 'GreenLight Fund']\n",
    "demo_function(previous_clients[2], previous_clients[1], previous_clients[0])"
   ]
  },
  {
   "cell_type": "markdown",
   "id": "d9f6e214",
   "metadata": {},
   "source": [
    "Since we gave the arguments in reverse order, the function printed them in the reversed order. Another way to give arguments to a function without the order making a difference is to specify which argument is equal to what input:"
   ]
  },
  {
   "cell_type": "code",
   "execution_count": 9,
   "id": "ea885413",
   "metadata": {},
   "outputs": [
    {
     "name": "stdout",
     "output_type": "stream",
     "text": [
      "Concrete Jungle is the first argument\n",
      "HumAnS Lab is the second argument\n",
      "The Bakery is the third argument\n"
     ]
    }
   ],
   "source": [
    "previous_clients = ['Concrete Jungle', 'HumAnS Lab', 'The Bakery', 'The Carter Center', 'GreenLight Fund']\n",
    "demo_function(third_argument = previous_clients[2], second_argument = previous_clients[1], first_argument = previous_clients[0])"
   ]
  },
  {
   "cell_type": "markdown",
   "id": "4c211107",
   "metadata": {},
   "source": [
    "In the example above, we told the function which argument was receiving which value by using the an \"=\" sign. Therefore, it did not matter that the arugments were in reverse order. The function still printed them in the original order."
   ]
  },
  {
   "cell_type": "markdown",
   "id": "2a8ecadb",
   "metadata": {},
   "source": [
    "### Returning Values From Functions"
   ]
  },
  {
   "cell_type": "markdown",
   "id": "c065e7af",
   "metadata": {},
   "source": [
    "Let's recall the <i>len()</i> function. We use this function to get the length of some string or list. This length is returned as an integer. A <b>return</b> value is what a function spits out. In the functions above, all we did was print some messages. However, say we want our function to give us some value or item back that we can save as a variable. To illustrate how to do this, let's recreate the <i>len()</i> function."
   ]
  },
  {
   "cell_type": "code",
   "execution_count": 10,
   "id": "17fc2342",
   "metadata": {},
   "outputs": [],
   "source": [
    "def get_length(list_or_string):\n",
    "    \n",
    "    count = 0\n",
    "    \n",
    "    for item in list_or_string:\n",
    "        count += 1\n",
    "        \n",
    "    return count"
   ]
  },
  {
   "cell_type": "code",
   "execution_count": 11,
   "id": "2e58de0a",
   "metadata": {
    "scrolled": true
   },
   "outputs": [
    {
     "name": "stdout",
     "output_type": "stream",
     "text": [
      "5\n",
      "15\n"
     ]
    }
   ],
   "source": [
    "previous_clients = ['Concrete Jungle', 'HumAnS Lab', 'The Bakery', 'The Carter Center', 'GreenLight Fund']\n",
    "\n",
    "#get length of list\n",
    "previous_clients_length = get_length(previous_clients)\n",
    "print(previous_clients_length)\n",
    "\n",
    "#get length of string\n",
    "previous_clients_first_element_length = get_length(previous_clients[0])\n",
    "print(previous_clients_first_element_length)"
   ]
  },
  {
   "cell_type": "markdown",
   "id": "c9ac06e3",
   "metadata": {},
   "source": [
    "In the example above, we defined a function called \"get_length\" that iterates through some list or string and adds 1 to a counter for every value. At the end of this function, we returned the count. Returning the count allows us to store the output from our function to some variable, which we can then use later. Notice in the example we saved the lenght of the list to the variable \"previous_clients_length\" and the lenght of the fist entry of this list to \"previous_clients_first_element_length.\" All we do is print each of these values, but we could use them for other things as well."
   ]
  },
  {
   "cell_type": "markdown",
   "id": "a9d8dc90",
   "metadata": {},
   "source": [
    "Although we only returned an integer in the example above, you can return any data structure. Return only allows you to return one thing. However, we can return a list that contains multiple pieces of data, and then select which data we want from the returned object. \n",
    "\n",
    "Let's return the the GreenLight_Fund.html page for this example. We will write a function to read the page into a list, and then return the client name and the website."
   ]
  },
  {
   "cell_type": "code",
   "execution_count": 12,
   "id": "3109699c",
   "metadata": {},
   "outputs": [],
   "source": [
    "def get_client_and_website(html_page):\n",
    "    \n",
    "    client = ''\n",
    "    website = ''\n",
    "    \n",
    "    with open(html_page, 'r') as infile:\n",
    "        lines = infile.readlines()\n",
    "        \n",
    "        for line in lines:\n",
    "            line = line.strip()\n",
    "            \n",
    "            #get client name\n",
    "            if line[0:17] == '<p><u>Client</u>:':\n",
    "                client = line.lstrip('<p><u>Client</u>: ').rstrip('</p>')\n",
    "    \n",
    "            #get email\n",
    "            if line[0:18] == '<p><u>Website</u>:':\n",
    "                website = line.split('>')[4][:-3]\n",
    "    \n",
    "    #save the output into a list and return said list\n",
    "    output = [client, website]\n",
    "    \n",
    "    return output"
   ]
  },
  {
   "cell_type": "code",
   "execution_count": 13,
   "id": "2bd89d9f",
   "metadata": {},
   "outputs": [],
   "source": [
    "client_info = get_client_and_website('GreenLight_Fund.html')"
   ]
  },
  {
   "cell_type": "code",
   "execution_count": 14,
   "id": "25144969",
   "metadata": {},
   "outputs": [
    {
     "name": "stdout",
     "output_type": "stream",
     "text": [
      "The GreenLight Fund - Atlanta\n",
      "https://greenlightfund.org/sites/atlanta/\n"
     ]
    }
   ],
   "source": [
    "client_name = client_info[0]\n",
    "client_website = client_info[1]\n",
    "\n",
    "print(client_name)\n",
    "print(client_website)"
   ]
  },
  {
   "cell_type": "markdown",
   "id": "cf43385a",
   "metadata": {},
   "source": [
    "In the example above, we read the GreenLight_Fund.html file into a list, iterated over said list, and extracted the client name and the website. Since we had two outputs we wanted, and we can only return one, we saved the output into a list and returned the list. Now, \"client_info\" is a list that contains the information that we just returned. Then we saved the first item in the list into the \"client_name\" variable, and the second item to the \"client_website\" variable."
   ]
  },
  {
   "cell_type": "markdown",
   "id": "3803f15e",
   "metadata": {},
   "source": [
    "### An Introduction to Modules"
   ]
  },
  {
   "cell_type": "markdown",
   "id": "220a1d92",
   "metadata": {},
   "source": [
    "One of the primary reasons Python is one of the widest used programming languages is because it has an extensive collection of <b>modules</b>. There is a lot of unpack with modules, but the easiest way to think of them is as packages of other people's functions that you can use in your own code. For example, in the previous section, we looked at a function called \"get_client_and_website\" that scraped the \"GreenLight_Fund.html\" page for client names and websites. We could package this function up as a module that other people can use in their code as well. We won't be going over how to create modules, but you can think of them as collections of other useful functions that don't come with Python by default.\n",
    "\n",
    "That being said, Python does have several modules that do come with it. For example, there is a module called <b>re</b> that stands for <b>regular expression</b> that allows us to pattern match in a string. It's not important that you understand re or regular epxressions. This unit is just to introduce how to use modules by using one that comes with Python. \n",
    "\n",
    "To tell your code that you are using a module, you use <b>import</b>."
   ]
  },
  {
   "cell_type": "code",
   "execution_count": 15,
   "id": "680c5aee",
   "metadata": {},
   "outputs": [],
   "source": [
    "import re"
   ]
  },
  {
   "cell_type": "markdown",
   "id": "e4eef052",
   "metadata": {},
   "source": [
    "Now that we have imported re, we can use it's associated functions:"
   ]
  },
  {
   "cell_type": "code",
   "execution_count": 16,
   "id": "7da15272",
   "metadata": {},
   "outputs": [
    {
     "name": "stdout",
     "output_type": "stream",
     "text": [
      "https://greenlightfund.org/sites/atlanta/ is a website.\n"
     ]
    }
   ],
   "source": [
    "website = 'https://greenlightfund.org/sites/atlanta/'\n",
    "\n",
    "if bool(re.match('^https', website)):\n",
    "    print(f\"{website} is a website.\")"
   ]
  },
  {
   "cell_type": "markdown",
   "id": "de802d89",
   "metadata": {},
   "source": [
    "In the example above, we introduced a few new things. These aren't really a focal point of this course, but we use them as a example to expose you to some things that might be useful as you move forward. First, <b>bool()</b> is a function that evaluates something and returns True or False. \n",
    "    \n",
    "Inside of the bool() function, we use <b>re.match()</b> function. Here, the <b>match()</b> function is part of the <b>re</b> module. When you import a module and want to use one of it's functions, you use the module name, a period, and then the function name. The general syntax for using a function in a module is:\n",
    "\n",
    "    module_name.funtion_name(arguments)\n",
    "\n",
    "We could do a whole lesson on regular expressions. Since this isn't a main part of the course, we will gloss over the details. However, regular expressions are very useful, and we encourage you to look at them on your own. Basically, the match() function is checking to see if the string (the website variable) starts with \"https\". Since we put this inside of the bool() function, the overall statement is True, wen we print the message. "
   ]
  },
  {
   "cell_type": "markdown",
   "id": "8a59b174",
   "metadata": {},
   "source": [
    "Also note that you can import specific functions from a module. For exmple, we can import just the match function like:"
   ]
  },
  {
   "cell_type": "code",
   "execution_count": 17,
   "id": "5112b8a6",
   "metadata": {},
   "outputs": [],
   "source": [
    "from re import match"
   ]
  },
  {
   "cell_type": "markdown",
   "id": "6cc12677",
   "metadata": {},
   "source": [
    "Now when we use match, we can just use \"match()\" instead or \"re.match()\":"
   ]
  },
  {
   "cell_type": "code",
   "execution_count": 18,
   "id": "1530e6bc",
   "metadata": {},
   "outputs": [
    {
     "name": "stdout",
     "output_type": "stream",
     "text": [
      "https://greenlightfund.org/sites/atlanta/ is a website.\n"
     ]
    }
   ],
   "source": [
    "website = 'https://greenlightfund.org/sites/atlanta/'\n",
    "\n",
    "if bool(match('^https', website)):\n",
    "    print(f\"{website} is a website.\")"
   ]
  },
  {
   "cell_type": "markdown",
   "id": "365d84e5",
   "metadata": {},
   "source": [
    "This method of importing is not always recomended because there will be cases when you are importing different modules that have functions that are named the same thing. In this case, just use the first method for importing. \n",
    "\n",
    "You can also redefine what your imported module is called. We will look at this using re, but note that this is most useful when functions have long names that you don't want to type out. "
   ]
  },
  {
   "cell_type": "code",
   "execution_count": 19,
   "id": "8cf0c2ec",
   "metadata": {},
   "outputs": [],
   "source": [
    "import re as regex"
   ]
  },
  {
   "cell_type": "code",
   "execution_count": 20,
   "id": "c3619f26",
   "metadata": {},
   "outputs": [
    {
     "name": "stdout",
     "output_type": "stream",
     "text": [
      "https://greenlightfund.org/sites/atlanta/ is a website.\n"
     ]
    }
   ],
   "source": [
    "website = 'https://greenlightfund.org/sites/atlanta/'\n",
    "\n",
    "if bool(regex.match('^https', website)):\n",
    "    print(f\"{website} is a website.\")"
   ]
  },
  {
   "cell_type": "markdown",
   "id": "6bad7673",
   "metadata": {},
   "source": [
    "Again, this is useful when you have modules with long names that you want to condense into a few letters, or to make code more human readable."
   ]
  },
  {
   "cell_type": "markdown",
   "id": "94fd3b8c",
   "metadata": {},
   "source": [
    "### Practice Problems"
   ]
  },
  {
   "cell_type": "markdown",
   "id": "41d5a99b",
   "metadata": {},
   "source": [
    "Write a function that will take two inputs: 1) an HTML file, and 2) a key word that specifies what you want to get from that HTML file. The HTML input file will be the <i>Recent_Projects_Simple.html</i>. The function must be able to take 6 key words that correspond with the 6 different fields provided for each project. These words are:\n",
    "\n",
    "    1) \"Project\" - contained by \\<h2>\\</h2> and \\<b>\\</b> HTML tags\n",
    "    2) \"Client\" - contained by \\<p>\\</p> and \\<u>\\</u> HTML tags\n",
    "    3) \"Website\" - contained by \\<p>\\</p> and \\<u>\\</u> HTML tags\n",
    "    4) \"Main_Location\" - contained by \\<p>\\</p> and \\<u>\\</u> HTML tags\n",
    "    5) \"Tools_Used\" - contained by \\<p>\\</p> and \\<u>\\</u> HTML tags\n",
    "    6) \"Description\" - contained by \\<p>\\</p> and \\<u>\\</u> HTML tags\n",
    "\n",
    "For example, say the function is called \"get_field,\" if we run this function as:\n",
    "\n",
    "    websites = get_field('Recent_Projects_Simple.html', 'Website')\n",
    "\n",
    "the functions should return a list of every website in the HTML file. The same is true for the other fields. If the key word was \"Client\", the function should return a list of all of the clients in the HTML file.\n",
    "\n",
    "Once you have written this function test it on each of the 6 key words."
   ]
  },
  {
   "cell_type": "code",
   "execution_count": 21,
   "id": "bec8a19e",
   "metadata": {},
   "outputs": [],
   "source": [
    "#write your solution below\n",
    "\n",
    "\n",
    "\n"
   ]
  }
 ],
 "metadata": {
  "kernelspec": {
   "display_name": "Python 3 (ipykernel)",
   "language": "python",
   "name": "python3"
  },
  "language_info": {
   "codemirror_mode": {
    "name": "ipython",
    "version": 3
   },
   "file_extension": ".py",
   "mimetype": "text/x-python",
   "name": "python",
   "nbconvert_exporter": "python",
   "pygments_lexer": "ipython3",
   "version": "3.9.12"
  }
 },
 "nbformat": 4,
 "nbformat_minor": 5
}
